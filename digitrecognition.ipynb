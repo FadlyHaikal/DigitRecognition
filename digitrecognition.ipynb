{
  "nbformat": 4,
  "nbformat_minor": 0,
  "metadata": {
    "colab": {
      "provenance": [],
      "mount_file_id": "https://gist.github.com/FadlyHaikal/7a902140e91206a87d338605a83e62ab#file-digitrecognition-ipynb",
      "authorship_tag": "ABX9TyOiHgUWkFXbxug1z8dVM2kQ",
      "include_colab_link": true
    },
    "kernelspec": {
      "name": "python3",
      "display_name": "Python 3"
    },
    "language_info": {
      "name": "python"
    }
  },
  "cells": [
    {
      "cell_type": "markdown",
      "metadata": {
        "id": "view-in-github",
        "colab_type": "text"
      },
      "source": [
        "<a href=\"https://colab.research.google.com/github/FadlyHaikal/DigitRecognition/blob/main/digitrecognition.ipynb\" target=\"_parent\"><img src=\"https://colab.research.google.com/assets/colab-badge.svg\" alt=\"Open In Colab\"/></a>"
      ]
    },
    {
      "cell_type": "code",
      "source": [
        "!pip install streamlit==1.13.0\n",
        "!npm install -g localtunnel\n",
        "!pip install streamlit-drawable-canvas"
      ],
      "metadata": {
        "colab": {
          "base_uri": "https://localhost:8080/"
        },
        "id": "da5JLo9ndTsL",
        "outputId": "e0a3f94a-ad7a-40c0-8f9c-8e7712220ee8"
      },
      "execution_count": 1,
      "outputs": [
        {
          "output_type": "stream",
          "name": "stdout",
          "text": [
            "Looking in indexes: https://pypi.org/simple, https://us-python.pkg.dev/colab-wheels/public/simple/\n",
            "Collecting streamlit==1.13.0\n",
            "  Downloading streamlit-1.13.0-py2.py3-none-any.whl (9.2 MB)\n",
            "\u001b[2K     \u001b[90m━━━━━━━━━━━━━━━━━━━━━━━━━━━━━━━━━━━━━━━━\u001b[0m \u001b[32m9.2/9.2 MB\u001b[0m \u001b[31m71.4 MB/s\u001b[0m eta \u001b[36m0:00:00\u001b[0m\n",
            "\u001b[?25hCollecting pydeck>=0.1.dev5\n",
            "  Downloading pydeck-0.8.0-py2.py3-none-any.whl (4.7 MB)\n",
            "\u001b[2K     \u001b[90m━━━━━━━━━━━━━━━━━━━━━━━━━━━━━━━━━━━━━━━━\u001b[0m \u001b[32m4.7/4.7 MB\u001b[0m \u001b[31m71.2 MB/s\u001b[0m eta \u001b[36m0:00:00\u001b[0m\n",
            "\u001b[?25hRequirement already satisfied: packaging>=14.1 in /usr/local/lib/python3.8/dist-packages (from streamlit==1.13.0) (21.3)\n",
            "Requirement already satisfied: pandas>=0.21.0 in /usr/local/lib/python3.8/dist-packages (from streamlit==1.13.0) (1.3.5)\n",
            "Collecting semver\n",
            "  Downloading semver-2.13.0-py2.py3-none-any.whl (12 kB)\n",
            "Requirement already satisfied: click>=7.0 in /usr/local/lib/python3.8/dist-packages (from streamlit==1.13.0) (7.1.2)\n",
            "Requirement already satisfied: cachetools>=4.0 in /usr/local/lib/python3.8/dist-packages (from streamlit==1.13.0) (5.2.1)\n",
            "Requirement already satisfied: pillow>=6.2.0 in /usr/local/lib/python3.8/dist-packages (from streamlit==1.13.0) (7.1.2)\n",
            "Requirement already satisfied: pyarrow>=4.0 in /usr/local/lib/python3.8/dist-packages (from streamlit==1.13.0) (9.0.0)\n",
            "Requirement already satisfied: tornado>=5.0 in /usr/local/lib/python3.8/dist-packages (from streamlit==1.13.0) (6.0.4)\n",
            "Collecting validators>=0.2\n",
            "  Downloading validators-0.20.0.tar.gz (30 kB)\n",
            "  Preparing metadata (setup.py) ... \u001b[?25l\u001b[?25hdone\n",
            "Collecting blinker>=1.0.0\n",
            "  Downloading blinker-1.5-py2.py3-none-any.whl (12 kB)\n",
            "Collecting pympler>=0.9\n",
            "  Downloading Pympler-1.0.1-py3-none-any.whl (164 kB)\n",
            "\u001b[2K     \u001b[90m━━━━━━━━━━━━━━━━━━━━━━━━━━━━━━━━━━━━━━\u001b[0m \u001b[32m164.8/164.8 KB\u001b[0m \u001b[31m12.1 MB/s\u001b[0m eta \u001b[36m0:00:00\u001b[0m\n",
            "\u001b[?25hCollecting watchdog\n",
            "  Downloading watchdog-2.2.1-py3-none-manylinux2014_x86_64.whl (78 kB)\n",
            "\u001b[2K     \u001b[90m━━━━━━━━━━━━━━━━━━━━━━━━━━━━━━━━━━━━━━━━\u001b[0m \u001b[32m79.0/79.0 KB\u001b[0m \u001b[31m5.1 MB/s\u001b[0m eta \u001b[36m0:00:00\u001b[0m\n",
            "\u001b[?25hRequirement already satisfied: altair>=3.2.0 in /usr/local/lib/python3.8/dist-packages (from streamlit==1.13.0) (4.2.0)\n",
            "Requirement already satisfied: typing-extensions>=3.10.0.0 in /usr/local/lib/python3.8/dist-packages (from streamlit==1.13.0) (4.4.0)\n",
            "Collecting rich>=10.11.0\n",
            "  Downloading rich-13.2.0-py3-none-any.whl (238 kB)\n",
            "\u001b[2K     \u001b[90m━━━━━━━━━━━━━━━━━━━━━━━━━━━━━━━━━━━━━━\u001b[0m \u001b[32m238.9/238.9 KB\u001b[0m \u001b[31m13.6 MB/s\u001b[0m eta \u001b[36m0:00:00\u001b[0m\n",
            "\u001b[?25hRequirement already satisfied: requests>=2.4 in /usr/local/lib/python3.8/dist-packages (from streamlit==1.13.0) (2.25.1)\n",
            "Requirement already satisfied: protobuf!=3.20.2,<4,>=3.12 in /usr/local/lib/python3.8/dist-packages (from streamlit==1.13.0) (3.19.6)\n",
            "Requirement already satisfied: toml in /usr/local/lib/python3.8/dist-packages (from streamlit==1.13.0) (0.10.2)\n",
            "Requirement already satisfied: importlib-metadata>=1.4 in /usr/local/lib/python3.8/dist-packages (from streamlit==1.13.0) (6.0.0)\n",
            "Requirement already satisfied: numpy in /usr/local/lib/python3.8/dist-packages (from streamlit==1.13.0) (1.21.6)\n",
            "Collecting gitpython!=3.1.19\n",
            "  Downloading GitPython-3.1.30-py3-none-any.whl (184 kB)\n",
            "\u001b[2K     \u001b[90m━━━━━━━━━━━━━━━━━━━━━━━━━━━━━━━━━━━━━━━\u001b[0m \u001b[32m184.0/184.0 KB\u001b[0m \u001b[31m3.7 MB/s\u001b[0m eta \u001b[36m0:00:00\u001b[0m\n",
            "\u001b[?25hRequirement already satisfied: tzlocal>=1.1 in /usr/local/lib/python3.8/dist-packages (from streamlit==1.13.0) (1.5.1)\n",
            "Requirement already satisfied: python-dateutil in /usr/local/lib/python3.8/dist-packages (from streamlit==1.13.0) (2.8.2)\n",
            "Requirement already satisfied: jsonschema>=3.0 in /usr/local/lib/python3.8/dist-packages (from altair>=3.2.0->streamlit==1.13.0) (4.3.3)\n",
            "Requirement already satisfied: toolz in /usr/local/lib/python3.8/dist-packages (from altair>=3.2.0->streamlit==1.13.0) (0.12.0)\n",
            "Requirement already satisfied: entrypoints in /usr/local/lib/python3.8/dist-packages (from altair>=3.2.0->streamlit==1.13.0) (0.4)\n",
            "Requirement already satisfied: jinja2 in /usr/local/lib/python3.8/dist-packages (from altair>=3.2.0->streamlit==1.13.0) (2.11.3)\n",
            "Collecting gitdb<5,>=4.0.1\n",
            "  Downloading gitdb-4.0.10-py3-none-any.whl (62 kB)\n",
            "\u001b[2K     \u001b[90m━━━━━━━━━━━━━━━━━━━━━━━━━━━━━━━━━━━━━━━━\u001b[0m \u001b[32m62.7/62.7 KB\u001b[0m \u001b[31m6.0 MB/s\u001b[0m eta \u001b[36m0:00:00\u001b[0m\n",
            "\u001b[?25hRequirement already satisfied: zipp>=0.5 in /usr/local/lib/python3.8/dist-packages (from importlib-metadata>=1.4->streamlit==1.13.0) (3.11.0)\n",
            "Requirement already satisfied: pyparsing!=3.0.5,>=2.0.2 in /usr/local/lib/python3.8/dist-packages (from packaging>=14.1->streamlit==1.13.0) (3.0.9)\n",
            "Requirement already satisfied: pytz>=2017.3 in /usr/local/lib/python3.8/dist-packages (from pandas>=0.21.0->streamlit==1.13.0) (2022.7)\n",
            "Requirement already satisfied: six>=1.5 in /usr/local/lib/python3.8/dist-packages (from python-dateutil->streamlit==1.13.0) (1.15.0)\n",
            "Requirement already satisfied: certifi>=2017.4.17 in /usr/local/lib/python3.8/dist-packages (from requests>=2.4->streamlit==1.13.0) (2022.12.7)\n",
            "Requirement already satisfied: idna<3,>=2.5 in /usr/local/lib/python3.8/dist-packages (from requests>=2.4->streamlit==1.13.0) (2.10)\n",
            "Requirement already satisfied: chardet<5,>=3.0.2 in /usr/local/lib/python3.8/dist-packages (from requests>=2.4->streamlit==1.13.0) (4.0.0)\n",
            "Requirement already satisfied: urllib3<1.27,>=1.21.1 in /usr/local/lib/python3.8/dist-packages (from requests>=2.4->streamlit==1.13.0) (1.24.3)\n",
            "Requirement already satisfied: pygments<3.0.0,>=2.6.0 in /usr/local/lib/python3.8/dist-packages (from rich>=10.11.0->streamlit==1.13.0) (2.6.1)\n",
            "Collecting markdown-it-py<3.0.0,>=2.1.0\n",
            "  Downloading markdown_it_py-2.1.0-py3-none-any.whl (84 kB)\n",
            "\u001b[2K     \u001b[90m━━━━━━━━━━━━━━━━━━━━━━━━━━━━━━━━━━━━━━━━\u001b[0m \u001b[32m84.5/84.5 KB\u001b[0m \u001b[31m6.8 MB/s\u001b[0m eta \u001b[36m0:00:00\u001b[0m\n",
            "\u001b[?25hRequirement already satisfied: decorator>=3.4.0 in /usr/local/lib/python3.8/dist-packages (from validators>=0.2->streamlit==1.13.0) (4.4.2)\n",
            "Collecting smmap<6,>=3.0.1\n",
            "  Downloading smmap-5.0.0-py3-none-any.whl (24 kB)\n",
            "Requirement already satisfied: MarkupSafe>=0.23 in /usr/local/lib/python3.8/dist-packages (from jinja2->altair>=3.2.0->streamlit==1.13.0) (2.0.1)\n",
            "Requirement already satisfied: pyrsistent!=0.17.0,!=0.17.1,!=0.17.2,>=0.14.0 in /usr/local/lib/python3.8/dist-packages (from jsonschema>=3.0->altair>=3.2.0->streamlit==1.13.0) (0.19.3)\n",
            "Requirement already satisfied: attrs>=17.4.0 in /usr/local/lib/python3.8/dist-packages (from jsonschema>=3.0->altair>=3.2.0->streamlit==1.13.0) (22.2.0)\n",
            "Requirement already satisfied: importlib-resources>=1.4.0 in /usr/local/lib/python3.8/dist-packages (from jsonschema>=3.0->altair>=3.2.0->streamlit==1.13.0) (5.10.2)\n",
            "Collecting mdurl~=0.1\n",
            "  Downloading mdurl-0.1.2-py3-none-any.whl (10.0 kB)\n",
            "Building wheels for collected packages: validators\n",
            "  Building wheel for validators (setup.py) ... \u001b[?25l\u001b[?25hdone\n",
            "  Created wheel for validators: filename=validators-0.20.0-py3-none-any.whl size=19581 sha256=a012568dd804a79bfc969fde654bf6f103fa30942582612b415b568fbcb21994\n",
            "  Stored in directory: /root/.cache/pip/wheels/19/09/72/3eb74d236bb48bd0f3c6c3c83e4e0c5bbfcbcad7c6c3539db8\n",
            "Successfully built validators\n",
            "Installing collected packages: watchdog, validators, smmap, semver, pympler, mdurl, blinker, pydeck, markdown-it-py, gitdb, rich, gitpython, streamlit\n",
            "Successfully installed blinker-1.5 gitdb-4.0.10 gitpython-3.1.30 markdown-it-py-2.1.0 mdurl-0.1.2 pydeck-0.8.0 pympler-1.0.1 rich-13.2.0 semver-2.13.0 smmap-5.0.0 streamlit-1.13.0 validators-0.20.0 watchdog-2.2.1\n",
            "\u001b[K\u001b[?25h/tools/node/bin/lt -> /tools/node/lib/node_modules/localtunnel/bin/lt.js\n",
            "\u001b[K\u001b[?25h+ localtunnel@2.0.2\n",
            "added 22 packages from 22 contributors in 2.511s\n",
            "Looking in indexes: https://pypi.org/simple, https://us-python.pkg.dev/colab-wheels/public/simple/\n",
            "Collecting streamlit-drawable-canvas\n",
            "  Downloading streamlit_drawable_canvas-0.9.2-py3-none-any.whl (1.2 MB)\n",
            "\u001b[2K     \u001b[90m━━━━━━━━━━━━━━━━━━━━━━━━━━━━━━━━━━━━━━━━\u001b[0m \u001b[32m1.2/1.2 MB\u001b[0m \u001b[31m39.5 MB/s\u001b[0m eta \u001b[36m0:00:00\u001b[0m\n",
            "\u001b[?25hRequirement already satisfied: streamlit>=0.63 in /usr/local/lib/python3.8/dist-packages (from streamlit-drawable-canvas) (1.13.0)\n",
            "Requirement already satisfied: Pillow in /usr/local/lib/python3.8/dist-packages (from streamlit-drawable-canvas) (7.1.2)\n",
            "Requirement already satisfied: numpy in /usr/local/lib/python3.8/dist-packages (from streamlit-drawable-canvas) (1.21.6)\n",
            "Requirement already satisfied: watchdog in /usr/local/lib/python3.8/dist-packages (from streamlit>=0.63->streamlit-drawable-canvas) (2.2.1)\n",
            "Requirement already satisfied: pyarrow>=4.0 in /usr/local/lib/python3.8/dist-packages (from streamlit>=0.63->streamlit-drawable-canvas) (9.0.0)\n",
            "Requirement already satisfied: altair>=3.2.0 in /usr/local/lib/python3.8/dist-packages (from streamlit>=0.63->streamlit-drawable-canvas) (4.2.0)\n",
            "Requirement already satisfied: pandas>=0.21.0 in /usr/local/lib/python3.8/dist-packages (from streamlit>=0.63->streamlit-drawable-canvas) (1.3.5)\n",
            "Requirement already satisfied: cachetools>=4.0 in /usr/local/lib/python3.8/dist-packages (from streamlit>=0.63->streamlit-drawable-canvas) (5.2.1)\n",
            "Requirement already satisfied: pympler>=0.9 in /usr/local/lib/python3.8/dist-packages (from streamlit>=0.63->streamlit-drawable-canvas) (1.0.1)\n",
            "Requirement already satisfied: packaging>=14.1 in /usr/local/lib/python3.8/dist-packages (from streamlit>=0.63->streamlit-drawable-canvas) (21.3)\n",
            "Requirement already satisfied: validators>=0.2 in /usr/local/lib/python3.8/dist-packages (from streamlit>=0.63->streamlit-drawable-canvas) (0.20.0)\n",
            "Requirement already satisfied: click>=7.0 in /usr/local/lib/python3.8/dist-packages (from streamlit>=0.63->streamlit-drawable-canvas) (7.1.2)\n",
            "Requirement already satisfied: typing-extensions>=3.10.0.0 in /usr/local/lib/python3.8/dist-packages (from streamlit>=0.63->streamlit-drawable-canvas) (4.4.0)\n",
            "Requirement already satisfied: importlib-metadata>=1.4 in /usr/local/lib/python3.8/dist-packages (from streamlit>=0.63->streamlit-drawable-canvas) (6.0.0)\n",
            "Requirement already satisfied: tornado>=5.0 in /usr/local/lib/python3.8/dist-packages (from streamlit>=0.63->streamlit-drawable-canvas) (6.0.4)\n",
            "Requirement already satisfied: python-dateutil in /usr/local/lib/python3.8/dist-packages (from streamlit>=0.63->streamlit-drawable-canvas) (2.8.2)\n",
            "Requirement already satisfied: rich>=10.11.0 in /usr/local/lib/python3.8/dist-packages (from streamlit>=0.63->streamlit-drawable-canvas) (13.2.0)\n",
            "Requirement already satisfied: protobuf!=3.20.2,<4,>=3.12 in /usr/local/lib/python3.8/dist-packages (from streamlit>=0.63->streamlit-drawable-canvas) (3.19.6)\n",
            "Requirement already satisfied: semver in /usr/local/lib/python3.8/dist-packages (from streamlit>=0.63->streamlit-drawable-canvas) (2.13.0)\n",
            "Requirement already satisfied: blinker>=1.0.0 in /usr/local/lib/python3.8/dist-packages (from streamlit>=0.63->streamlit-drawable-canvas) (1.5)\n",
            "Requirement already satisfied: gitpython!=3.1.19 in /usr/local/lib/python3.8/dist-packages (from streamlit>=0.63->streamlit-drawable-canvas) (3.1.30)\n",
            "Requirement already satisfied: requests>=2.4 in /usr/local/lib/python3.8/dist-packages (from streamlit>=0.63->streamlit-drawable-canvas) (2.25.1)\n",
            "Requirement already satisfied: toml in /usr/local/lib/python3.8/dist-packages (from streamlit>=0.63->streamlit-drawable-canvas) (0.10.2)\n",
            "Requirement already satisfied: tzlocal>=1.1 in /usr/local/lib/python3.8/dist-packages (from streamlit>=0.63->streamlit-drawable-canvas) (1.5.1)\n",
            "Requirement already satisfied: pydeck>=0.1.dev5 in /usr/local/lib/python3.8/dist-packages (from streamlit>=0.63->streamlit-drawable-canvas) (0.8.0)\n",
            "Requirement already satisfied: jinja2 in /usr/local/lib/python3.8/dist-packages (from altair>=3.2.0->streamlit>=0.63->streamlit-drawable-canvas) (2.11.3)\n",
            "Requirement already satisfied: jsonschema>=3.0 in /usr/local/lib/python3.8/dist-packages (from altair>=3.2.0->streamlit>=0.63->streamlit-drawable-canvas) (4.3.3)\n",
            "Requirement already satisfied: entrypoints in /usr/local/lib/python3.8/dist-packages (from altair>=3.2.0->streamlit>=0.63->streamlit-drawable-canvas) (0.4)\n",
            "Requirement already satisfied: toolz in /usr/local/lib/python3.8/dist-packages (from altair>=3.2.0->streamlit>=0.63->streamlit-drawable-canvas) (0.12.0)\n",
            "Requirement already satisfied: gitdb<5,>=4.0.1 in /usr/local/lib/python3.8/dist-packages (from gitpython!=3.1.19->streamlit>=0.63->streamlit-drawable-canvas) (4.0.10)\n",
            "Requirement already satisfied: zipp>=0.5 in /usr/local/lib/python3.8/dist-packages (from importlib-metadata>=1.4->streamlit>=0.63->streamlit-drawable-canvas) (3.11.0)\n",
            "Requirement already satisfied: pyparsing!=3.0.5,>=2.0.2 in /usr/local/lib/python3.8/dist-packages (from packaging>=14.1->streamlit>=0.63->streamlit-drawable-canvas) (3.0.9)\n",
            "Requirement already satisfied: pytz>=2017.3 in /usr/local/lib/python3.8/dist-packages (from pandas>=0.21.0->streamlit>=0.63->streamlit-drawable-canvas) (2022.7)\n",
            "Requirement already satisfied: six>=1.5 in /usr/local/lib/python3.8/dist-packages (from python-dateutil->streamlit>=0.63->streamlit-drawable-canvas) (1.15.0)\n",
            "Requirement already satisfied: idna<3,>=2.5 in /usr/local/lib/python3.8/dist-packages (from requests>=2.4->streamlit>=0.63->streamlit-drawable-canvas) (2.10)\n",
            "Requirement already satisfied: certifi>=2017.4.17 in /usr/local/lib/python3.8/dist-packages (from requests>=2.4->streamlit>=0.63->streamlit-drawable-canvas) (2022.12.7)\n",
            "Requirement already satisfied: chardet<5,>=3.0.2 in /usr/local/lib/python3.8/dist-packages (from requests>=2.4->streamlit>=0.63->streamlit-drawable-canvas) (4.0.0)\n",
            "Requirement already satisfied: urllib3<1.27,>=1.21.1 in /usr/local/lib/python3.8/dist-packages (from requests>=2.4->streamlit>=0.63->streamlit-drawable-canvas) (1.24.3)\n",
            "Requirement already satisfied: markdown-it-py<3.0.0,>=2.1.0 in /usr/local/lib/python3.8/dist-packages (from rich>=10.11.0->streamlit>=0.63->streamlit-drawable-canvas) (2.1.0)\n",
            "Requirement already satisfied: pygments<3.0.0,>=2.6.0 in /usr/local/lib/python3.8/dist-packages (from rich>=10.11.0->streamlit>=0.63->streamlit-drawable-canvas) (2.6.1)\n",
            "Requirement already satisfied: decorator>=3.4.0 in /usr/local/lib/python3.8/dist-packages (from validators>=0.2->streamlit>=0.63->streamlit-drawable-canvas) (4.4.2)\n",
            "Requirement already satisfied: smmap<6,>=3.0.1 in /usr/local/lib/python3.8/dist-packages (from gitdb<5,>=4.0.1->gitpython!=3.1.19->streamlit>=0.63->streamlit-drawable-canvas) (5.0.0)\n",
            "Requirement already satisfied: MarkupSafe>=0.23 in /usr/local/lib/python3.8/dist-packages (from jinja2->altair>=3.2.0->streamlit>=0.63->streamlit-drawable-canvas) (2.0.1)\n",
            "Requirement already satisfied: pyrsistent!=0.17.0,!=0.17.1,!=0.17.2,>=0.14.0 in /usr/local/lib/python3.8/dist-packages (from jsonschema>=3.0->altair>=3.2.0->streamlit>=0.63->streamlit-drawable-canvas) (0.19.3)\n",
            "Requirement already satisfied: importlib-resources>=1.4.0 in /usr/local/lib/python3.8/dist-packages (from jsonschema>=3.0->altair>=3.2.0->streamlit>=0.63->streamlit-drawable-canvas) (5.10.2)\n",
            "Requirement already satisfied: attrs>=17.4.0 in /usr/local/lib/python3.8/dist-packages (from jsonschema>=3.0->altair>=3.2.0->streamlit>=0.63->streamlit-drawable-canvas) (22.2.0)\n",
            "Requirement already satisfied: mdurl~=0.1 in /usr/local/lib/python3.8/dist-packages (from markdown-it-py<3.0.0,>=2.1.0->rich>=10.11.0->streamlit>=0.63->streamlit-drawable-canvas) (0.1.2)\n",
            "Installing collected packages: streamlit-drawable-canvas\n",
            "Successfully installed streamlit-drawable-canvas-0.9.2\n"
          ]
        }
      ]
    },
    {
      "cell_type": "code",
      "execution_count": 2,
      "metadata": {
        "id": "bjUYrVHxdYo0"
      },
      "outputs": [],
      "source": [
        "import numpy as np\n",
        "import cv2\n",
        "import matplotlib.pyplot as plt\n",
        "import os \n",
        "from sklearn.model_selection import train_test_split\n",
        "from sklearn.ensemble import RandomForestClassifier\n",
        "from sklearn import model_selection, svm, preprocessing\n",
        "from sklearn.metrics import accuracy_score,confusion_matrix\n",
        "from tensorflow import keras\n",
        "from sklearn.neighbors import KNeighborsClassifier\n",
        "import joblib"
      ]
    },
    {
      "cell_type": "code",
      "source": [
        "from google.colab import drive\n",
        "drive.mount('/content/drive')"
      ],
      "metadata": {
        "colab": {
          "base_uri": "https://localhost:8080/"
        },
        "id": "BKB47B9yKTV9",
        "outputId": "8ad2059f-238d-4572-8015-4a230de867ba"
      },
      "execution_count": 3,
      "outputs": [
        {
          "output_type": "stream",
          "name": "stdout",
          "text": [
            "Mounted at /content/drive\n"
          ]
        }
      ]
    },
    {
      "cell_type": "code",
      "source": [
        "def get_path_list(root_path):\n",
        "    # compute list directories in root path\n",
        "    root = os.listdir(root_path) \n",
        "    # initilize array to store folder path in root directory \n",
        "    folder_path_list = [] \n",
        "\n",
        "    # looping through root directory\n",
        "    for index, folder_path in enumerate(root):\n",
        "        # append folder path\n",
        "        folder_path_list.append(folder_path)\n",
        "\n",
        "    return folder_path_list"
      ],
      "metadata": {
        "id": "P4vH7ghggxXu"
      },
      "execution_count": 4,
      "outputs": []
    },
    {
      "cell_type": "code",
      "source": [
        "def get_class_id(root_path, train_names):\n",
        "    # initilize array to store image and class id\n",
        "    image_list = []\n",
        "    image_check_list = []\n",
        "    image_class_list = []\n",
        "\n",
        "    # looping through list of folder or train names path\n",
        "    for image_class, folder_path in enumerate(train_names):\n",
        "        full_folder_path = f'{root_path}/{folder_path}'\n",
        "        # compute list image path\n",
        "        folder = os.listdir(full_folder_path)\n",
        "        # looping through list of image in folder\n",
        "        for index, image_path in enumerate(folder):\n",
        "            full_image_path =  f'{full_folder_path}/{image_path}'\n",
        "            # load the image\n",
        "            image = cv2.imread(full_image_path)\n",
        "            image = cv2.cvtColor(image, cv2.COLOR_BGR2GRAY)\n",
        "            image = cv2.GaussianBlur(image, (5,5), 0)\n",
        "            image = cv2.resize(image, (100,100))\n",
        "            image_check_list.append(image)\n",
        "            \n",
        "            # append image list with the image\n",
        "            image_list.append(image.flatten())\n",
        "            # append image class list with class of the image\n",
        "            image_class_list.append(image_class)\n",
        "    \n",
        "    image_list = np.array(image_list).astype(np.float32)\n",
        "    image_class_list = np.array(image_class_list).astype(np.float32)\n",
        "    \n",
        "    return image_list, image_class_list, image_check_list"
      ],
      "metadata": {
        "id": "G1iVZnSUgxaG"
      },
      "execution_count": 5,
      "outputs": []
    },
    {
      "cell_type": "code",
      "source": [
        "# Loading the digits data\n",
        "data = cv2.imread('./drive/MyDrive/DigitRecognition_Dataset/digits.png')\n",
        "gray = cv2.cvtColor(data, cv2.COLOR_BGR2GRAY)\n",
        "\n",
        "# Resizing each digit from 20x20 to 10x10\n",
        "resized = cv2.pyrDown(gray)\n",
        "\n",
        "# Splitting image original image into 5000 different arrays of size 20x20\n",
        "# Resulting array: 50 * 100 * 20 * 20\n",
        "arr = [np.hsplit(i, 100) for i in np.vsplit(gray, 50)]\n",
        "arr = np.array(arr)\n",
        "\n",
        "# Spliting into training and test set\n",
        "# Total: 5000, Train: 3500 images, Test: 1500\n",
        "X_train_mnist = arr[:, :70].reshape(-1, 400).astype(np.float32)\n",
        "X_test_mnist = arr[:, 70:100].reshape(-1, 400).astype(np.float32)\n",
        "\n",
        "## Targets for each image\n",
        "y = [0,1,2,3,4,5,6,7,8,9]\n",
        "\n",
        "y_train_mnist = np.repeat(y, 350)[:, np.newaxis]\n",
        "y_test_mnist = np.repeat(y, 150)[:, np.newaxis] "
      ],
      "metadata": {
        "id": "5u47NfBi2PEc"
      },
      "execution_count": 6,
      "outputs": []
    },
    {
      "cell_type": "code",
      "source": [
        "train_root_path = './drive/MyDrive/DigitRecognition_Dataset/Train'\n",
        "train_names = get_path_list(train_root_path)\n",
        "train_image_list, image_classes_list, image_check_list = get_class_id(train_root_path, train_names)\n",
        "\n",
        "(X_train, X_test, y_train, y_test) = train_test_split(train_image_list, image_classes_list, test_size=0.25, random_state=42)"
      ],
      "metadata": {
        "id": "ojSaYMq1GKEX"
      },
      "execution_count": 7,
      "outputs": []
    },
    {
      "cell_type": "markdown",
      "source": [
        "---OpenCV KNN---"
      ],
      "metadata": {
        "id": "2g1SBpN03P-4"
      }
    },
    {
      "cell_type": "code",
      "source": [
        "# Using K-NN(k- nearest neighbors) as the ML algorithm\n",
        "classifier_knn = cv2.ml.KNearest_create()\n",
        "classifier_knn.train(X_train_mnist, cv2.ml.ROW_SAMPLE, y_train_mnist)\n",
        "response, result, neighbours, distance = classifier_knn.findNearest(X_test_mnist, k=3)\n",
        "\n",
        "# Testing and calculating the accuracy of knn classifier\n",
        "correct = result == y_test_mnist\n",
        "correct = np.count_nonzero(correct)\n",
        "accuracy = correct * (100.0/result.size)\n",
        "print (\"MNIST Dataset : \", accuracy)"
      ],
      "metadata": {
        "colab": {
          "base_uri": "https://localhost:8080/"
        },
        "id": "eWjCUdov3UCV",
        "outputId": "9d4cefe6-a9ea-4dee-e937-be042623b366"
      },
      "execution_count": 8,
      "outputs": [
        {
          "output_type": "stream",
          "name": "stdout",
          "text": [
            "MNIST Dataset :  93.46666666666667\n"
          ]
        }
      ]
    },
    {
      "cell_type": "code",
      "source": [
        "# Using K-NN(k- nearest neighbors) as the ML algorithm\n",
        "model_cv_knn = cv2.ml.KNearest_create()\n",
        "model_cv_knn.train(X_train, cv2.ml.ROW_SAMPLE, y_train)\n",
        "response, result, neighbours, distance = model_cv_knn.findNearest(X_test, k=3)\n",
        "\n",
        "# Testing and calculating the accuracy of knn classifier\n",
        "res_flatten = result.flatten()\n",
        "correct = res_flatten == y_test\n",
        "correct = np.count_nonzero(correct)\n",
        "accuracy = correct * (100/res_flatten.size)\n",
        "print (\"Manual Dataset : \", accuracy)"
      ],
      "metadata": {
        "colab": {
          "base_uri": "https://localhost:8080/"
        },
        "id": "bd5kFuWLgxek",
        "outputId": "d140e3b5-e9a7-47f6-a044-338a4048db8e"
      },
      "execution_count": 9,
      "outputs": [
        {
          "output_type": "stream",
          "name": "stdout",
          "text": [
            "Manual Dataset :  83.33333333333333\n"
          ]
        }
      ]
    },
    {
      "cell_type": "markdown",
      "source": [
        "---KNN SKLEARN---"
      ],
      "metadata": {
        "id": "VbYuVARx4BU6"
      }
    },
    {
      "cell_type": "code",
      "source": [
        "model_knn_sklearn = KNeighborsClassifier(n_neighbors=5,algorithm='auto',n_jobs=10)\n",
        "model_knn_sklearn.fit(X_train_mnist,y_train_mnist)\n",
        "confidence = model_knn_sklearn.score(X_test_mnist,y_test_mnist)\n",
        "y_pred_mnist = model_knn_sklearn.predict(X_test_mnist)\n",
        "accuracy = accuracy_score(y_test_mnist, y_pred_mnist)\n",
        "print (\"MNIST Dataset : \", accuracy*100)"
      ],
      "metadata": {
        "colab": {
          "base_uri": "https://localhost:8080/"
        },
        "id": "74Xzasu34LKa",
        "outputId": "9ab2f65a-a5f5-455e-fa59-9ffae288d14e"
      },
      "execution_count": 10,
      "outputs": [
        {
          "output_type": "stream",
          "name": "stderr",
          "text": [
            "/usr/local/lib/python3.8/dist-packages/sklearn/neighbors/_classification.py:198: DataConversionWarning: A column-vector y was passed when a 1d array was expected. Please change the shape of y to (n_samples,), for example using ravel().\n",
            "  return self._fit(X, y)\n"
          ]
        },
        {
          "output_type": "stream",
          "name": "stdout",
          "text": [
            "MNIST Dataset :  93.13333333333334\n"
          ]
        }
      ]
    },
    {
      "cell_type": "code",
      "source": [
        "model_knn_sklearn = KNeighborsClassifier(n_neighbors=5,algorithm='auto',n_jobs=10)\n",
        "model_knn_sklearn.fit(X_train,y_train)\n",
        "confidence = model_knn_sklearn.score(X_test,y_test)\n",
        "y_pred = model_knn_sklearn.predict(X_test)\n",
        "accuracy = accuracy_score(y_test, y_pred)\n",
        "print (\"Manual Dataset : \", accuracy*100)"
      ],
      "metadata": {
        "colab": {
          "base_uri": "https://localhost:8080/"
        },
        "id": "KaMFsFkamsR9",
        "outputId": "ce9146c2-3600-42fd-b147-81f128ae35c1"
      },
      "execution_count": 11,
      "outputs": [
        {
          "output_type": "stream",
          "name": "stdout",
          "text": [
            "Manual Dataset :  84.12698412698413\n"
          ]
        }
      ]
    },
    {
      "cell_type": "markdown",
      "source": [
        "---Random Forest---"
      ],
      "metadata": {
        "id": "pKP5mhpu4Z5y"
      }
    },
    {
      "cell_type": "code",
      "source": [
        "model_rf = RandomForestClassifier(n_estimators=100, n_jobs=10)\n",
        "model_rf.fit(X_train_mnist,y_train_mnist)\n",
        "confidence = model_rf.score(X_test_mnist,y_test_mnist)\n",
        "y_pred_mnist = model_rf.predict(X_test_mnist)\n",
        "accuracy = accuracy_score(y_test_mnist, y_pred_mnist)\n",
        "print (\"MNIST Dataset : \", accuracy*100)"
      ],
      "metadata": {
        "colab": {
          "base_uri": "https://localhost:8080/"
        },
        "id": "RuwjJvvvnK7U",
        "outputId": "68848e4b-d242-4888-8f81-6a8e3c5432a9"
      },
      "execution_count": 12,
      "outputs": [
        {
          "output_type": "stream",
          "name": "stderr",
          "text": [
            "<ipython-input-12-d210f56e470b>:2: DataConversionWarning: A column-vector y was passed when a 1d array was expected. Please change the shape of y to (n_samples,), for example using ravel().\n",
            "  model_rf.fit(X_train_mnist,y_train_mnist)\n"
          ]
        },
        {
          "output_type": "stream",
          "name": "stdout",
          "text": [
            "MNIST Dataset :  93.26666666666667\n"
          ]
        }
      ]
    },
    {
      "cell_type": "code",
      "source": [
        "model_rf = RandomForestClassifier(n_estimators=100, n_jobs=10)\n",
        "model_rf.fit(X_train,y_train)\n",
        "confidence = model_rf.score(X_test,y_test)\n",
        "y_pred = model_rf.predict(X_test)\n",
        "accuracy = accuracy_score(y_test, y_pred)\n",
        "print (\"Manual Dataset : \", accuracy*100)"
      ],
      "metadata": {
        "colab": {
          "base_uri": "https://localhost:8080/"
        },
        "id": "RZv2Or5Z4djr",
        "outputId": "09fe87f1-9ea1-4e1e-d9e1-0123ec21e6ba"
      },
      "execution_count": 13,
      "outputs": [
        {
          "output_type": "stream",
          "name": "stdout",
          "text": [
            "Manual Dataset :  86.11111111111111\n"
          ]
        }
      ]
    },
    {
      "cell_type": "markdown",
      "source": [
        "---Tensorflow Keras---"
      ],
      "metadata": {
        "id": "PgVBKRdL5Jmn"
      }
    },
    {
      "cell_type": "code",
      "source": [
        "# Sequential create a stack of layers\n",
        "model_tensor = keras.Sequential([\n",
        "    keras.layers.Dense(10, input_shape=(400,), activation='sigmoid')\n",
        "])\n",
        "\n",
        "# Optimizer will help in backproagation to reach better global optima\n",
        "model_tensor.compile(\n",
        "    optimizer='adam',\n",
        "    loss='sparse_categorical_crossentropy',\n",
        "    metrics=['accuracy']\n",
        ")\n",
        "\n",
        "# Does the training\n",
        "model_tensor.fit(X_train_mnist, y_train_mnist, epochs=50)\n",
        "model_tensor.evaluate(X_test_mnist, y_test_mnist)"
      ],
      "metadata": {
        "colab": {
          "base_uri": "https://localhost:8080/"
        },
        "id": "mWrxVCCvDrNz",
        "outputId": "3746d25e-bdd4-4503-97d6-00b5d39f9785"
      },
      "execution_count": 14,
      "outputs": [
        {
          "output_type": "stream",
          "name": "stdout",
          "text": [
            "Epoch 1/50\n",
            "110/110 [==============================] - 1s 1ms/step - loss: 38.6107 - accuracy: 0.5300\n",
            "Epoch 2/50\n",
            "110/110 [==============================] - 0s 985us/step - loss: 11.4910 - accuracy: 0.7643\n",
            "Epoch 3/50\n",
            "110/110 [==============================] - 0s 1ms/step - loss: 7.4549 - accuracy: 0.8306\n",
            "Epoch 4/50\n",
            "110/110 [==============================] - 0s 1ms/step - loss: 5.5478 - accuracy: 0.8551\n",
            "Epoch 5/50\n",
            "110/110 [==============================] - 0s 1ms/step - loss: 4.4003 - accuracy: 0.8683\n",
            "Epoch 6/50\n",
            "110/110 [==============================] - 0s 1ms/step - loss: 3.7814 - accuracy: 0.8863\n",
            "Epoch 7/50\n",
            "110/110 [==============================] - 0s 1ms/step - loss: 3.1439 - accuracy: 0.8943\n",
            "Epoch 8/50\n",
            "110/110 [==============================] - 0s 1ms/step - loss: 2.8498 - accuracy: 0.9017\n",
            "Epoch 9/50\n",
            "110/110 [==============================] - 0s 1ms/step - loss: 2.5052 - accuracy: 0.9051\n",
            "Epoch 10/50\n",
            "110/110 [==============================] - 0s 1ms/step - loss: 2.0832 - accuracy: 0.9117\n",
            "Epoch 11/50\n",
            "110/110 [==============================] - 0s 1ms/step - loss: 1.9302 - accuracy: 0.9174\n",
            "Epoch 12/50\n",
            "110/110 [==============================] - 0s 1ms/step - loss: 1.7472 - accuracy: 0.9243\n",
            "Epoch 13/50\n",
            "110/110 [==============================] - 0s 1ms/step - loss: 1.6784 - accuracy: 0.9209\n",
            "Epoch 14/50\n",
            "110/110 [==============================] - 0s 1ms/step - loss: 1.6346 - accuracy: 0.9234\n",
            "Epoch 15/50\n",
            "110/110 [==============================] - 0s 1ms/step - loss: 1.3813 - accuracy: 0.9271\n",
            "Epoch 16/50\n",
            "110/110 [==============================] - 0s 1ms/step - loss: 1.3896 - accuracy: 0.9349\n",
            "Epoch 17/50\n",
            "110/110 [==============================] - 0s 1ms/step - loss: 1.2025 - accuracy: 0.9351\n",
            "Epoch 18/50\n",
            "110/110 [==============================] - 0s 1ms/step - loss: 1.1950 - accuracy: 0.9411\n",
            "Epoch 19/50\n",
            "110/110 [==============================] - 0s 1ms/step - loss: 1.1850 - accuracy: 0.9383\n",
            "Epoch 20/50\n",
            "110/110 [==============================] - 0s 1ms/step - loss: 1.1119 - accuracy: 0.9369\n",
            "Epoch 21/50\n",
            "110/110 [==============================] - 0s 1ms/step - loss: 0.9039 - accuracy: 0.9449\n",
            "Epoch 22/50\n",
            "110/110 [==============================] - 0s 1ms/step - loss: 1.1212 - accuracy: 0.9397\n",
            "Epoch 23/50\n",
            "110/110 [==============================] - 0s 1ms/step - loss: 0.8690 - accuracy: 0.9514\n",
            "Epoch 24/50\n",
            "110/110 [==============================] - 0s 1ms/step - loss: 0.8157 - accuracy: 0.9506\n",
            "Epoch 25/50\n",
            "110/110 [==============================] - 0s 1ms/step - loss: 0.8982 - accuracy: 0.9477\n",
            "Epoch 26/50\n",
            "110/110 [==============================] - 0s 1ms/step - loss: 0.6547 - accuracy: 0.9603\n",
            "Epoch 27/50\n",
            "110/110 [==============================] - 0s 1ms/step - loss: 0.8666 - accuracy: 0.9460\n",
            "Epoch 28/50\n",
            "110/110 [==============================] - 0s 994us/step - loss: 1.0352 - accuracy: 0.9423\n",
            "Epoch 29/50\n",
            "110/110 [==============================] - 0s 1ms/step - loss: 0.7999 - accuracy: 0.9523\n",
            "Epoch 30/50\n",
            "110/110 [==============================] - 0s 1ms/step - loss: 0.7794 - accuracy: 0.9514\n",
            "Epoch 31/50\n",
            "110/110 [==============================] - 0s 1ms/step - loss: 0.5981 - accuracy: 0.9577\n",
            "Epoch 32/50\n",
            "110/110 [==============================] - 0s 1ms/step - loss: 0.7686 - accuracy: 0.9497\n",
            "Epoch 33/50\n",
            "110/110 [==============================] - 0s 1ms/step - loss: 0.7361 - accuracy: 0.9520\n",
            "Epoch 34/50\n",
            "110/110 [==============================] - 0s 1ms/step - loss: 0.5441 - accuracy: 0.9614\n",
            "Epoch 35/50\n",
            "110/110 [==============================] - 0s 1ms/step - loss: 0.6675 - accuracy: 0.9531\n",
            "Epoch 36/50\n",
            "110/110 [==============================] - 0s 1ms/step - loss: 0.7190 - accuracy: 0.9543\n",
            "Epoch 37/50\n",
            "110/110 [==============================] - 0s 918us/step - loss: 0.5729 - accuracy: 0.9626\n",
            "Epoch 38/50\n",
            "110/110 [==============================] - 0s 905us/step - loss: 0.7757 - accuracy: 0.9526\n",
            "Epoch 39/50\n",
            "110/110 [==============================] - 0s 1ms/step - loss: 0.8164 - accuracy: 0.9520\n",
            "Epoch 40/50\n",
            "110/110 [==============================] - 0s 1ms/step - loss: 0.5686 - accuracy: 0.9637\n",
            "Epoch 41/50\n",
            "110/110 [==============================] - 0s 1ms/step - loss: 0.5637 - accuracy: 0.9577\n",
            "Epoch 42/50\n",
            "110/110 [==============================] - 0s 1ms/step - loss: 0.5032 - accuracy: 0.9654\n",
            "Epoch 43/50\n",
            "110/110 [==============================] - 0s 1ms/step - loss: 0.5234 - accuracy: 0.9663\n",
            "Epoch 44/50\n",
            "110/110 [==============================] - 0s 1ms/step - loss: 0.4143 - accuracy: 0.9677\n",
            "Epoch 45/50\n",
            "110/110 [==============================] - 0s 1ms/step - loss: 0.5210 - accuracy: 0.9620\n",
            "Epoch 46/50\n",
            "110/110 [==============================] - 0s 1ms/step - loss: 0.6960 - accuracy: 0.9537\n",
            "Epoch 47/50\n",
            "110/110 [==============================] - 0s 1ms/step - loss: 0.4932 - accuracy: 0.9643\n",
            "Epoch 48/50\n",
            "110/110 [==============================] - 0s 1ms/step - loss: 0.4142 - accuracy: 0.9669\n",
            "Epoch 49/50\n",
            "110/110 [==============================] - 0s 1ms/step - loss: 0.4742 - accuracy: 0.9609\n",
            "Epoch 50/50\n",
            "110/110 [==============================] - 0s 1ms/step - loss: 0.4885 - accuracy: 0.9626\n",
            "47/47 [==============================] - 0s 876us/step - loss: 7.7652 - accuracy: 0.8640\n"
          ]
        },
        {
          "output_type": "execute_result",
          "data": {
            "text/plain": [
              "[7.765240669250488, 0.8640000224113464]"
            ]
          },
          "metadata": {},
          "execution_count": 14
        }
      ]
    },
    {
      "cell_type": "code",
      "source": [
        "# Sequential create a stack of layers\n",
        "model_tensor = keras.Sequential([\n",
        "    keras.layers.Dense(10, input_shape=(10000,), activation='sigmoid')\n",
        "])\n",
        "\n",
        "# Optimizer will help in backproagation to reach better global optima\n",
        "model_tensor.compile(\n",
        "    optimizer='adam',\n",
        "    loss='sparse_categorical_crossentropy',\n",
        "    metrics=['accuracy']\n",
        ")\n",
        "\n",
        "# Does the training\n",
        "model_tensor.fit(X_train, y_train, epochs=50)\n",
        "model_tensor.evaluate(X_test, y_test)"
      ],
      "metadata": {
        "colab": {
          "base_uri": "https://localhost:8080/"
        },
        "id": "NtoFA_175kT7",
        "outputId": "c870bd31-6a72-4269-e9b8-56a6a9f72201"
      },
      "execution_count": 15,
      "outputs": [
        {
          "output_type": "stream",
          "name": "stdout",
          "text": [
            "Epoch 1/50\n",
            "24/24 [==============================] - 0s 2ms/step - loss: 90.9115 - accuracy: 0.5710\n",
            "Epoch 2/50\n",
            "24/24 [==============================] - 0s 2ms/step - loss: 22.0727 - accuracy: 0.8977\n",
            "Epoch 3/50\n",
            "24/24 [==============================] - 0s 2ms/step - loss: 9.7435 - accuracy: 0.9270\n",
            "Epoch 4/50\n",
            "24/24 [==============================] - 0s 3ms/step - loss: 8.6140 - accuracy: 0.9376\n",
            "Epoch 5/50\n",
            "24/24 [==============================] - 0s 2ms/step - loss: 6.6107 - accuracy: 0.9495\n",
            "Epoch 6/50\n",
            "24/24 [==============================] - 0s 3ms/step - loss: 4.9971 - accuracy: 0.9628\n",
            "Epoch 7/50\n",
            "24/24 [==============================] - 0s 2ms/step - loss: 4.6497 - accuracy: 0.9602\n",
            "Epoch 8/50\n",
            "24/24 [==============================] - 0s 2ms/step - loss: 3.3695 - accuracy: 0.9761\n",
            "Epoch 9/50\n",
            "24/24 [==============================] - 0s 3ms/step - loss: 4.4461 - accuracy: 0.9628\n",
            "Epoch 10/50\n",
            "24/24 [==============================] - 0s 2ms/step - loss: 3.0936 - accuracy: 0.9761\n",
            "Epoch 11/50\n",
            "24/24 [==============================] - 0s 2ms/step - loss: 3.1763 - accuracy: 0.9721\n",
            "Epoch 12/50\n",
            "24/24 [==============================] - 0s 3ms/step - loss: 2.9729 - accuracy: 0.9695\n",
            "Epoch 13/50\n",
            "24/24 [==============================] - 0s 2ms/step - loss: 6.4311 - accuracy: 0.9588\n",
            "Epoch 14/50\n",
            "24/24 [==============================] - 0s 3ms/step - loss: 4.3467 - accuracy: 0.9628\n",
            "Epoch 15/50\n",
            "24/24 [==============================] - 0s 2ms/step - loss: 2.8863 - accuracy: 0.9801\n",
            "Epoch 16/50\n",
            "24/24 [==============================] - 0s 3ms/step - loss: 2.6608 - accuracy: 0.9867\n",
            "Epoch 17/50\n",
            "24/24 [==============================] - 0s 2ms/step - loss: 2.3828 - accuracy: 0.9854\n",
            "Epoch 18/50\n",
            "24/24 [==============================] - 0s 2ms/step - loss: 0.3542 - accuracy: 0.9947\n",
            "Epoch 19/50\n",
            "24/24 [==============================] - 0s 2ms/step - loss: 1.2148 - accuracy: 0.9907\n",
            "Epoch 20/50\n",
            "24/24 [==============================] - 0s 2ms/step - loss: 1.4168 - accuracy: 0.9854\n",
            "Epoch 21/50\n",
            "24/24 [==============================] - 0s 2ms/step - loss: 2.0434 - accuracy: 0.9894\n",
            "Epoch 22/50\n",
            "24/24 [==============================] - 0s 2ms/step - loss: 1.0279 - accuracy: 0.9880\n",
            "Epoch 23/50\n",
            "24/24 [==============================] - 0s 3ms/step - loss: 2.8946 - accuracy: 0.9801\n",
            "Epoch 24/50\n",
            "24/24 [==============================] - 0s 2ms/step - loss: 0.7649 - accuracy: 0.9907\n",
            "Epoch 25/50\n",
            "24/24 [==============================] - 0s 2ms/step - loss: 1.0665 - accuracy: 0.9894\n",
            "Epoch 26/50\n",
            "24/24 [==============================] - 0s 2ms/step - loss: 0.7413 - accuracy: 0.9947\n",
            "Epoch 27/50\n",
            "24/24 [==============================] - 0s 2ms/step - loss: 0.3380 - accuracy: 0.9973\n",
            "Epoch 28/50\n",
            "24/24 [==============================] - 0s 2ms/step - loss: 2.7800 - accuracy: 0.9841\n",
            "Epoch 29/50\n",
            "24/24 [==============================] - 0s 3ms/step - loss: 1.7372 - accuracy: 0.9907\n",
            "Epoch 30/50\n",
            "24/24 [==============================] - 0s 2ms/step - loss: 3.2990 - accuracy: 0.9774\n",
            "Epoch 31/50\n",
            "24/24 [==============================] - 0s 3ms/step - loss: 2.9707 - accuracy: 0.9814\n",
            "Epoch 32/50\n",
            "24/24 [==============================] - 0s 2ms/step - loss: 2.7419 - accuracy: 0.9867\n",
            "Epoch 33/50\n",
            "24/24 [==============================] - 0s 2ms/step - loss: 2.2764 - accuracy: 0.9907\n",
            "Epoch 34/50\n",
            "24/24 [==============================] - 0s 2ms/step - loss: 4.7688 - accuracy: 0.9841\n",
            "Epoch 35/50\n",
            "24/24 [==============================] - 0s 2ms/step - loss: 2.5713 - accuracy: 0.9854\n",
            "Epoch 36/50\n",
            "24/24 [==============================] - 0s 2ms/step - loss: 3.5765 - accuracy: 0.9867\n",
            "Epoch 37/50\n",
            "24/24 [==============================] - 0s 2ms/step - loss: 1.8676 - accuracy: 0.9907\n",
            "Epoch 38/50\n",
            "24/24 [==============================] - 0s 2ms/step - loss: 1.9905 - accuracy: 0.9894\n",
            "Epoch 39/50\n",
            "24/24 [==============================] - 0s 2ms/step - loss: 0.4093 - accuracy: 0.9934\n",
            "Epoch 40/50\n",
            "24/24 [==============================] - 0s 2ms/step - loss: 0.6050 - accuracy: 0.9934\n",
            "Epoch 41/50\n",
            "24/24 [==============================] - 0s 3ms/step - loss: 0.1264 - accuracy: 0.9973\n",
            "Epoch 42/50\n",
            "24/24 [==============================] - 0s 2ms/step - loss: 0.7547 - accuracy: 0.9973\n",
            "Epoch 43/50\n",
            "24/24 [==============================] - 0s 2ms/step - loss: 0.2671 - accuracy: 0.9960\n",
            "Epoch 44/50\n",
            "24/24 [==============================] - 0s 2ms/step - loss: 6.1030e-05 - accuracy: 1.0000\n",
            "Epoch 45/50\n",
            "24/24 [==============================] - 0s 2ms/step - loss: 0.0000e+00 - accuracy: 1.0000\n",
            "Epoch 46/50\n",
            "24/24 [==============================] - 0s 2ms/step - loss: 0.0000e+00 - accuracy: 1.0000\n",
            "Epoch 47/50\n",
            "24/24 [==============================] - 0s 2ms/step - loss: 0.0000e+00 - accuracy: 1.0000\n",
            "Epoch 48/50\n",
            "24/24 [==============================] - 0s 2ms/step - loss: 0.0000e+00 - accuracy: 1.0000\n",
            "Epoch 49/50\n",
            "24/24 [==============================] - 0s 2ms/step - loss: 0.0000e+00 - accuracy: 1.0000\n",
            "Epoch 50/50\n",
            "24/24 [==============================] - 0s 2ms/step - loss: 0.0000e+00 - accuracy: 1.0000\n",
            "8/8 [==============================] - 0s 2ms/step - loss: 138.2599 - accuracy: 0.8254\n"
          ]
        },
        {
          "output_type": "execute_result",
          "data": {
            "text/plain": [
              "[138.25990295410156, 0.8253968358039856]"
            ]
          },
          "metadata": {},
          "execution_count": 15
        }
      ]
    },
    {
      "cell_type": "markdown",
      "source": [
        "---SVM--"
      ],
      "metadata": {
        "id": "ScyMWYko6Ieo"
      }
    },
    {
      "cell_type": "code",
      "source": [
        "model_svm_mnist = svm.SVC(gamma=0.001, kernel='poly')\n",
        "model_svm_mnist.fit(X_train_mnist,y_train_mnist)\n",
        "y_pred_mnist = model_svm_mnist.predict(X_test_mnist)\n",
        "accuracy = accuracy_score(y_test_mnist, y_pred_mnist)\n",
        "print(\"MNIST Dataset : \", accuracy*100)"
      ],
      "metadata": {
        "colab": {
          "base_uri": "https://localhost:8080/"
        },
        "id": "qVZW-pKBcdr9",
        "outputId": "a55d950f-fd88-4408-fdb0-f081dd65a8db"
      },
      "execution_count": 16,
      "outputs": [
        {
          "output_type": "stream",
          "name": "stderr",
          "text": [
            "/usr/local/lib/python3.8/dist-packages/sklearn/utils/validation.py:993: DataConversionWarning: A column-vector y was passed when a 1d array was expected. Please change the shape of y to (n_samples, ), for example using ravel().\n",
            "  y = column_or_1d(y, warn=True)\n"
          ]
        },
        {
          "output_type": "stream",
          "name": "stdout",
          "text": [
            "MNIST Dataset :  93.53333333333333\n"
          ]
        }
      ]
    },
    {
      "cell_type": "code",
      "source": [
        "model_svm_manual = svm.SVC(gamma=0.001, kernel='poly')\n",
        "model_svm_manual.fit(X_train,y_train)\n",
        "y_pred = model_svm_manual.predict(X_test)\n",
        "accuracy = accuracy_score(y_test, y_pred)\n",
        "print(\"Manual Dataset : \", accuracy*100)"
      ],
      "metadata": {
        "colab": {
          "base_uri": "https://localhost:8080/"
        },
        "id": "AuNaI1GE6Hzf",
        "outputId": "5548db75-1d78-4f59-e4cc-5226fc965d0b"
      },
      "execution_count": 17,
      "outputs": [
        {
          "output_type": "stream",
          "name": "stdout",
          "text": [
            "Manual Dataset :  88.09523809523809\n"
          ]
        }
      ]
    },
    {
      "cell_type": "code",
      "source": [
        "joblib.dump(model_svm_mnist, \"./drive/MyDrive/Colab Notebooks/DigitRecognition_SVM_MNIST_Model.pt\") \n",
        "model_svm_mnist_new = joblib.load(\"./drive/MyDrive/Colab Notebooks/DigitRecognition_SVM_MNIST_Model.pt\")"
      ],
      "metadata": {
        "id": "sXbrKf3lKM6E"
      },
      "execution_count": 18,
      "outputs": []
    },
    {
      "cell_type": "code",
      "source": [
        "joblib.dump(model_svm_manual, \"./drive/MyDrive/Colab Notebooks/DigitRecognition_SVM_Manual_Model.pt\") \n",
        "model_svm_manual_new = joblib.load(\"./drive/MyDrive/Colab Notebooks/DigitRecognition_SVM_Manual_Model.pt\")"
      ],
      "metadata": {
        "id": "0rmqTv5Euj1f"
      },
      "execution_count": 19,
      "outputs": []
    },
    {
      "cell_type": "code",
      "source": [
        "def drawSquare(image):\n",
        "\t'''\n",
        "\tDraws a square around the found digits\n",
        "\t'''\t\t\n",
        "\tb = [0,0,0]\n",
        "\theight, width = image.shape[0], image.shape[1]\n",
        "\tif(height == width): ## if square\n",
        "\t\tsquare = image\n",
        "\t\treturn square\n",
        "\telse:\n",
        "\t\td_size = cv2.resize(image, (2*width, 2*height), interpolation=cv2.INTER_CUBIC)\n",
        "\t\theight, width = height * 2, width * 2\n",
        "\t\tif (height > width):\n",
        "\t\t\tpadding = int((height - width)/2)\n",
        "\t\t\td_size_square = cv2.copyMakeBorder(d_size, 0, 0, padding, padding, cv2.BORDER_CONSTANT, None,value=b)\n",
        "\t\telse:\n",
        "\t\t\tpadding = int((width - height)/2)\n",
        "\t\t\td_size_square = cv2.copyMakeBorder(d_size, padding, padding, 0, 0, cv2.BORDER_CONSTANT, None,value=b)\n",
        "\n",
        "\treturn d_size_square"
      ],
      "metadata": {
        "id": "tXp1XDtYgxSA"
      },
      "execution_count": 20,
      "outputs": []
    },
    {
      "cell_type": "code",
      "source": [
        "def resize(image, dim):\n",
        "\t'''\n",
        "\tReturns orignal image resized to shape 'dim'\n",
        "\t'''\t\n",
        "\tb = [0,0,0]\t \t\t\t\n",
        "\tdim = dim - 4\n",
        "\tsquared = image\n",
        "\tr = (float(dim) / squared.shape[1])\n",
        "\td = (dim, int(squared.shape[0] * r))\n",
        "\tresized = cv2.resize(image, d, interpolation = cv2.INTER_AREA)\n",
        "\theight, width = resized.shape[0], resized.shape[1];\n",
        "\tif (height > width):\n",
        "\t\tresized = cv2.copyMakeBorder(resized, 0,0,0,1, cv2.BORDER_CONSTANT, value=b)\n",
        "\tif (height < width):\n",
        "\t\tresized = cv2.copyMakeBorder(resized, 1,0,0,0, cv2.BORDER_CONSTANT, value=b)\n",
        "\n",
        "\tresized = cv2.copyMakeBorder(resized, 2,2,2,2,cv2.BORDER_CONSTANT, value=b)\n",
        "\theight, width = resized.shape[0], resized.shape[1]\t\n",
        "\t\n",
        "\treturn resized\t"
      ],
      "metadata": {
        "id": "LR8bMyHtgxVK"
      },
      "execution_count": 21,
      "outputs": []
    },
    {
      "cell_type": "code",
      "source": [
        "def recognize_digit(image):\n",
        "  gray = cv2.cvtColor(image, cv2.COLOR_BGR2GRAY)\n",
        "  blur = cv2.GaussianBlur(gray, (5,5), 0)\n",
        "\n",
        "  canny = cv2.Canny(blur, 30, 150)\n",
        "\n",
        "  contours, _ = cv2.findContours(canny.copy(), cv2.RETR_EXTERNAL, cv2.CHAIN_APPROX_SIMPLE)\n",
        "  boundingBoxes = [cv2.boundingRect(c) for c in contours]\n",
        "  contours, _ = zip(*sorted(zip(contours, boundingBoxes), key=lambda b:b[1][0], reverse=False))\n",
        "\n",
        "  display = []\n",
        "  image_numbers = []\n",
        "\n",
        "  for contour in contours:\n",
        "    (x, y, w, h) = cv2.boundingRect(contour)\n",
        "    \n",
        "    if w>= 5 and h>=50:\n",
        "      area = blur[y:y+h, x:x+w]\n",
        "      ret, area = cv2.threshold(area, 127, 255, cv2.THRESH_BINARY_INV)\n",
        "          \n",
        "      new_square = drawSquare(area)\n",
        "      number = resize(new_square, 100)\n",
        "      result = number.reshape((1, 10000)); \n",
        "      result = result.astype(np.float32);\n",
        "      image_numbers.append(number)\n",
        "\n",
        "      res = model_svm_manual_new.predict(result)\n",
        "      n = str(int(float(res)))\n",
        "      display.append(n)\n",
        "\n",
        "      # draw rectangle around individual digit\n",
        "      cv2.rectangle(image, (x,y), (x+w, y+h), (255,0,0), 1)\n",
        "      cv2.putText(image, n, (x,y-10), cv2.FONT_ITALIC, 2, (0,255,0), 2)\n",
        "\n",
        "  return image, display, image_numbers"
      ],
      "metadata": {
        "id": "dTK0C2YbgxjL"
      },
      "execution_count": 22,
      "outputs": []
    },
    {
      "cell_type": "code",
      "source": [
        "original = cv2.imread('./drive/MyDrive/DigitRecognition_Dataset/Test/testing1.png')\n",
        "resultImage, resultDigit, image_numbers = recognize_digit(cv2.imread('./drive/MyDrive/DigitRecognition_Dataset/Test/testing1.png'))\n",
        "plt.figure(figsize = (30, 15))\n",
        "plt.subplot(121)\n",
        "plt.imshow(original, cmap = 'gray')\n",
        "plt.title(\"Original Image\")\n",
        "plt.xticks([]), plt.yticks([])\n",
        "\n",
        "plt.subplot(122)\n",
        "plt.imshow(resultImage, \"gray\")\n",
        "plt.title(f'ResultedImage - {resultDigit}')\n",
        "plt.xticks([]), plt.yticks([])\n",
        "plt.show()"
      ],
      "metadata": {
        "colab": {
          "base_uri": "https://localhost:8080/",
          "height": 343
        },
        "id": "0voR-svWgxle",
        "outputId": "2a26dea7-2e8b-4ee4-fe6b-66706f448700"
      },
      "execution_count": 23,
      "outputs": [
        {
          "output_type": "display_data",
          "data": {
            "text/plain": [
              "<Figure size 2160x1080 with 2 Axes>"
            ],
            "image/png": "[encoded data removed]"
          },
          "metadata": {}
        }
      ]
    },
    {
      "cell_type": "code",
      "source": [
        "plt.figure(figsize = (10, 7))\n",
        "plt.imshow(image_numbers[3], \"gray\")\n",
        "plt.xticks([]), plt.yticks([])\n",
        "plt.title(\"One of Recognized Image\")\n",
        "plt.show()"
      ],
      "metadata": {
        "colab": {
          "base_uri": "https://localhost:8080/",
          "height": 431
        },
        "id": "b70aXH69z0um",
        "outputId": "9725b8d6-bacd-485c-d632-9fa05c996a70"
      },
      "execution_count": 24,
      "outputs": [
        {
          "output_type": "display_data",
          "data": {
            "text/plain": [
              "<Figure size 720x504 with 1 Axes>"
            ],
            "image/png": "[encoded data removed]"
          },
          "metadata": {}
        }
      ]
    },
    {
      "cell_type": "markdown",
      "source": [
        "Streamlit Create Dataset"
      ],
      "metadata": {
        "id": "gJ6Hezc7PbWy"
      }
    },
    {
      "cell_type": "code",
      "source": [
        "%%writefile app.py\n",
        "import streamlit as st\n",
        "from streamlit_drawable_canvas import st_canvas\n",
        "import cv2\n",
        "import uuid\n",
        "from io import BytesIO, BufferedReader\n",
        "\n",
        "\n",
        "st.title(\"Drawable Canvas for Digit Recognition Dataset\")\n",
        "st.markdown(\">The app lets users draw digit on to a canvas and input label of the drawed digit. Then it will show the inputted data and user can download drawed digit image for Digit Recognition Dataset\")\n",
        "st.header(\"🎲 How to Use the Application\")\n",
        "st.markdown(\n",
        "     \"\"\"\n",
        "    * Draw Digit as your desire \n",
        "    * You can Undo, Redo or Delete your drawing with button in the bottom left of the canvas \n",
        "    * Please Don't forget to Press ⬇️ Send Button in the bottom left of the canvas!\n",
        "    * Input the Drawed Digit label in the Label Section!\n",
        "    * Press Input Button if you're done with your drawing and the inputted data will be shown bellow\n",
        "    * Now download Button will be appear!  \n",
        "    * Press download Button and the drawed digit image will be downloaded for your dataset!\n",
        "    \"\"\"\n",
        "    )\n",
        "st.write(\" \")\n",
        "st.write(\" \")\n",
        "st.write(\" \")\n",
        "\n",
        "st.markdown(\"Draw Digit [0-9]\")\n",
        "# Create a canvas component\n",
        "canvas_result = st_canvas(\n",
        "    fill_color=\"rgba(255, 165, 0, 0.3)\",  # Fixed fill color with some opacity\n",
        "    stroke_width=9,\n",
        "    stroke_color=\"white\",\n",
        "    background_color=\"#000000\",\n",
        "    background_image=None,\n",
        "    update_streamlit=False,\n",
        "    height=100,\n",
        "    width=100,\n",
        "    drawing_mode=\"freedraw\",\n",
        "    point_display_radius= 0,\n",
        "    display_toolbar=True,\n",
        "    key=\"full_app\",\n",
        ")\n",
        "\n",
        "label = st.text_input('Label', '')\n",
        "\n",
        "input = st.button(\"Input\")\n",
        "\n",
        "# Do something interesting with the image data and paths\n",
        "if canvas_result.image_data is not None and input:\n",
        "    st.markdown(\"Inputted Data\")\n",
        "    st.image(canvas_result.image_data)\n",
        "    st.text(\"Label : {}\".format(label))\n",
        "\n",
        "    random = uuid.uuid4().hex\n",
        "    ret, img_enco = cv2.imencode(\".png\", canvas_result.image_data) \n",
        "    srt_enco = img_enco.tostring() \n",
        "    img_BytesIO = BytesIO(srt_enco)\n",
        "    img_BufferedReader = BufferedReader(img_BytesIO)\n",
        "\n",
        "    btn = st.download_button(\n",
        "            label=\"Download the Image\",\n",
        "            data=img_BufferedReader,\n",
        "            file_name= label + \"-\" + random +\".png\",\n",
        "            mime=\"image/png\"\n",
        "          )"
      ],
      "metadata": {
        "colab": {
          "base_uri": "https://localhost:8080/"
        },
        "id": "aQZMZA6PeJ6y",
        "outputId": "415818be-8ca4-4a1b-8d1b-606791299057"
      },
      "execution_count": 30,
      "outputs": [
        {
          "output_type": "stream",
          "name": "stdout",
          "text": [
            "Overwriting app.py\n"
          ]
        }
      ]
    },
    {
      "cell_type": "markdown",
      "source": [
        "Local Tunnel"
      ],
      "metadata": {
        "id": "5aC9v5qoD0SD"
      }
    },
    {
      "cell_type": "code",
      "source": [
        "!streamlit run app.py & npx localtunnel --port 8501"
      ],
      "metadata": {
        "colab": {
          "base_uri": "https://localhost:8080/"
        },
        "id": "Sa3BeilsU8F3",
        "outputId": "180fdd3e-de02-4892-e482-36ba91296a5d"
      },
      "execution_count": 31,
      "outputs": [
        {
          "output_type": "stream",
          "name": "stdout",
          "text": [
            "2023-01-20 16:53:32.460 INFO    numexpr.utils: NumExpr defaulting to 2 threads.\n",
            "\u001b[K\u001b[?25h\n",
            "Collecting usage statistics. To deactivate, set browser.gatherUsageStats to False.\n",
            "\u001b[0m\n",
            "npx: installed 22 in 1.799s\n",
            "\u001b[0m\n",
            "\u001b[34m\u001b[1m  You can now view your Streamlit app in your browser.\u001b[0m\n",
            "\u001b[0m\n",
            "\u001b[34m  Network URL: \u001b[0m\u001b[1mhttp://172.28.0.12:8501\u001b[0m\n",
            "\u001b[34m  External URL: \u001b[0m\u001b[1mhttp://35.245.46.62:8501\u001b[0m\n",
            "\u001b[0m\n",
            "your url is: https://public-hotels-lie-35-245-46-62.loca.lt\n",
            "\n",
            "  \u001b[34m\u001b[1mA new version of Streamlit is available.\u001b[0m\n",
            "\n",
            "  See what's new at https://discuss.streamlit.io/c/announcements\n",
            "\n",
            "  Enter the following command to upgrade:\n",
            "  \u001b[34m$\u001b[0m \u001b[1mpip install streamlit --upgrade\u001b[0m\n",
            "\u001b[0m\n",
            "/content/app.py:55: DeprecationWarning: tostring() is deprecated. Use tobytes() instead.\n",
            "  srt_enco = img_enco.tostring()\n",
            "\u001b[34m  Stopping...\u001b[0m\n",
            "^C\n"
          ]
        }
      ]
    }
  ]
}