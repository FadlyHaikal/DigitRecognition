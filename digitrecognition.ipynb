{
  "nbformat": 4,
  "nbformat_minor": 0,
  "metadata": {
    "colab": {
      "provenance": [],
      "mount_file_id": "https://gist.github.com/FadlyHaikal/7a902140e91206a87d338605a83e62ab#file-digitrecognition-ipynb",
      "authorship_tag": "ABX9TyNgjTvvj8TuduT8Bl3CS0AV",
      "include_colab_link": true
    },
    "kernelspec": {
      "name": "python3",
      "display_name": "Python 3"
    },
    "language_info": {
      "name": "python"
    }
  },
  "cells": [
    {
      "cell_type": "markdown",
      "metadata": {
        "id": "view-in-github",
        "colab_type": "text"
      },
      "source": [
        "<a href=\"https://colab.research.google.com/github/FadlyHaikal/DigitRecognition/blob/main/digitrecognition.ipynb\" target=\"_parent\"><img src=\"https://colab.research.google.com/assets/colab-badge.svg\" alt=\"Open In Colab\"/></a>"
      ]
    },
    {
      "cell_type": "code",
      "source": [
        "pip install pillow"
      ],
      "metadata": {
        "colab": {
          "base_uri": "https://localhost:8080/"
        },
        "id": "oEmdx9HWCpjU",
        "outputId": "669a95ab-9059-46a3-d0d3-e91220589d67"
      },
      "execution_count": 56,
      "outputs": [
        {
          "output_type": "stream",
          "name": "stdout",
          "text": [
            "Looking in indexes: https://pypi.org/simple, https://us-python.pkg.dev/colab-wheels/public/simple/\n",
            "Requirement already satisfied: pillow in /usr/local/lib/python3.8/dist-packages (7.1.2)\n"
          ]
        }
      ]
    },
    {
      "cell_type": "code",
      "source": [
        "!pip install streamlit==1.13.0\n",
        "!npm install -g localtunnel"
      ],
      "metadata": {
        "colab": {
          "base_uri": "https://localhost:8080/"
        },
        "id": "da5JLo9ndTsL",
        "outputId": "55360614-6d66-4914-81ec-48f9a0ddcd8a"
      },
      "execution_count": 57,
      "outputs": [
        {
          "output_type": "stream",
          "name": "stdout",
          "text": [
            "Looking in indexes: https://pypi.org/simple, https://us-python.pkg.dev/colab-wheels/public/simple/\n",
            "Requirement already satisfied: streamlit==1.13.0 in /usr/local/lib/python3.8/dist-packages (1.13.0)\n",
            "Requirement already satisfied: rich>=10.11.0 in /usr/local/lib/python3.8/dist-packages (from streamlit==1.13.0) (13.0.1)\n",
            "Requirement already satisfied: pympler>=0.9 in /usr/local/lib/python3.8/dist-packages (from streamlit==1.13.0) (1.0.1)\n",
            "Requirement already satisfied: pyarrow>=4.0 in /usr/local/lib/python3.8/dist-packages (from streamlit==1.13.0) (9.0.0)\n",
            "Requirement already satisfied: tzlocal>=1.1 in /usr/local/lib/python3.8/dist-packages (from streamlit==1.13.0) (1.5.1)\n",
            "Requirement already satisfied: toml in /usr/local/lib/python3.8/dist-packages (from streamlit==1.13.0) (0.10.2)\n",
            "Requirement already satisfied: typing-extensions>=3.10.0.0 in /usr/local/lib/python3.8/dist-packages (from streamlit==1.13.0) (4.4.0)\n",
            "Requirement already satisfied: altair>=3.2.0 in /usr/local/lib/python3.8/dist-packages (from streamlit==1.13.0) (4.2.0)\n",
            "Requirement already satisfied: validators>=0.2 in /usr/local/lib/python3.8/dist-packages (from streamlit==1.13.0) (0.20.0)\n",
            "Requirement already satisfied: gitpython!=3.1.19 in /usr/local/lib/python3.8/dist-packages (from streamlit==1.13.0) (3.1.30)\n",
            "Requirement already satisfied: pandas>=0.21.0 in /usr/local/lib/python3.8/dist-packages (from streamlit==1.13.0) (1.3.5)\n",
            "Requirement already satisfied: requests>=2.4 in /usr/local/lib/python3.8/dist-packages (from streamlit==1.13.0) (2.25.1)\n",
            "Requirement already satisfied: protobuf!=3.20.2,<4,>=3.12 in /usr/local/lib/python3.8/dist-packages (from streamlit==1.13.0) (3.19.6)\n",
            "Requirement already satisfied: watchdog in /usr/local/lib/python3.8/dist-packages (from streamlit==1.13.0) (2.2.1)\n",
            "Requirement already satisfied: cachetools>=4.0 in /usr/local/lib/python3.8/dist-packages (from streamlit==1.13.0) (5.2.0)\n",
            "Requirement already satisfied: tornado>=5.0 in /usr/local/lib/python3.8/dist-packages (from streamlit==1.13.0) (6.0.4)\n",
            "Requirement already satisfied: pillow>=6.2.0 in /usr/local/lib/python3.8/dist-packages (from streamlit==1.13.0) (7.1.2)\n",
            "Requirement already satisfied: click>=7.0 in /usr/local/lib/python3.8/dist-packages (from streamlit==1.13.0) (7.1.2)\n",
            "Requirement already satisfied: packaging>=14.1 in /usr/local/lib/python3.8/dist-packages (from streamlit==1.13.0) (21.3)\n",
            "Requirement already satisfied: pydeck>=0.1.dev5 in /usr/local/lib/python3.8/dist-packages (from streamlit==1.13.0) (0.8.0)\n",
            "Requirement already satisfied: python-dateutil in /usr/local/lib/python3.8/dist-packages (from streamlit==1.13.0) (2.8.2)\n",
            "Requirement already satisfied: numpy in /usr/local/lib/python3.8/dist-packages (from streamlit==1.13.0) (1.21.6)\n",
            "Requirement already satisfied: semver in /usr/local/lib/python3.8/dist-packages (from streamlit==1.13.0) (2.13.0)\n",
            "Requirement already satisfied: blinker>=1.0.0 in /usr/local/lib/python3.8/dist-packages (from streamlit==1.13.0) (1.5)\n",
            "Requirement already satisfied: importlib-metadata>=1.4 in /usr/local/lib/python3.8/dist-packages (from streamlit==1.13.0) (5.2.0)\n",
            "Requirement already satisfied: jsonschema>=3.0 in /usr/local/lib/python3.8/dist-packages (from altair>=3.2.0->streamlit==1.13.0) (4.3.3)\n",
            "Requirement already satisfied: jinja2 in /usr/local/lib/python3.8/dist-packages (from altair>=3.2.0->streamlit==1.13.0) (2.11.3)\n",
            "Requirement already satisfied: entrypoints in /usr/local/lib/python3.8/dist-packages (from altair>=3.2.0->streamlit==1.13.0) (0.4)\n",
            "Requirement already satisfied: toolz in /usr/local/lib/python3.8/dist-packages (from altair>=3.2.0->streamlit==1.13.0) (0.12.0)\n",
            "Requirement already satisfied: gitdb<5,>=4.0.1 in /usr/local/lib/python3.8/dist-packages (from gitpython!=3.1.19->streamlit==1.13.0) (4.0.10)\n",
            "Requirement already satisfied: zipp>=0.5 in /usr/local/lib/python3.8/dist-packages (from importlib-metadata>=1.4->streamlit==1.13.0) (3.11.0)\n",
            "Requirement already satisfied: pyparsing!=3.0.5,>=2.0.2 in /usr/local/lib/python3.8/dist-packages (from packaging>=14.1->streamlit==1.13.0) (3.0.9)\n",
            "Requirement already satisfied: pytz>=2017.3 in /usr/local/lib/python3.8/dist-packages (from pandas>=0.21.0->streamlit==1.13.0) (2022.7)\n",
            "Requirement already satisfied: six>=1.5 in /usr/local/lib/python3.8/dist-packages (from python-dateutil->streamlit==1.13.0) (1.15.0)\n",
            "Requirement already satisfied: chardet<5,>=3.0.2 in /usr/local/lib/python3.8/dist-packages (from requests>=2.4->streamlit==1.13.0) (4.0.0)\n",
            "Requirement already satisfied: certifi>=2017.4.17 in /usr/local/lib/python3.8/dist-packages (from requests>=2.4->streamlit==1.13.0) (2022.12.7)\n",
            "Requirement already satisfied: urllib3<1.27,>=1.21.1 in /usr/local/lib/python3.8/dist-packages (from requests>=2.4->streamlit==1.13.0) (1.24.3)\n",
            "Requirement already satisfied: idna<3,>=2.5 in /usr/local/lib/python3.8/dist-packages (from requests>=2.4->streamlit==1.13.0) (2.10)\n",
            "Requirement already satisfied: commonmark<0.10.0,>=0.9.0 in /usr/local/lib/python3.8/dist-packages (from rich>=10.11.0->streamlit==1.13.0) (0.9.1)\n",
            "Requirement already satisfied: pygments<3.0.0,>=2.6.0 in /usr/local/lib/python3.8/dist-packages (from rich>=10.11.0->streamlit==1.13.0) (2.6.1)\n",
            "Requirement already satisfied: decorator>=3.4.0 in /usr/local/lib/python3.8/dist-packages (from validators>=0.2->streamlit==1.13.0) (4.4.2)\n",
            "Requirement already satisfied: smmap<6,>=3.0.1 in /usr/local/lib/python3.8/dist-packages (from gitdb<5,>=4.0.1->gitpython!=3.1.19->streamlit==1.13.0) (5.0.0)\n",
            "Requirement already satisfied: MarkupSafe>=0.23 in /usr/local/lib/python3.8/dist-packages (from jinja2->altair>=3.2.0->streamlit==1.13.0) (2.0.1)\n",
            "Requirement already satisfied: importlib-resources>=1.4.0 in /usr/local/lib/python3.8/dist-packages (from jsonschema>=3.0->altair>=3.2.0->streamlit==1.13.0) (5.10.1)\n",
            "Requirement already satisfied: pyrsistent!=0.17.0,!=0.17.1,!=0.17.2,>=0.14.0 in /usr/local/lib/python3.8/dist-packages (from jsonschema>=3.0->altair>=3.2.0->streamlit==1.13.0) (0.19.2)\n",
            "Requirement already satisfied: attrs>=17.4.0 in /usr/local/lib/python3.8/dist-packages (from jsonschema>=3.0->altair>=3.2.0->streamlit==1.13.0) (22.2.0)\n",
            "\u001b[K\u001b[?25h/tools/node/bin/lt -> /tools/node/lib/node_modules/localtunnel/bin/lt.js\n",
            "+ localtunnel@2.0.2\n",
            "updated 1 package in 1.096s\n"
          ]
        }
      ]
    },
    {
      "cell_type": "code",
      "source": [
        "!pip install streamlit-drawable-canvas"
      ],
      "metadata": {
        "colab": {
          "base_uri": "https://localhost:8080/"
        },
        "id": "gwWoSAvelpTh",
        "outputId": "2b722661-96e7-4652-a4af-92c6110035dd"
      },
      "execution_count": 58,
      "outputs": [
        {
          "output_type": "stream",
          "name": "stdout",
          "text": [
            "Looking in indexes: https://pypi.org/simple, https://us-python.pkg.dev/colab-wheels/public/simple/\n",
            "Requirement already satisfied: streamlit-drawable-canvas in /usr/local/lib/python3.8/dist-packages (0.9.2)\n",
            "Requirement already satisfied: Pillow in /usr/local/lib/python3.8/dist-packages (from streamlit-drawable-canvas) (7.1.2)\n",
            "Requirement already satisfied: numpy in /usr/local/lib/python3.8/dist-packages (from streamlit-drawable-canvas) (1.21.6)\n",
            "Requirement already satisfied: streamlit>=0.63 in /usr/local/lib/python3.8/dist-packages (from streamlit-drawable-canvas) (1.13.0)\n",
            "Requirement already satisfied: typing-extensions>=3.10.0.0 in /usr/local/lib/python3.8/dist-packages (from streamlit>=0.63->streamlit-drawable-canvas) (4.4.0)\n",
            "Requirement already satisfied: protobuf!=3.20.2,<4,>=3.12 in /usr/local/lib/python3.8/dist-packages (from streamlit>=0.63->streamlit-drawable-canvas) (3.19.6)\n",
            "Requirement already satisfied: altair>=3.2.0 in /usr/local/lib/python3.8/dist-packages (from streamlit>=0.63->streamlit-drawable-canvas) (4.2.0)\n",
            "Requirement already satisfied: tornado>=5.0 in /usr/local/lib/python3.8/dist-packages (from streamlit>=0.63->streamlit-drawable-canvas) (6.0.4)\n",
            "Requirement already satisfied: semver in /usr/local/lib/python3.8/dist-packages (from streamlit>=0.63->streamlit-drawable-canvas) (2.13.0)\n",
            "Requirement already satisfied: toml in /usr/local/lib/python3.8/dist-packages (from streamlit>=0.63->streamlit-drawable-canvas) (0.10.2)\n",
            "Requirement already satisfied: rich>=10.11.0 in /usr/local/lib/python3.8/dist-packages (from streamlit>=0.63->streamlit-drawable-canvas) (13.0.1)\n",
            "Requirement already satisfied: cachetools>=4.0 in /usr/local/lib/python3.8/dist-packages (from streamlit>=0.63->streamlit-drawable-canvas) (5.2.0)\n",
            "Requirement already satisfied: pyarrow>=4.0 in /usr/local/lib/python3.8/dist-packages (from streamlit>=0.63->streamlit-drawable-canvas) (9.0.0)\n",
            "Requirement already satisfied: pympler>=0.9 in /usr/local/lib/python3.8/dist-packages (from streamlit>=0.63->streamlit-drawable-canvas) (1.0.1)\n",
            "Requirement already satisfied: watchdog in /usr/local/lib/python3.8/dist-packages (from streamlit>=0.63->streamlit-drawable-canvas) (2.2.1)\n",
            "Requirement already satisfied: pydeck>=0.1.dev5 in /usr/local/lib/python3.8/dist-packages (from streamlit>=0.63->streamlit-drawable-canvas) (0.8.0)\n",
            "Requirement already satisfied: gitpython!=3.1.19 in /usr/local/lib/python3.8/dist-packages (from streamlit>=0.63->streamlit-drawable-canvas) (3.1.30)\n",
            "Requirement already satisfied: requests>=2.4 in /usr/local/lib/python3.8/dist-packages (from streamlit>=0.63->streamlit-drawable-canvas) (2.25.1)\n",
            "Requirement already satisfied: packaging>=14.1 in /usr/local/lib/python3.8/dist-packages (from streamlit>=0.63->streamlit-drawable-canvas) (21.3)\n",
            "Requirement already satisfied: click>=7.0 in /usr/local/lib/python3.8/dist-packages (from streamlit>=0.63->streamlit-drawable-canvas) (7.1.2)\n",
            "Requirement already satisfied: python-dateutil in /usr/local/lib/python3.8/dist-packages (from streamlit>=0.63->streamlit-drawable-canvas) (2.8.2)\n",
            "Requirement already satisfied: tzlocal>=1.1 in /usr/local/lib/python3.8/dist-packages (from streamlit>=0.63->streamlit-drawable-canvas) (1.5.1)\n",
            "Requirement already satisfied: importlib-metadata>=1.4 in /usr/local/lib/python3.8/dist-packages (from streamlit>=0.63->streamlit-drawable-canvas) (5.2.0)\n",
            "Requirement already satisfied: validators>=0.2 in /usr/local/lib/python3.8/dist-packages (from streamlit>=0.63->streamlit-drawable-canvas) (0.20.0)\n",
            "Requirement already satisfied: blinker>=1.0.0 in /usr/local/lib/python3.8/dist-packages (from streamlit>=0.63->streamlit-drawable-canvas) (1.5)\n",
            "Requirement already satisfied: pandas>=0.21.0 in /usr/local/lib/python3.8/dist-packages (from streamlit>=0.63->streamlit-drawable-canvas) (1.3.5)\n",
            "Requirement already satisfied: jsonschema>=3.0 in /usr/local/lib/python3.8/dist-packages (from altair>=3.2.0->streamlit>=0.63->streamlit-drawable-canvas) (4.3.3)\n",
            "Requirement already satisfied: entrypoints in /usr/local/lib/python3.8/dist-packages (from altair>=3.2.0->streamlit>=0.63->streamlit-drawable-canvas) (0.4)\n",
            "Requirement already satisfied: jinja2 in /usr/local/lib/python3.8/dist-packages (from altair>=3.2.0->streamlit>=0.63->streamlit-drawable-canvas) (2.11.3)\n",
            "Requirement already satisfied: toolz in /usr/local/lib/python3.8/dist-packages (from altair>=3.2.0->streamlit>=0.63->streamlit-drawable-canvas) (0.12.0)\n",
            "Requirement already satisfied: gitdb<5,>=4.0.1 in /usr/local/lib/python3.8/dist-packages (from gitpython!=3.1.19->streamlit>=0.63->streamlit-drawable-canvas) (4.0.10)\n",
            "Requirement already satisfied: zipp>=0.5 in /usr/local/lib/python3.8/dist-packages (from importlib-metadata>=1.4->streamlit>=0.63->streamlit-drawable-canvas) (3.11.0)\n",
            "Requirement already satisfied: pyparsing!=3.0.5,>=2.0.2 in /usr/local/lib/python3.8/dist-packages (from packaging>=14.1->streamlit>=0.63->streamlit-drawable-canvas) (3.0.9)\n",
            "Requirement already satisfied: pytz>=2017.3 in /usr/local/lib/python3.8/dist-packages (from pandas>=0.21.0->streamlit>=0.63->streamlit-drawable-canvas) (2022.7)\n",
            "Requirement already satisfied: six>=1.5 in /usr/local/lib/python3.8/dist-packages (from python-dateutil->streamlit>=0.63->streamlit-drawable-canvas) (1.15.0)\n",
            "Requirement already satisfied: idna<3,>=2.5 in /usr/local/lib/python3.8/dist-packages (from requests>=2.4->streamlit>=0.63->streamlit-drawable-canvas) (2.10)\n",
            "Requirement already satisfied: certifi>=2017.4.17 in /usr/local/lib/python3.8/dist-packages (from requests>=2.4->streamlit>=0.63->streamlit-drawable-canvas) (2022.12.7)\n",
            "Requirement already satisfied: urllib3<1.27,>=1.21.1 in /usr/local/lib/python3.8/dist-packages (from requests>=2.4->streamlit>=0.63->streamlit-drawable-canvas) (1.24.3)\n",
            "Requirement already satisfied: chardet<5,>=3.0.2 in /usr/local/lib/python3.8/dist-packages (from requests>=2.4->streamlit>=0.63->streamlit-drawable-canvas) (4.0.0)\n",
            "Requirement already satisfied: commonmark<0.10.0,>=0.9.0 in /usr/local/lib/python3.8/dist-packages (from rich>=10.11.0->streamlit>=0.63->streamlit-drawable-canvas) (0.9.1)\n",
            "Requirement already satisfied: pygments<3.0.0,>=2.6.0 in /usr/local/lib/python3.8/dist-packages (from rich>=10.11.0->streamlit>=0.63->streamlit-drawable-canvas) (2.6.1)\n",
            "Requirement already satisfied: decorator>=3.4.0 in /usr/local/lib/python3.8/dist-packages (from validators>=0.2->streamlit>=0.63->streamlit-drawable-canvas) (4.4.2)\n",
            "Requirement already satisfied: smmap<6,>=3.0.1 in /usr/local/lib/python3.8/dist-packages (from gitdb<5,>=4.0.1->gitpython!=3.1.19->streamlit>=0.63->streamlit-drawable-canvas) (5.0.0)\n",
            "Requirement already satisfied: MarkupSafe>=0.23 in /usr/local/lib/python3.8/dist-packages (from jinja2->altair>=3.2.0->streamlit>=0.63->streamlit-drawable-canvas) (2.0.1)\n",
            "Requirement already satisfied: pyrsistent!=0.17.0,!=0.17.1,!=0.17.2,>=0.14.0 in /usr/local/lib/python3.8/dist-packages (from jsonschema>=3.0->altair>=3.2.0->streamlit>=0.63->streamlit-drawable-canvas) (0.19.2)\n",
            "Requirement already satisfied: importlib-resources>=1.4.0 in /usr/local/lib/python3.8/dist-packages (from jsonschema>=3.0->altair>=3.2.0->streamlit>=0.63->streamlit-drawable-canvas) (5.10.1)\n",
            "Requirement already satisfied: attrs>=17.4.0 in /usr/local/lib/python3.8/dist-packages (from jsonschema>=3.0->altair>=3.2.0->streamlit>=0.63->streamlit-drawable-canvas) (22.2.0)\n"
          ]
        }
      ]
    },
    {
      "cell_type": "code",
      "execution_count": 59,
      "metadata": {
        "id": "bjUYrVHxdYo0"
      },
      "outputs": [],
      "source": [
        "import numpy as np\n",
        "import cv2\n",
        "import matplotlib.pyplot as plt\n",
        "import os \n",
        "from sklearn.model_selection import train_test_split\n",
        "import zipfile\n",
        "from sklearn.ensemble import RandomForestClassifier"
      ]
    },
    {
      "cell_type": "code",
      "source": [
        "from google.colab import drive\n",
        "drive.mount('/content/drive')"
      ],
      "metadata": {
        "colab": {
          "base_uri": "https://localhost:8080/"
        },
        "id": "BKB47B9yKTV9",
        "outputId": "f3b0e250-2ee2-4e3e-aa53-7547bea8d331"
      },
      "execution_count": 60,
      "outputs": [
        {
          "output_type": "stream",
          "name": "stdout",
          "text": [
            "Drive already mounted at /content/drive; to attempt to forcibly remount, call drive.mount(\"/content/drive\", force_remount=True).\n"
          ]
        }
      ]
    },
    {
      "cell_type": "markdown",
      "source": [
        "Preprocess"
      ],
      "metadata": {
        "id": "KOI7ErachIQJ"
      }
    },
    {
      "cell_type": "code",
      "source": [
        "def drawSquare(image):\n",
        "\t'''\n",
        "\tDraws a square around the found digits\n",
        "\t'''\t\t\n",
        "\tb = [0,0,0]\n",
        "\theight, width = image.shape[0], image.shape[1]\n",
        "\tif(height == width): ## if square\n",
        "\t\tsquare = image\n",
        "\t\treturn square\n",
        "\telse:\n",
        "\t\td_size = cv2.resize(image, (2*width, 2*height), interpolation=cv2.INTER_CUBIC)\n",
        "\t\theight, width = height * 2, width * 2\n",
        "\t\tif (height > width):\n",
        "\t\t\tpadding = int((height - width)/2)\n",
        "\t\t\td_size_square = cv2.copyMakeBorder(d_size, 0, 0, padding, padding, cv2.BORDER_CONSTANT, None,value=b)\n",
        "\t\telse:\n",
        "\t\t\tpadding = int((width - height)/2)\n",
        "\t\t\td_size_square = cv2.copyMakeBorder(d_size, padding, padding, 0, 0, cv2.BORDER_CONSTANT, None,value=b)\n",
        "\n",
        "\treturn d_size_square"
      ],
      "metadata": {
        "id": "tXp1XDtYgxSA"
      },
      "execution_count": 61,
      "outputs": []
    },
    {
      "cell_type": "code",
      "source": [
        "def resize(image, dim):\n",
        "\t'''\n",
        "\tReturns orignal image resized to shape 'dim'\n",
        "\t'''\t\n",
        "\tb = [0,0,0]\t \t\t\t\n",
        "\tdim = dim - 4\n",
        "\tsquared = image\n",
        "\tr = (float(dim) / squared.shape[1])\n",
        "\td = (dim, int(squared.shape[0] * r))\n",
        "\tresized = cv2.resize(image, d, interpolation = cv2.INTER_AREA)\n",
        "\theight, width = resized.shape[0], resized.shape[1];\n",
        "\tif (height > width):\n",
        "\t\tresized = cv2.copyMakeBorder(resized, 0,0,0,1, cv2.BORDER_CONSTANT, value=b)\n",
        "\tif (height < width):\n",
        "\t\tresized = cv2.copyMakeBorder(resized, 1,0,0,0, cv2.BORDER_CONSTANT, value=b)\n",
        "\n",
        "\tresized = cv2.copyMakeBorder(resized, 2,2,2,2,cv2.BORDER_CONSTANT, value=b)\n",
        "\theight, width = resized.shape[0], resized.shape[1]\t\n",
        "\t\n",
        "\treturn resized\t"
      ],
      "metadata": {
        "id": "LR8bMyHtgxVK"
      },
      "execution_count": 62,
      "outputs": []
    },
    {
      "cell_type": "markdown",
      "source": [
        "KNN"
      ],
      "metadata": {
        "id": "7wL4tPsahLfZ"
      }
    },
    {
      "cell_type": "code",
      "source": [
        "def get_path_list(root_path):\n",
        "    # compute list directories in root path\n",
        "    root = os.listdir(root_path) \n",
        "    # initilize array to store folder path in root directory \n",
        "    folder_path_list = [] \n",
        "\n",
        "    # looping through root directory\n",
        "    for index, folder_path in enumerate(root):\n",
        "        # append folder path\n",
        "        folder_path_list.append(folder_path)\n",
        "\n",
        "    return folder_path_list"
      ],
      "metadata": {
        "id": "P4vH7ghggxXu"
      },
      "execution_count": 63,
      "outputs": []
    },
    {
      "cell_type": "code",
      "source": [
        "def get_class_id(root_path, train_names):\n",
        "    # initilize array to store image and class id\n",
        "    image_list = []\n",
        "    image_blur_list = []\n",
        "    image_class_list = []\n",
        "\n",
        "    # looping through list of folder or train names path\n",
        "    for image_class, folder_path in enumerate(train_names):\n",
        "        full_folder_path = f'{root_path}/{folder_path}'\n",
        "        # compute list image path\n",
        "        folder = os.listdir(full_folder_path)\n",
        "        # looping through list of image in folder\n",
        "        for index, image_path in enumerate(folder):\n",
        "            full_image_path =  f'{full_folder_path}/{image_path}'\n",
        "            # load the image\n",
        "            image = cv2.imread(full_image_path)\n",
        "            image = cv2.cvtColor(image, cv2.COLOR_BGR2GRAY)\n",
        "            image = cv2.GaussianBlur(image, (5,5), 0)\n",
        "            image_blur_list.append(image)\n",
        "            \n",
        "            # append image list with the image\n",
        "            image_list.append(cv2.resize(image, (200,200)).flatten())\n",
        "            # append image class list with class of the image\n",
        "            image_class_list.append(image_class)\n",
        "    \n",
        "    image_list = np.array(image_list).astype(np.float32)\n",
        "    image_class_list = np.array(image_class_list).astype(np.float32)\n",
        "    \n",
        "    return image_list, image_class_list, image_blur_list"
      ],
      "metadata": {
        "id": "G1iVZnSUgxaG"
      },
      "execution_count": 65,
      "outputs": []
    },
    {
      "cell_type": "code",
      "source": [
        "train_root_path = './drive/MyDrive/DigitRecognition_Dataset/Train'\n",
        "train_names = get_path_list(train_root_path)\n",
        "train_image_list, image_classes_list, image_blur_list = get_class_id(train_root_path, train_names)\n",
        "\n",
        "(X_train, X_test, y_train, y_test) = train_test_split(train_image_list, image_classes_list, test_size=0.25, random_state=42)"
      ],
      "metadata": {
        "id": "ojSaYMq1GKEX"
      },
      "execution_count": 84,
      "outputs": []
    },
    {
      "cell_type": "code",
      "source": [
        "# Using K-NN(k- nearest neighbors) as the ML algorithm\n",
        "classifier_knn = cv2.ml.KNearest_create()\n",
        "classifier_knn.train(X_train, cv2.ml.ROW_SAMPLE, y_train)\n",
        "response, result, neighbours, distance = classifier_knn.findNearest(X_test, k=3)\n",
        "\n",
        "# Testing and calculating the accuracy of knn classifier\n",
        "res_flatten = result.flatten()\n",
        "correct = res_flatten == y_test\n",
        "correct = np.count_nonzero(correct)\n",
        "accuracy = correct * (100/res_flatten.size)\n",
        "print (\"Accuracy: \", accuracy)"
      ],
      "metadata": {
        "colab": {
          "base_uri": "https://localhost:8080/"
        },
        "id": "bd5kFuWLgxek",
        "outputId": "d24565e3-9215-4b91-f509-44c81cf0db45"
      },
      "execution_count": 73,
      "outputs": [
        {
          "output_type": "stream",
          "name": "stdout",
          "text": [
            "Accuracy:  11.1731843575419\n"
          ]
        }
      ]
    },
    {
      "cell_type": "code",
      "source": [
        "from tensorflow import keras\n",
        "# Sequential create a stack of layers\n",
        "model = keras.Sequential([\n",
        "    keras.layers.Dense(10, input_shape=(40000,), activation='sigmoid')\n",
        "])\n",
        "\n",
        "# Optimizer will help in backproagation to reach better global optima\n",
        "model.compile(\n",
        "    optimizer='adam',\n",
        "    loss='sparse_categorical_crossentropy',\n",
        "    metrics=['accuracy']\n",
        ")\n",
        "\n",
        "# Does the training\n",
        "model.fit(X_train, y_train, epochs=300)"
      ],
      "metadata": {
        "id": "mWrxVCCvDrNz",
        "outputId": "900c1210-97f7-47ad-97ab-7531c86c7f3a",
        "colab": {
          "base_uri": "https://localhost:8080/"
        }
      },
      "execution_count": 87,
      "outputs": [
        {
          "output_type": "stream",
          "name": "stdout",
          "text": [
            "Epoch 1/300\n",
            "17/17 [==============================] - 1s 15ms/step - loss: 20231.0645 - accuracy: 0.1269\n",
            "Epoch 2/300\n",
            "17/17 [==============================] - 0s 17ms/step - loss: 9229.4512 - accuracy: 0.0840\n",
            "Epoch 3/300\n",
            "17/17 [==============================] - 0s 9ms/step - loss: 5286.5796 - accuracy: 0.1138\n",
            "Epoch 4/300\n",
            "17/17 [==============================] - 0s 8ms/step - loss: 6548.2446 - accuracy: 0.1231\n",
            "Epoch 5/300\n",
            "17/17 [==============================] - 0s 8ms/step - loss: 7661.9932 - accuracy: 0.1101\n",
            "Epoch 6/300\n",
            "17/17 [==============================] - 0s 7ms/step - loss: 6567.6230 - accuracy: 0.1362\n",
            "Epoch 7/300\n",
            "17/17 [==============================] - 0s 8ms/step - loss: 6467.9263 - accuracy: 0.1157\n",
            "Epoch 8/300\n",
            "17/17 [==============================] - 0s 8ms/step - loss: 5208.2832 - accuracy: 0.1511\n",
            "Epoch 9/300\n",
            "17/17 [==============================] - 0s 8ms/step - loss: 3827.4810 - accuracy: 0.0970\n",
            "Epoch 10/300\n",
            "17/17 [==============================] - 0s 7ms/step - loss: 3064.5366 - accuracy: 0.1287\n",
            "Epoch 11/300\n",
            "17/17 [==============================] - 0s 7ms/step - loss: 4375.1631 - accuracy: 0.1287\n",
            "Epoch 12/300\n",
            "17/17 [==============================] - 0s 8ms/step - loss: 4863.2925 - accuracy: 0.1754\n",
            "Epoch 13/300\n",
            "17/17 [==============================] - 0s 7ms/step - loss: 3159.8545 - accuracy: 0.1810\n",
            "Epoch 14/300\n",
            "17/17 [==============================] - 0s 7ms/step - loss: 2606.8652 - accuracy: 0.1810\n",
            "Epoch 15/300\n",
            "17/17 [==============================] - 0s 8ms/step - loss: 2448.5828 - accuracy: 0.1884\n",
            "Epoch 16/300\n",
            "17/17 [==============================] - 0s 8ms/step - loss: 2356.4871 - accuracy: 0.2090\n",
            "Epoch 17/300\n",
            "17/17 [==============================] - 0s 8ms/step - loss: 2146.4380 - accuracy: 0.2220\n",
            "Epoch 18/300\n",
            "17/17 [==============================] - 0s 8ms/step - loss: 2351.2671 - accuracy: 0.1679\n",
            "Epoch 19/300\n",
            "17/17 [==============================] - 0s 8ms/step - loss: 3318.4138 - accuracy: 0.1754\n",
            "Epoch 20/300\n",
            "17/17 [==============================] - 0s 7ms/step - loss: 2844.2048 - accuracy: 0.1922\n",
            "Epoch 21/300\n",
            "17/17 [==============================] - 0s 7ms/step - loss: 2506.8623 - accuracy: 0.2463\n",
            "Epoch 22/300\n",
            "17/17 [==============================] - 0s 8ms/step - loss: 3078.5168 - accuracy: 0.1940\n",
            "Epoch 23/300\n",
            "17/17 [==============================] - 0s 8ms/step - loss: 3192.4636 - accuracy: 0.2593\n",
            "Epoch 24/300\n",
            "17/17 [==============================] - 0s 8ms/step - loss: 2709.7588 - accuracy: 0.2257\n",
            "Epoch 25/300\n",
            "17/17 [==============================] - 0s 7ms/step - loss: 2184.7864 - accuracy: 0.2649\n",
            "Epoch 26/300\n",
            "17/17 [==============================] - 0s 8ms/step - loss: 1888.9891 - accuracy: 0.2687\n",
            "Epoch 27/300\n",
            "17/17 [==============================] - 0s 8ms/step - loss: 1076.7346 - accuracy: 0.3750\n",
            "Epoch 28/300\n",
            "17/17 [==============================] - 0s 7ms/step - loss: 835.8995 - accuracy: 0.3545\n",
            "Epoch 29/300\n",
            "17/17 [==============================] - 0s 7ms/step - loss: 990.0192 - accuracy: 0.3769\n",
            "Epoch 30/300\n",
            "17/17 [==============================] - 0s 8ms/step - loss: 936.4266 - accuracy: 0.3713\n",
            "Epoch 31/300\n",
            "17/17 [==============================] - 0s 7ms/step - loss: 2180.1924 - accuracy: 0.2687\n",
            "Epoch 32/300\n",
            "17/17 [==============================] - 0s 8ms/step - loss: 1404.0609 - accuracy: 0.3377\n",
            "Epoch 33/300\n",
            "17/17 [==============================] - 0s 7ms/step - loss: 1064.8374 - accuracy: 0.3713\n",
            "Epoch 34/300\n",
            "17/17 [==============================] - 0s 7ms/step - loss: 1162.1029 - accuracy: 0.3657\n",
            "Epoch 35/300\n",
            "17/17 [==============================] - 0s 7ms/step - loss: 680.4798 - accuracy: 0.4739\n",
            "Epoch 36/300\n",
            "17/17 [==============================] - 0s 7ms/step - loss: 635.9359 - accuracy: 0.4701\n",
            "Epoch 37/300\n",
            "17/17 [==============================] - 0s 7ms/step - loss: 459.6767 - accuracy: 0.4701\n",
            "Epoch 38/300\n",
            "17/17 [==============================] - 0s 7ms/step - loss: 508.2467 - accuracy: 0.4534\n",
            "Epoch 39/300\n",
            "17/17 [==============================] - 0s 8ms/step - loss: 644.8674 - accuracy: 0.4627\n",
            "Epoch 40/300\n",
            "17/17 [==============================] - 0s 8ms/step - loss: 843.2529 - accuracy: 0.4310\n",
            "Epoch 41/300\n",
            "17/17 [==============================] - 0s 8ms/step - loss: 823.7493 - accuracy: 0.4795\n",
            "Epoch 42/300\n",
            "17/17 [==============================] - 0s 7ms/step - loss: 466.3128 - accuracy: 0.5373\n",
            "Epoch 43/300\n",
            "17/17 [==============================] - 0s 7ms/step - loss: 871.7040 - accuracy: 0.4254\n",
            "Epoch 44/300\n",
            "17/17 [==============================] - 0s 7ms/step - loss: 694.9679 - accuracy: 0.4440\n",
            "Epoch 45/300\n",
            "17/17 [==============================] - 0s 7ms/step - loss: 613.1176 - accuracy: 0.5373\n",
            "Epoch 46/300\n",
            "17/17 [==============================] - 0s 7ms/step - loss: 429.2816 - accuracy: 0.5541\n",
            "Epoch 47/300\n",
            "17/17 [==============================] - 0s 8ms/step - loss: 738.5167 - accuracy: 0.4627\n",
            "Epoch 48/300\n",
            "17/17 [==============================] - 0s 7ms/step - loss: 379.8212 - accuracy: 0.5989\n",
            "Epoch 49/300\n",
            "17/17 [==============================] - 0s 9ms/step - loss: 357.2473 - accuracy: 0.5821\n",
            "Epoch 50/300\n",
            "17/17 [==============================] - 0s 8ms/step - loss: 521.7377 - accuracy: 0.5560\n",
            "Epoch 51/300\n",
            "17/17 [==============================] - 0s 7ms/step - loss: 340.6913 - accuracy: 0.6026\n",
            "Epoch 52/300\n",
            "17/17 [==============================] - 0s 8ms/step - loss: 566.0639 - accuracy: 0.5112\n",
            "Epoch 53/300\n",
            "17/17 [==============================] - 0s 7ms/step - loss: 1819.5453 - accuracy: 0.3675\n",
            "Epoch 54/300\n",
            "17/17 [==============================] - 0s 7ms/step - loss: 1775.9332 - accuracy: 0.3545\n",
            "Epoch 55/300\n",
            "17/17 [==============================] - 0s 8ms/step - loss: 814.6526 - accuracy: 0.4869\n",
            "Epoch 56/300\n",
            "17/17 [==============================] - 0s 7ms/step - loss: 676.6298 - accuracy: 0.5317\n",
            "Epoch 57/300\n",
            "17/17 [==============================] - 0s 7ms/step - loss: 951.7765 - accuracy: 0.4478\n",
            "Epoch 58/300\n",
            "17/17 [==============================] - 0s 7ms/step - loss: 916.1926 - accuracy: 0.4384\n",
            "Epoch 59/300\n",
            "17/17 [==============================] - 0s 7ms/step - loss: 1077.6364 - accuracy: 0.3881\n",
            "Epoch 60/300\n",
            "17/17 [==============================] - 0s 6ms/step - loss: 1121.9089 - accuracy: 0.4216\n",
            "Epoch 61/300\n",
            "17/17 [==============================] - 0s 8ms/step - loss: 1020.1387 - accuracy: 0.4552\n",
            "Epoch 62/300\n",
            "17/17 [==============================] - 0s 7ms/step - loss: 1772.3064 - accuracy: 0.3377\n",
            "Epoch 63/300\n",
            "17/17 [==============================] - 0s 8ms/step - loss: 2008.2922 - accuracy: 0.2780\n",
            "Epoch 64/300\n",
            "17/17 [==============================] - 0s 8ms/step - loss: 2000.2015 - accuracy: 0.3228\n",
            "Epoch 65/300\n",
            "17/17 [==============================] - 0s 8ms/step - loss: 1393.2734 - accuracy: 0.3918\n",
            "Epoch 66/300\n",
            "17/17 [==============================] - 0s 7ms/step - loss: 772.8952 - accuracy: 0.5429\n",
            "Epoch 67/300\n",
            "17/17 [==============================] - 0s 8ms/step - loss: 544.5325 - accuracy: 0.5765\n",
            "Epoch 68/300\n",
            "17/17 [==============================] - 0s 8ms/step - loss: 640.2985 - accuracy: 0.5485\n",
            "Epoch 69/300\n",
            "17/17 [==============================] - 0s 6ms/step - loss: 958.5400 - accuracy: 0.4534\n",
            "Epoch 70/300\n",
            "17/17 [==============================] - 0s 8ms/step - loss: 773.6522 - accuracy: 0.5392\n",
            "Epoch 71/300\n",
            "17/17 [==============================] - 0s 8ms/step - loss: 736.3456 - accuracy: 0.5392\n",
            "Epoch 72/300\n",
            "17/17 [==============================] - 0s 7ms/step - loss: 458.6707 - accuracy: 0.5970\n",
            "Epoch 73/300\n",
            "17/17 [==============================] - 0s 7ms/step - loss: 598.5507 - accuracy: 0.5896\n",
            "Epoch 74/300\n",
            "17/17 [==============================] - 0s 8ms/step - loss: 928.5731 - accuracy: 0.4608\n",
            "Epoch 75/300\n",
            "17/17 [==============================] - 0s 8ms/step - loss: 1109.1765 - accuracy: 0.3881\n",
            "Epoch 76/300\n",
            "17/17 [==============================] - 0s 7ms/step - loss: 2127.0789 - accuracy: 0.2985\n",
            "Epoch 77/300\n",
            "17/17 [==============================] - 0s 7ms/step - loss: 814.6133 - accuracy: 0.4739\n",
            "Epoch 78/300\n",
            "17/17 [==============================] - 0s 7ms/step - loss: 428.2552 - accuracy: 0.6567\n",
            "Epoch 79/300\n",
            "17/17 [==============================] - 0s 7ms/step - loss: 322.0289 - accuracy: 0.6884\n",
            "Epoch 80/300\n",
            "17/17 [==============================] - 0s 8ms/step - loss: 248.2218 - accuracy: 0.6754\n",
            "Epoch 81/300\n",
            "17/17 [==============================] - 0s 7ms/step - loss: 312.0330 - accuracy: 0.7108\n",
            "Epoch 82/300\n",
            "17/17 [==============================] - 0s 6ms/step - loss: 294.4645 - accuracy: 0.6828\n",
            "Epoch 83/300\n",
            "17/17 [==============================] - 0s 7ms/step - loss: 357.7654 - accuracy: 0.6604\n",
            "Epoch 84/300\n",
            "17/17 [==============================] - 0s 7ms/step - loss: 433.2948 - accuracy: 0.6250\n",
            "Epoch 85/300\n",
            "17/17 [==============================] - 0s 7ms/step - loss: 433.6601 - accuracy: 0.5896\n",
            "Epoch 86/300\n",
            "17/17 [==============================] - 0s 7ms/step - loss: 161.2321 - accuracy: 0.7575\n",
            "Epoch 87/300\n",
            "17/17 [==============================] - 0s 7ms/step - loss: 84.5765 - accuracy: 0.8172\n",
            "Epoch 88/300\n",
            "17/17 [==============================] - 0s 9ms/step - loss: 120.4802 - accuracy: 0.7948\n",
            "Epoch 89/300\n",
            "17/17 [==============================] - 0s 8ms/step - loss: 305.1221 - accuracy: 0.6735\n",
            "Epoch 90/300\n",
            "17/17 [==============================] - 0s 7ms/step - loss: 275.2700 - accuracy: 0.6884\n",
            "Epoch 91/300\n",
            "17/17 [==============================] - 0s 7ms/step - loss: 230.1645 - accuracy: 0.7388\n",
            "Epoch 92/300\n",
            "17/17 [==============================] - 0s 8ms/step - loss: 584.3188 - accuracy: 0.5877\n",
            "Epoch 93/300\n",
            "17/17 [==============================] - 0s 7ms/step - loss: 1097.8718 - accuracy: 0.4366\n",
            "Epoch 94/300\n",
            "17/17 [==============================] - 0s 8ms/step - loss: 1395.9126 - accuracy: 0.4720\n",
            "Epoch 95/300\n",
            "17/17 [==============================] - 0s 8ms/step - loss: 740.6434 - accuracy: 0.5840\n",
            "Epoch 96/300\n",
            "17/17 [==============================] - 0s 7ms/step - loss: 413.0513 - accuracy: 0.6604\n",
            "Epoch 97/300\n",
            "17/17 [==============================] - 0s 8ms/step - loss: 843.6600 - accuracy: 0.5149\n",
            "Epoch 98/300\n",
            "17/17 [==============================] - 0s 7ms/step - loss: 1361.4558 - accuracy: 0.4981\n",
            "Epoch 99/300\n",
            "17/17 [==============================] - 0s 7ms/step - loss: 867.5410 - accuracy: 0.5131\n",
            "Epoch 100/300\n",
            "17/17 [==============================] - 0s 8ms/step - loss: 890.7514 - accuracy: 0.5187\n",
            "Epoch 101/300\n",
            "17/17 [==============================] - 0s 8ms/step - loss: 895.8859 - accuracy: 0.5243\n",
            "Epoch 102/300\n",
            "17/17 [==============================] - 0s 8ms/step - loss: 788.0833 - accuracy: 0.5746\n",
            "Epoch 103/300\n",
            "17/17 [==============================] - 0s 7ms/step - loss: 613.6369 - accuracy: 0.6045\n",
            "Epoch 104/300\n",
            "17/17 [==============================] - 0s 8ms/step - loss: 305.5255 - accuracy: 0.7108\n",
            "Epoch 105/300\n",
            "17/17 [==============================] - 0s 7ms/step - loss: 132.4875 - accuracy: 0.7929\n",
            "Epoch 106/300\n",
            "17/17 [==============================] - 0s 7ms/step - loss: 62.1049 - accuracy: 0.8601\n",
            "Epoch 107/300\n",
            "17/17 [==============================] - 0s 8ms/step - loss: 147.2215 - accuracy: 0.7929\n",
            "Epoch 108/300\n",
            "17/17 [==============================] - 0s 7ms/step - loss: 516.7709 - accuracy: 0.6772\n",
            "Epoch 109/300\n",
            "17/17 [==============================] - 0s 8ms/step - loss: 326.2687 - accuracy: 0.7127\n",
            "Epoch 110/300\n",
            "17/17 [==============================] - 0s 8ms/step - loss: 409.0573 - accuracy: 0.6119\n",
            "Epoch 111/300\n",
            "17/17 [==============================] - 0s 8ms/step - loss: 425.3545 - accuracy: 0.6101\n",
            "Epoch 112/300\n",
            "17/17 [==============================] - 0s 7ms/step - loss: 358.4987 - accuracy: 0.6940\n",
            "Epoch 113/300\n",
            "17/17 [==============================] - 0s 8ms/step - loss: 124.4581 - accuracy: 0.8022\n",
            "Epoch 114/300\n",
            "17/17 [==============================] - 0s 7ms/step - loss: 194.7256 - accuracy: 0.7799\n",
            "Epoch 115/300\n",
            "17/17 [==============================] - 0s 7ms/step - loss: 337.7386 - accuracy: 0.6716\n",
            "Epoch 116/300\n",
            "17/17 [==============================] - 0s 9ms/step - loss: 302.6349 - accuracy: 0.6828\n",
            "Epoch 117/300\n",
            "17/17 [==============================] - 0s 8ms/step - loss: 312.1637 - accuracy: 0.6642\n",
            "Epoch 118/300\n",
            "17/17 [==============================] - 0s 7ms/step - loss: 200.7890 - accuracy: 0.7575\n",
            "Epoch 119/300\n",
            "17/17 [==============================] - 0s 8ms/step - loss: 114.2484 - accuracy: 0.8340\n",
            "Epoch 120/300\n",
            "17/17 [==============================] - 0s 7ms/step - loss: 142.3135 - accuracy: 0.8302\n",
            "Epoch 121/300\n",
            "17/17 [==============================] - 0s 8ms/step - loss: 161.0493 - accuracy: 0.7817\n",
            "Epoch 122/300\n",
            "17/17 [==============================] - 0s 7ms/step - loss: 180.2215 - accuracy: 0.7817\n",
            "Epoch 123/300\n",
            "17/17 [==============================] - 0s 7ms/step - loss: 119.7341 - accuracy: 0.8265\n",
            "Epoch 124/300\n",
            "17/17 [==============================] - 0s 8ms/step - loss: 225.1716 - accuracy: 0.7556\n",
            "Epoch 125/300\n",
            "17/17 [==============================] - 0s 8ms/step - loss: 195.7225 - accuracy: 0.8022\n",
            "Epoch 126/300\n",
            "17/17 [==============================] - 0s 8ms/step - loss: 159.7169 - accuracy: 0.8078\n",
            "Epoch 127/300\n",
            "17/17 [==============================] - 0s 7ms/step - loss: 166.2691 - accuracy: 0.7948\n",
            "Epoch 128/300\n",
            "17/17 [==============================] - 0s 7ms/step - loss: 369.0536 - accuracy: 0.7127\n",
            "Epoch 129/300\n",
            "17/17 [==============================] - 0s 8ms/step - loss: 865.6441 - accuracy: 0.5485\n",
            "Epoch 130/300\n",
            "17/17 [==============================] - 0s 7ms/step - loss: 696.4040 - accuracy: 0.6231\n",
            "Epoch 131/300\n",
            "17/17 [==============================] - 0s 8ms/step - loss: 539.2091 - accuracy: 0.6418\n",
            "Epoch 132/300\n",
            "17/17 [==============================] - 0s 8ms/step - loss: 755.2405 - accuracy: 0.5616\n",
            "Epoch 133/300\n",
            "17/17 [==============================] - 0s 8ms/step - loss: 654.5775 - accuracy: 0.6437\n",
            "Epoch 134/300\n",
            "17/17 [==============================] - 0s 7ms/step - loss: 253.4190 - accuracy: 0.7164\n",
            "Epoch 135/300\n",
            "17/17 [==============================] - 0s 8ms/step - loss: 159.4512 - accuracy: 0.7799\n",
            "Epoch 136/300\n",
            "17/17 [==============================] - 0s 8ms/step - loss: 129.3376 - accuracy: 0.8284\n",
            "Epoch 137/300\n",
            "17/17 [==============================] - 0s 7ms/step - loss: 147.6660 - accuracy: 0.8116\n",
            "Epoch 138/300\n",
            "17/17 [==============================] - 0s 9ms/step - loss: 90.7687 - accuracy: 0.8545\n",
            "Epoch 139/300\n",
            "17/17 [==============================] - 0s 8ms/step - loss: 106.2309 - accuracy: 0.8284\n",
            "Epoch 140/300\n",
            "17/17 [==============================] - 0s 8ms/step - loss: 166.1223 - accuracy: 0.7799\n",
            "Epoch 141/300\n",
            "17/17 [==============================] - 0s 7ms/step - loss: 290.9482 - accuracy: 0.6828\n",
            "Epoch 142/300\n",
            "17/17 [==============================] - 0s 8ms/step - loss: 155.2140 - accuracy: 0.8097\n",
            "Epoch 143/300\n",
            "17/17 [==============================] - 0s 9ms/step - loss: 257.6060 - accuracy: 0.7425\n",
            "Epoch 144/300\n",
            "17/17 [==============================] - 0s 7ms/step - loss: 525.4675 - accuracy: 0.6082\n",
            "Epoch 145/300\n",
            "17/17 [==============================] - 0s 7ms/step - loss: 467.8759 - accuracy: 0.6642\n",
            "Epoch 146/300\n",
            "17/17 [==============================] - 0s 9ms/step - loss: 470.1620 - accuracy: 0.7649\n",
            "Epoch 147/300\n",
            "17/17 [==============================] - 0s 8ms/step - loss: 340.9535 - accuracy: 0.7071\n",
            "Epoch 148/300\n",
            "17/17 [==============================] - 0s 8ms/step - loss: 585.5439 - accuracy: 0.6119\n",
            "Epoch 149/300\n",
            "17/17 [==============================] - 0s 7ms/step - loss: 209.2414 - accuracy: 0.7388\n",
            "Epoch 150/300\n",
            "17/17 [==============================] - 0s 8ms/step - loss: 148.0820 - accuracy: 0.8246\n",
            "Epoch 151/300\n",
            "17/17 [==============================] - 0s 8ms/step - loss: 159.3352 - accuracy: 0.7780\n",
            "Epoch 152/300\n",
            "17/17 [==============================] - 0s 8ms/step - loss: 625.6766 - accuracy: 0.6642\n",
            "Epoch 153/300\n",
            "17/17 [==============================] - 0s 8ms/step - loss: 834.8474 - accuracy: 0.6213\n",
            "Epoch 154/300\n",
            "17/17 [==============================] - 0s 8ms/step - loss: 668.5626 - accuracy: 0.6642\n",
            "Epoch 155/300\n",
            "17/17 [==============================] - 0s 8ms/step - loss: 464.7809 - accuracy: 0.6772\n",
            "Epoch 156/300\n",
            "17/17 [==============================] - 0s 7ms/step - loss: 515.5762 - accuracy: 0.6847\n",
            "Epoch 157/300\n",
            "17/17 [==============================] - 0s 8ms/step - loss: 798.6266 - accuracy: 0.6399\n",
            "Epoch 158/300\n",
            "17/17 [==============================] - 0s 8ms/step - loss: 390.9872 - accuracy: 0.7276\n",
            "Epoch 159/300\n",
            "17/17 [==============================] - 0s 7ms/step - loss: 148.4539 - accuracy: 0.8078\n",
            "Epoch 160/300\n",
            "17/17 [==============================] - 0s 8ms/step - loss: 199.4276 - accuracy: 0.8638\n",
            "Epoch 161/300\n",
            "17/17 [==============================] - 0s 8ms/step - loss: 264.6652 - accuracy: 0.7407\n",
            "Epoch 162/300\n",
            "17/17 [==============================] - 0s 7ms/step - loss: 199.8463 - accuracy: 0.7854\n",
            "Epoch 163/300\n",
            "17/17 [==============================] - 0s 8ms/step - loss: 160.2991 - accuracy: 0.7743\n",
            "Epoch 164/300\n",
            "17/17 [==============================] - 0s 8ms/step - loss: 76.1690 - accuracy: 0.8713\n",
            "Epoch 165/300\n",
            "17/17 [==============================] - 0s 8ms/step - loss: 73.5274 - accuracy: 0.8787\n",
            "Epoch 166/300\n",
            "17/17 [==============================] - 0s 8ms/step - loss: 221.8544 - accuracy: 0.8153\n",
            "Epoch 167/300\n",
            "17/17 [==============================] - 0s 8ms/step - loss: 128.3161 - accuracy: 0.8433\n",
            "Epoch 168/300\n",
            "17/17 [==============================] - 0s 8ms/step - loss: 140.0886 - accuracy: 0.7985\n",
            "Epoch 169/300\n",
            "17/17 [==============================] - 0s 8ms/step - loss: 551.6441 - accuracy: 0.7052\n",
            "Epoch 170/300\n",
            "17/17 [==============================] - 0s 8ms/step - loss: 560.2306 - accuracy: 0.6325\n",
            "Epoch 171/300\n",
            "17/17 [==============================] - 0s 8ms/step - loss: 1135.7616 - accuracy: 0.5280\n",
            "Epoch 172/300\n",
            "17/17 [==============================] - 0s 8ms/step - loss: 2128.7041 - accuracy: 0.3937\n",
            "Epoch 173/300\n",
            "17/17 [==============================] - 0s 8ms/step - loss: 2629.6223 - accuracy: 0.4328\n",
            "Epoch 174/300\n",
            "17/17 [==============================] - 0s 7ms/step - loss: 2275.4517 - accuracy: 0.3937\n",
            "Epoch 175/300\n",
            "17/17 [==============================] - 0s 9ms/step - loss: 1374.1975 - accuracy: 0.4869\n",
            "Epoch 176/300\n",
            "17/17 [==============================] - 0s 7ms/step - loss: 719.0644 - accuracy: 0.5765\n",
            "Epoch 177/300\n",
            "17/17 [==============================] - 0s 8ms/step - loss: 817.4807 - accuracy: 0.6045\n",
            "Epoch 178/300\n",
            "17/17 [==============================] - 0s 8ms/step - loss: 566.0549 - accuracy: 0.6493\n",
            "Epoch 179/300\n",
            "17/17 [==============================] - 0s 8ms/step - loss: 227.2750 - accuracy: 0.7892\n",
            "Epoch 180/300\n",
            "17/17 [==============================] - 0s 7ms/step - loss: 272.0535 - accuracy: 0.7313\n",
            "Epoch 181/300\n",
            "17/17 [==============================] - 0s 7ms/step - loss: 327.4448 - accuracy: 0.7705\n",
            "Epoch 182/300\n",
            "17/17 [==============================] - 0s 8ms/step - loss: 100.7778 - accuracy: 0.8825\n",
            "Epoch 183/300\n",
            "17/17 [==============================] - 0s 8ms/step - loss: 40.8363 - accuracy: 0.9310\n",
            "Epoch 184/300\n",
            "17/17 [==============================] - 0s 8ms/step - loss: 39.5146 - accuracy: 0.9328\n",
            "Epoch 185/300\n",
            "17/17 [==============================] - 0s 8ms/step - loss: 73.2549 - accuracy: 0.8750\n",
            "Epoch 186/300\n",
            "17/17 [==============================] - 0s 7ms/step - loss: 223.6950 - accuracy: 0.8060\n",
            "Epoch 187/300\n",
            "17/17 [==============================] - 0s 8ms/step - loss: 197.1107 - accuracy: 0.8041\n",
            "Epoch 188/300\n",
            "17/17 [==============================] - 0s 7ms/step - loss: 95.4862 - accuracy: 0.8526\n",
            "Epoch 189/300\n",
            "17/17 [==============================] - 0s 8ms/step - loss: 124.6839 - accuracy: 0.8545\n",
            "Epoch 190/300\n",
            "17/17 [==============================] - 0s 9ms/step - loss: 26.0375 - accuracy: 0.9366\n",
            "Epoch 191/300\n",
            "17/17 [==============================] - 0s 8ms/step - loss: 29.6331 - accuracy: 0.9291\n",
            "Epoch 192/300\n",
            "17/17 [==============================] - 0s 6ms/step - loss: 126.0397 - accuracy: 0.8358\n",
            "Epoch 193/300\n",
            "17/17 [==============================] - 0s 8ms/step - loss: 233.2833 - accuracy: 0.8041\n",
            "Epoch 194/300\n",
            "17/17 [==============================] - 0s 8ms/step - loss: 407.9006 - accuracy: 0.7631\n",
            "Epoch 195/300\n",
            "17/17 [==============================] - 0s 8ms/step - loss: 137.4180 - accuracy: 0.8172\n",
            "Epoch 196/300\n",
            "17/17 [==============================] - 0s 7ms/step - loss: 79.4383 - accuracy: 0.8731\n",
            "Epoch 197/300\n",
            "17/17 [==============================] - 0s 9ms/step - loss: 693.5524 - accuracy: 0.7276\n",
            "Epoch 198/300\n",
            "17/17 [==============================] - 0s 7ms/step - loss: 1011.6636 - accuracy: 0.6269\n",
            "Epoch 199/300\n",
            "17/17 [==============================] - 0s 8ms/step - loss: 689.0466 - accuracy: 0.6213\n",
            "Epoch 200/300\n",
            "17/17 [==============================] - 0s 7ms/step - loss: 327.5309 - accuracy: 0.7575\n",
            "Epoch 201/300\n",
            "17/17 [==============================] - 0s 8ms/step - loss: 437.3595 - accuracy: 0.7836\n",
            "Epoch 202/300\n",
            "17/17 [==============================] - 0s 8ms/step - loss: 231.5994 - accuracy: 0.7687\n",
            "Epoch 203/300\n",
            "17/17 [==============================] - 0s 8ms/step - loss: 276.6199 - accuracy: 0.8078\n",
            "Epoch 204/300\n",
            "17/17 [==============================] - 0s 9ms/step - loss: 141.1463 - accuracy: 0.8302\n",
            "Epoch 205/300\n",
            "17/17 [==============================] - 0s 8ms/step - loss: 149.9630 - accuracy: 0.8414\n",
            "Epoch 206/300\n",
            "17/17 [==============================] - 0s 9ms/step - loss: 47.8505 - accuracy: 0.9067\n",
            "Epoch 207/300\n",
            "17/17 [==============================] - 0s 8ms/step - loss: 82.3513 - accuracy: 0.9067\n",
            "Epoch 208/300\n",
            "17/17 [==============================] - 0s 8ms/step - loss: 471.9979 - accuracy: 0.8340\n",
            "Epoch 209/300\n",
            "17/17 [==============================] - 0s 6ms/step - loss: 200.3868 - accuracy: 0.8153\n",
            "Epoch 210/300\n",
            "17/17 [==============================] - 0s 7ms/step - loss: 84.6583 - accuracy: 0.8974\n",
            "Epoch 211/300\n",
            "17/17 [==============================] - 0s 7ms/step - loss: 28.3779 - accuracy: 0.9366\n",
            "Epoch 212/300\n",
            "17/17 [==============================] - 0s 10ms/step - loss: 91.5386 - accuracy: 0.8675\n",
            "Epoch 213/300\n",
            "17/17 [==============================] - 0s 6ms/step - loss: 56.5598 - accuracy: 0.8918\n",
            "Epoch 214/300\n",
            "17/17 [==============================] - 0s 8ms/step - loss: 166.1901 - accuracy: 0.8563\n",
            "Epoch 215/300\n",
            "17/17 [==============================] - 0s 8ms/step - loss: 126.5392 - accuracy: 0.8601\n",
            "Epoch 216/300\n",
            "17/17 [==============================] - 0s 7ms/step - loss: 77.2376 - accuracy: 0.8806\n",
            "Epoch 217/300\n",
            "17/17 [==============================] - 0s 7ms/step - loss: 167.0981 - accuracy: 0.8116\n",
            "Epoch 218/300\n",
            "17/17 [==============================] - 0s 8ms/step - loss: 167.4026 - accuracy: 0.8414\n",
            "Epoch 219/300\n",
            "17/17 [==============================] - 0s 8ms/step - loss: 160.6798 - accuracy: 0.8284\n",
            "Epoch 220/300\n",
            "17/17 [==============================] - 0s 8ms/step - loss: 97.9391 - accuracy: 0.8843\n",
            "Epoch 221/300\n",
            "17/17 [==============================] - 0s 7ms/step - loss: 129.8582 - accuracy: 0.8825\n",
            "Epoch 222/300\n",
            "17/17 [==============================] - 0s 7ms/step - loss: 100.8236 - accuracy: 0.8787\n",
            "Epoch 223/300\n",
            "17/17 [==============================] - 0s 7ms/step - loss: 1039.3986 - accuracy: 0.6138\n",
            "Epoch 224/300\n",
            "17/17 [==============================] - 0s 7ms/step - loss: 709.9032 - accuracy: 0.6549\n",
            "Epoch 225/300\n",
            "17/17 [==============================] - 0s 8ms/step - loss: 793.8342 - accuracy: 0.5672\n",
            "Epoch 226/300\n",
            "17/17 [==============================] - 0s 8ms/step - loss: 2353.7522 - accuracy: 0.4608\n",
            "Epoch 227/300\n",
            "17/17 [==============================] - 0s 8ms/step - loss: 3708.4048 - accuracy: 0.3433\n",
            "Epoch 228/300\n",
            "17/17 [==============================] - 0s 7ms/step - loss: 1592.6968 - accuracy: 0.4944\n",
            "Epoch 229/300\n",
            "17/17 [==============================] - 0s 8ms/step - loss: 1242.6758 - accuracy: 0.5504\n",
            "Epoch 230/300\n",
            "17/17 [==============================] - 0s 7ms/step - loss: 803.0118 - accuracy: 0.6660\n",
            "Epoch 231/300\n",
            "17/17 [==============================] - 0s 7ms/step - loss: 233.0244 - accuracy: 0.8022\n",
            "Epoch 232/300\n",
            "17/17 [==============================] - 0s 8ms/step - loss: 97.9675 - accuracy: 0.8694\n",
            "Epoch 233/300\n",
            "17/17 [==============================] - 0s 7ms/step - loss: 264.1434 - accuracy: 0.8414\n",
            "Epoch 234/300\n",
            "17/17 [==============================] - 0s 7ms/step - loss: 176.6996 - accuracy: 0.8265\n",
            "Epoch 235/300\n",
            "17/17 [==============================] - 0s 7ms/step - loss: 16.0707 - accuracy: 0.9515\n",
            "Epoch 236/300\n",
            "17/17 [==============================] - 0s 8ms/step - loss: 52.3130 - accuracy: 0.9104\n",
            "Epoch 237/300\n",
            "17/17 [==============================] - 0s 8ms/step - loss: 35.8057 - accuracy: 0.9310\n",
            "Epoch 238/300\n",
            "17/17 [==============================] - 0s 8ms/step - loss: 168.3236 - accuracy: 0.8526\n",
            "Epoch 239/300\n",
            "17/17 [==============================] - 0s 7ms/step - loss: 153.9536 - accuracy: 0.8619\n",
            "Epoch 240/300\n",
            "17/17 [==============================] - 0s 7ms/step - loss: 166.7792 - accuracy: 0.8265\n",
            "Epoch 241/300\n",
            "17/17 [==============================] - 0s 8ms/step - loss: 203.9787 - accuracy: 0.8134\n",
            "Epoch 242/300\n",
            "17/17 [==============================] - 0s 8ms/step - loss: 244.7518 - accuracy: 0.8022\n",
            "Epoch 243/300\n",
            "17/17 [==============================] - 0s 8ms/step - loss: 389.0648 - accuracy: 0.7593\n",
            "Epoch 244/300\n",
            "17/17 [==============================] - 0s 8ms/step - loss: 585.2368 - accuracy: 0.7724\n",
            "Epoch 245/300\n",
            "17/17 [==============================] - 0s 8ms/step - loss: 409.6772 - accuracy: 0.7276\n",
            "Epoch 246/300\n",
            "17/17 [==============================] - 0s 8ms/step - loss: 181.3408 - accuracy: 0.8153\n",
            "Epoch 247/300\n",
            "17/17 [==============================] - 0s 8ms/step - loss: 69.8701 - accuracy: 0.9086\n",
            "Epoch 248/300\n",
            "17/17 [==============================] - 0s 8ms/step - loss: 228.7255 - accuracy: 0.8116\n",
            "Epoch 249/300\n",
            "17/17 [==============================] - 0s 8ms/step - loss: 677.8363 - accuracy: 0.7631\n",
            "Epoch 250/300\n",
            "17/17 [==============================] - 0s 8ms/step - loss: 159.1891 - accuracy: 0.8787\n",
            "Epoch 251/300\n",
            "17/17 [==============================] - 0s 8ms/step - loss: 34.5346 - accuracy: 0.9440\n",
            "Epoch 252/300\n",
            "17/17 [==============================] - 0s 7ms/step - loss: 108.5167 - accuracy: 0.9049\n",
            "Epoch 253/300\n",
            "17/17 [==============================] - 0s 8ms/step - loss: 113.4961 - accuracy: 0.8545\n",
            "Epoch 254/300\n",
            "17/17 [==============================] - 0s 8ms/step - loss: 107.1163 - accuracy: 0.8825\n",
            "Epoch 255/300\n",
            "17/17 [==============================] - 0s 7ms/step - loss: 138.9813 - accuracy: 0.8470\n",
            "Epoch 256/300\n",
            "17/17 [==============================] - 0s 9ms/step - loss: 271.5928 - accuracy: 0.8228\n",
            "Epoch 257/300\n",
            "17/17 [==============================] - 0s 8ms/step - loss: 317.7715 - accuracy: 0.7724\n",
            "Epoch 258/300\n",
            "17/17 [==============================] - 0s 8ms/step - loss: 396.4233 - accuracy: 0.8097\n",
            "Epoch 259/300\n",
            "17/17 [==============================] - 0s 8ms/step - loss: 128.0842 - accuracy: 0.8507\n",
            "Epoch 260/300\n",
            "17/17 [==============================] - 0s 8ms/step - loss: 34.1879 - accuracy: 0.9272\n",
            "Epoch 261/300\n",
            "17/17 [==============================] - 0s 8ms/step - loss: 63.9470 - accuracy: 0.8993\n",
            "Epoch 262/300\n",
            "17/17 [==============================] - 0s 8ms/step - loss: 129.0827 - accuracy: 0.8713\n",
            "Epoch 263/300\n",
            "17/17 [==============================] - 0s 7ms/step - loss: 57.6695 - accuracy: 0.8937\n",
            "Epoch 264/300\n",
            "17/17 [==============================] - 0s 8ms/step - loss: 41.8677 - accuracy: 0.9328\n",
            "Epoch 265/300\n",
            "17/17 [==============================] - 0s 8ms/step - loss: 18.0462 - accuracy: 0.9590\n",
            "Epoch 266/300\n",
            "17/17 [==============================] - 0s 7ms/step - loss: 39.0054 - accuracy: 0.9366\n",
            "Epoch 267/300\n",
            "17/17 [==============================] - 0s 7ms/step - loss: 32.7327 - accuracy: 0.9534\n",
            "Epoch 268/300\n",
            "17/17 [==============================] - 0s 8ms/step - loss: 18.4313 - accuracy: 0.9459\n",
            "Epoch 269/300\n",
            "17/17 [==============================] - 0s 7ms/step - loss: 33.9758 - accuracy: 0.9496\n",
            "Epoch 270/300\n",
            "17/17 [==============================] - 0s 7ms/step - loss: 168.3519 - accuracy: 0.8582\n",
            "Epoch 271/300\n",
            "17/17 [==============================] - 0s 8ms/step - loss: 582.6452 - accuracy: 0.7369\n",
            "Epoch 272/300\n",
            "17/17 [==============================] - 0s 7ms/step - loss: 577.6616 - accuracy: 0.6735\n",
            "Epoch 273/300\n",
            "17/17 [==============================] - 0s 8ms/step - loss: 568.7444 - accuracy: 0.7108\n",
            "Epoch 274/300\n",
            "17/17 [==============================] - 0s 7ms/step - loss: 306.1390 - accuracy: 0.7463\n",
            "Epoch 275/300\n",
            "17/17 [==============================] - 0s 8ms/step - loss: 403.1573 - accuracy: 0.7929\n",
            "Epoch 276/300\n",
            "17/17 [==============================] - 0s 8ms/step - loss: 394.3567 - accuracy: 0.7631\n",
            "Epoch 277/300\n",
            "17/17 [==============================] - 0s 8ms/step - loss: 113.8434 - accuracy: 0.8881\n",
            "Epoch 278/300\n",
            "17/17 [==============================] - 0s 8ms/step - loss: 312.3463 - accuracy: 0.8246\n",
            "Epoch 279/300\n",
            "17/17 [==============================] - 0s 7ms/step - loss: 341.8355 - accuracy: 0.7612\n",
            "Epoch 280/300\n",
            "17/17 [==============================] - 0s 8ms/step - loss: 505.9148 - accuracy: 0.7183\n",
            "Epoch 281/300\n",
            "17/17 [==============================] - 0s 8ms/step - loss: 573.3037 - accuracy: 0.7780\n",
            "Epoch 282/300\n",
            "17/17 [==============================] - 0s 10ms/step - loss: 494.9658 - accuracy: 0.7519\n",
            "Epoch 283/300\n",
            "17/17 [==============================] - 0s 8ms/step - loss: 396.6778 - accuracy: 0.7425\n",
            "Epoch 284/300\n",
            "17/17 [==============================] - 0s 9ms/step - loss: 177.5945 - accuracy: 0.8414\n",
            "Epoch 285/300\n",
            "17/17 [==============================] - 0s 7ms/step - loss: 99.1694 - accuracy: 0.8899\n",
            "Epoch 286/300\n",
            "17/17 [==============================] - 0s 8ms/step - loss: 48.1514 - accuracy: 0.9254\n",
            "Epoch 287/300\n",
            "17/17 [==============================] - 0s 8ms/step - loss: 121.1429 - accuracy: 0.8675\n",
            "Epoch 288/300\n",
            "17/17 [==============================] - 0s 8ms/step - loss: 156.0427 - accuracy: 0.8545\n",
            "Epoch 289/300\n",
            "17/17 [==============================] - 0s 7ms/step - loss: 131.5171 - accuracy: 0.8507\n",
            "Epoch 290/300\n",
            "17/17 [==============================] - 0s 8ms/step - loss: 260.7447 - accuracy: 0.8601\n",
            "Epoch 291/300\n",
            "17/17 [==============================] - 0s 8ms/step - loss: 564.9344 - accuracy: 0.7369\n",
            "Epoch 292/300\n",
            "17/17 [==============================] - 0s 7ms/step - loss: 1111.1255 - accuracy: 0.6455\n",
            "Epoch 293/300\n",
            "17/17 [==============================] - 0s 8ms/step - loss: 231.6905 - accuracy: 0.8060\n",
            "Epoch 294/300\n",
            "17/17 [==============================] - 0s 7ms/step - loss: 304.4018 - accuracy: 0.8190\n",
            "Epoch 295/300\n",
            "17/17 [==============================] - 0s 7ms/step - loss: 84.0047 - accuracy: 0.8937\n",
            "Epoch 296/300\n",
            "17/17 [==============================] - 0s 7ms/step - loss: 34.8674 - accuracy: 0.9552\n",
            "Epoch 297/300\n",
            "17/17 [==============================] - 0s 7ms/step - loss: 20.6951 - accuracy: 0.9627\n",
            "Epoch 298/300\n",
            "17/17 [==============================] - 0s 8ms/step - loss: 30.1029 - accuracy: 0.9646\n",
            "Epoch 299/300\n",
            "17/17 [==============================] - 0s 7ms/step - loss: 79.6709 - accuracy: 0.9198\n",
            "Epoch 300/300\n",
            "17/17 [==============================] - 0s 8ms/step - loss: 237.8413 - accuracy: 0.8563\n"
          ]
        },
        {
          "output_type": "execute_result",
          "data": {
            "text/plain": [
              "<keras.callbacks.History at 0x7f2510fc8610>"
            ]
          },
          "metadata": {},
          "execution_count": 87
        }
      ]
    },
    {
      "cell_type": "code",
      "source": [
        "model.evaluate(X_test, y_test)"
      ],
      "metadata": {
        "id": "K-mqiAjIEhiV",
        "outputId": "81935814-687d-41fb-80ae-e046a686d0a1",
        "colab": {
          "base_uri": "https://localhost:8080/"
        }
      },
      "execution_count": 88,
      "outputs": [
        {
          "output_type": "stream",
          "name": "stdout",
          "text": [
            "6/6 [==============================] - 0s 4ms/step - loss: 1606.4355 - accuracy: 0.2905\n"
          ]
        },
        {
          "output_type": "execute_result",
          "data": {
            "text/plain": [
              "[1606.435546875, 0.29050278663635254]"
            ]
          },
          "metadata": {},
          "execution_count": 88
        }
      ]
    },
    {
      "cell_type": "code",
      "source": [
        "plt.imshow(image_blur_list[0], \"gray\")\n",
        "plt.xticks([]), plt.yticks([])\n",
        "plt.show()"
      ],
      "metadata": {
        "id": "9BYLiFYTeqID",
        "outputId": "96e609b7-6491-4e06-e04f-adfbdd04f9b2",
        "colab": {
          "base_uri": "https://localhost:8080/",
          "height": 252
        }
      },
      "execution_count": 74,
      "outputs": [
        {
          "output_type": "display_data",
          "data": {
            "text/plain": [
              "<Figure size 432x288 with 1 Axes>"
            ],
            "image/png": "[encoded data removed]"
          },
          "metadata": {}
        }
      ]
    },
    {
      "cell_type": "code",
      "source": [
        "from sklearn import model_selection, svm, preprocessing\n",
        "from sklearn.metrics import accuracy_score,confusion_matrix"
      ],
      "metadata": {
        "id": "IWFj0CaocYk9"
      },
      "execution_count": 85,
      "outputs": []
    },
    {
      "cell_type": "code",
      "source": [
        "clf = svm.SVC(gamma=0.001, kernel='poly')\n",
        "clf.fit(X_train,y_train)\n",
        "y_pred = clf.predict(X_test)\n",
        "accuracy = accuracy_score(y_test, y_pred)\n",
        "print(accuracy*100)"
      ],
      "metadata": {
        "id": "qVZW-pKBcdr9",
        "outputId": "ca451280-e5f3-4966-8092-96f8c738b7db",
        "colab": {
          "base_uri": "https://localhost:8080/"
        }
      },
      "execution_count": 115,
      "outputs": [
        {
          "output_type": "stream",
          "name": "stdout",
          "text": [
            "44.134078212290504\n"
          ]
        }
      ]
    },
    {
      "cell_type": "code",
      "source": [
        "# Loading the digits data\n",
        "data = cv2.imread('./drive/MyDrive/DigitRecognition_Dataset/digits.png')\n",
        "gray = cv2.cvtColor(data, cv2.COLOR_BGR2GRAY)\n",
        "\n",
        "# Resizing each digit from 20x20 to 10x10\n",
        "resized = cv2.pyrDown(gray)\n",
        "\n",
        "# Splitting image original image into 5000 different arrays of size 20x20\n",
        "# Resulting array: 50 * 100 * 20 * 20\n",
        "arr = [np.hsplit(i, 100) for i in np.vsplit(gray, 50)]\n",
        "arr = np.array(arr)\n",
        "print (\"Resulting Shape\", arr.shape)\n",
        "\n",
        "# Spliting into training and test set\n",
        "# Total: 5000, Train: 3500 images, Test: 1500\n",
        "X_train = arr[:, :70].reshape(-1, 400).astype(np.float32)\n",
        "X_test = arr[:, 70:100].reshape(-1, 400).astype(np.float32)\n",
        "\n",
        "## Targets for each image\n",
        "y = [0,1,2,3,4,5,6,7,8,9]\n",
        "\n",
        "y_train = np.repeat(y, 350)[:, np.newaxis]\n",
        "y_test = np.repeat(y, 150)[:, np.newaxis] \n",
        "\n",
        "# Using K-NN(k- nearest neighbors) as the ML algorithm\n",
        "classifier_knn = cv2.ml.KNearest_create()\n",
        "classifier_knn.train(X_train, cv2.ml.ROW_SAMPLE, y_train)\n",
        "response, result, neighbours, distance = classifier_knn.findNearest(X_test, k=3)\n",
        "\n",
        "# Testing and calculating the accuracy of knn classifier\n",
        "correct = result == y_test\n",
        "correct = np.count_nonzero(correct)\n",
        "accuracy = correct * (100.0/result.size)\n",
        "print (\"Accuracy: \", accuracy)"
      ],
      "metadata": {
        "colab": {
          "base_uri": "https://localhost:8080/"
        },
        "id": "JIqAObaigxg5",
        "outputId": "6f2a9f51-89fc-42ff-a21b-6d1f7127bd45"
      },
      "execution_count": 69,
      "outputs": [
        {
          "output_type": "stream",
          "name": "stdout",
          "text": [
            "Resulting Shape (50, 100, 20, 20)\n",
            "Accuracy:  93.46666666666667\n"
          ]
        }
      ]
    },
    {
      "cell_type": "code",
      "source": [
        "classifier_knn.save('./drive/MyDrive/Colab Notebooks/DigitRecognition_KNN_Trained_Model.pt')"
      ],
      "metadata": {
        "id": "VJRC4KMQpOVE"
      },
      "execution_count": 77,
      "outputs": []
    },
    {
      "cell_type": "code",
      "source": [
        "classifier_knn_new = cv2.ml.KNearest.load('./drive/MyDrive/Colab Notebooks/DigitRecognition_KNN_Trained_Model.pt')"
      ],
      "metadata": {
        "id": "66JDTggcpZg5"
      },
      "execution_count": 14,
      "outputs": []
    },
    {
      "cell_type": "code",
      "source": [
        "import joblib\n",
        "joblib.dump(clf, \"model.pkl\") \n",
        "clf2 = joblib.load(\"model.pkl\")"
      ],
      "metadata": {
        "id": "sXbrKf3lKM6E"
      },
      "execution_count": 91,
      "outputs": []
    },
    {
      "cell_type": "code",
      "source": [
        "def recognize_digit(image):\n",
        "  gray = cv2.cvtColor(image, cv2.COLOR_BGR2GRAY)\n",
        "  blur = cv2.GaussianBlur(gray, (5,5), 0)\n",
        "\n",
        "  canny = cv2.Canny(blur, 30, 150)\n",
        "\n",
        "  contours, _ = cv2.findContours(canny.copy(), cv2.RETR_EXTERNAL, cv2.CHAIN_APPROX_SIMPLE)\n",
        "  boundingBoxes = [cv2.boundingRect(c) for c in contours]\n",
        "  contours, _ = zip(*sorted(zip(contours, boundingBoxes),key=lambda b:b[1][0], reverse=False))\n",
        "\n",
        "  # Found number in the image\n",
        "  display = []\n",
        "  image_countours = []\n",
        "  image_numbers = []\n",
        "\n",
        "  for contour in contours:\n",
        "    (x, y, w, h) = cv2.boundingRect(contour)\n",
        "    img = image.copy()\n",
        "    image_countours.append(cv2.drawContours(img, contours, -1, (0,255,0), 3))\n",
        "    \n",
        "    if w>= 5 and h>=20:\n",
        "      area = blur[y:y+h, x:x+w]\n",
        "      ret, area = cv2.threshold(area, 127, 255, cv2.THRESH_BINARY_INV)\n",
        "          \n",
        "      new_square = drawSquare(area)\n",
        "      number = resize(new_square, 200)\n",
        "      \n",
        "\n",
        "      result = number.reshape((1, 40000)); \n",
        "      result = result.astype(np.float32);\n",
        "      image_numbers.append(number)\n",
        "      # ret, res, neighbours, distance = classifier_knn_new.findNearest(result, k=1)\n",
        "      # n = str(int(float(res[0])))\n",
        "      res = clf.predict(result)\n",
        "      n = str(int(float(res)))\n",
        "      display.append(n)\n",
        "\n",
        "      # draw rectangle around individual digit\n",
        "      cv2.rectangle(image, (x,y), (x+w, y+h), (255,0,0), 1)\n",
        "      cv2.putText(image, n, (x,y-10), cv2.FONT_ITALIC, 2, (0,255,0), 2)\n",
        "\n",
        "  return image, display, image_countours, image_numbers"
      ],
      "metadata": {
        "id": "dTK0C2YbgxjL"
      },
      "execution_count": 126,
      "outputs": []
    },
    {
      "cell_type": "code",
      "source": [
        "original = cv2.imread('./drive/MyDrive/DigitRecognition_Dataset/Test/Test10.png')\n",
        "resultImage, resultDigit, image_countours, image_numbers = recognize_digit(cv2.imread('./drive/MyDrive/DigitRecognition_Dataset/Test/Test10.png'))\n",
        "plt.figure(figsize = (10, 8))\n",
        "plt.subplot(121)\n",
        "plt.imshow(original, cmap = 'gray')\n",
        "plt.title(\"Original Image\")\n",
        "plt.xticks([]), plt.yticks([])\n",
        "\n",
        "plt.subplot(122)\n",
        "plt.imshow(resultImage, \"gray\")\n",
        "plt.title(resultDigit)\n",
        "plt.xticks([]), plt.yticks([])\n",
        "plt.show()"
      ],
      "metadata": {
        "colab": {
          "base_uri": "https://localhost:8080/",
          "height": 141
        },
        "id": "0voR-svWgxle",
        "outputId": "709d3e18-0832-46ec-8f02-ef270820ec64"
      },
      "execution_count": 127,
      "outputs": [
        {
          "output_type": "display_data",
          "data": {
            "text/plain": [
              "<Figure size 720x576 with 2 Axes>"
            ],
            "image/png": "[encoded data removed]"
          },
          "metadata": {}
        }
      ]
    },
    {
      "cell_type": "code",
      "source": [
        "plt.imshow(image_numbers[4], \"gray\")\n",
        "plt.xticks([]), plt.yticks([])\n",
        "plt.show()"
      ],
      "metadata": {
        "id": "s0H6b7p_qzWv",
        "outputId": "3d398770-50aa-4557-90be-9627fddf154b",
        "colab": {
          "base_uri": "https://localhost:8080/",
          "height": 252
        }
      },
      "execution_count": 129,
      "outputs": [
        {
          "output_type": "display_data",
          "data": {
            "text/plain": [
              "<Figure size 432x288 with 1 Axes>"
            ],
            "image/png": "[encoded data removed]"
          },
          "metadata": {}
        }
      ]
    },
    {
      "cell_type": "markdown",
      "source": [
        "Streamlit App"
      ],
      "metadata": {
        "id": "UqGwb7n1gJNU"
      }
    },
    {
      "cell_type": "code",
      "source": [
        "%%writefile app.py\n",
        "import numpy as np\n",
        "import streamlit as st\n",
        "from streamlit_drawable_canvas import st_canvas\n",
        "import cv2\n",
        "\n",
        "st.title(\"Drawable Digit Recognition using K-Nearest Neighbor\")\n",
        "st.markdown(\"> This app demonstrates Digit Recognition using K-Nearest Neighbor. The app allows users draw digits on to a canvas and an image with prediction digits will be shown as the result.\")\n",
        "st.markdown(\">Disclaimer : The performance of our KNN Model on Drawable Digit Recognition showed a realistic results, with accuracy of 100%\")\n",
        "st.header(\"🎲 How to Use the Application\")\n",
        "st.markdown(\n",
        "    \"\"\"\n",
        "    * Draw Digits freely as you want! \n",
        "    * You can Undo, Redo or Delete your drawing with button in the bottom left of the canvas \n",
        "    * Please Don't forget to Press ⬇️ Send Button in the bottom left of the canvas!\n",
        "    * Press Predict Button if you're done with your drawing and the result will be shown bellow\n",
        "    \"\"\"\n",
        "    )\n",
        "st.write(\" \")\n",
        "st.write(\" \")\n",
        "st.write(\" \")\n",
        "\n",
        "st.markdown(\"Draw Digits [0-9]\")\n",
        "# Create a canvas component\n",
        "canvas_result = st_canvas(\n",
        "    fill_color=\"rgba(255, 165, 0, 0.3)\",  # Fixed fill color with some opacity\n",
        "    stroke_width=4,\n",
        "    stroke_color=\"black\",\n",
        "    background_color=\"#eee\",\n",
        "    background_image=None,\n",
        "    update_streamlit=False,\n",
        "    height=250,\n",
        "    width=700,\n",
        "    drawing_mode=\"freedraw\",\n",
        "    point_display_radius= 0,\n",
        "    display_toolbar=True,\n",
        "    key=\"full_app\",\n",
        ")\n",
        "\n",
        "predict = st.button(\"Predict\")\n",
        "\n",
        "classifier_knn = cv2.ml.KNearest.load('./drive/MyDrive/Colab Notebooks/DigitRecognition_KNN_Trained_Model.pt')\n",
        "\n",
        "def drawSquare(image):\n",
        "    '''\n",
        "    Draws a square around the found digits\n",
        "    '''\t\t\n",
        "    b = [0,0,0]\n",
        "    height, width = image.shape[0], image.shape[1]\n",
        "    if(height == width): ## if square\n",
        "      square = image\n",
        "      return square\n",
        "    else:\n",
        "      d_size = cv2.resize(image, (2*width, 2*height), interpolation=cv2.INTER_CUBIC)\n",
        "      height, width = height * 2, width * 2\n",
        "      if (height > width):\n",
        "        padding = (height - width)/2; padding = int(padding)\n",
        "        d_size_square = cv2.copyMakeBorder(d_size, 0, 0, padding, padding, cv2.BORDER_CONSTANT, None,value=b)\n",
        "      else:\n",
        "        padding = (width - height)/2; padding = int(padding)\n",
        "        d_size_square = cv2.copyMakeBorder(d_size, padding, padding, 0, 0, cv2.BORDER_CONSTANT, None,value=b)\n",
        "\n",
        "    return d_size_square\n",
        "\n",
        "def resize(image, dim):\n",
        "    '''\n",
        "    Returns orignal image resized to shape 'dim'\n",
        "    '''\t\n",
        "    b = [0,0,0]\t \t\t\t\n",
        "    dim = dim - 4\n",
        "    squared = image\n",
        "    r = (float(dim) / squared.shape[1])\n",
        "    d = (dim, int(squared.shape[0] * r))\n",
        "    resized = cv2.resize(image, d, interpolation = cv2.INTER_AREA)\n",
        "    height, width = resized.shape[0], resized.shape[1];\n",
        "    if (height > width):\n",
        "      resized = cv2.copyMakeBorder(resized, 0,0,0,1, cv2.BORDER_CONSTANT, value=b)\n",
        "    if (height < width):\n",
        "      resized = cv2.copyMakeBorder(resized, 1,0,0,0, cv2.BORDER_CONSTANT, value=b)\n",
        "\n",
        "    resized = cv2.copyMakeBorder(resized, 2,2,2,2,cv2.BORDER_CONSTANT, value=b)\n",
        "    height, width = resized.shape[0], resized.shape[1]\t\n",
        "    \n",
        "    return resized\t\n",
        "\n",
        "def recognize_digit(image):\n",
        "    gray = cv2.cvtColor(image, cv2.COLOR_BGR2GRAY)\n",
        "    blur = cv2.GaussianBlur(gray, (5,5), 0)\n",
        "    canny = cv2.Canny(blur, 30, 150)\n",
        "\n",
        "    contours, _ = cv2.findContours(canny.copy(), cv2.RETR_EXTERNAL, cv2.CHAIN_APPROX_SIMPLE)\n",
        "    boundingBoxes = [cv2.boundingRect(c) for c in contours]\n",
        "    contours, _ = zip(*sorted(zip(contours, boundingBoxes),key=lambda b:b[1][0], reverse=False))\n",
        "\n",
        "    # Found number in the image\n",
        "    display = []\n",
        "\n",
        "    for contour in contours:\n",
        "      (x, y, w, h) = cv2.boundingRect(contour)\n",
        "        \n",
        "      if w>= 5 and h>=20:\n",
        "        area = blur[y:y+h, x:x+w]\n",
        "        ret, area = cv2.threshold(area, 127, 255, cv2.THRESH_BINARY_INV)\n",
        "            \n",
        "        new_square = drawSquare(area)\n",
        "        number = resize(new_square, 20)\n",
        "        result = number.reshape((1, 400)); \n",
        "        result = result.astype(np.float32);\n",
        "        ret, res, neighbours, distance = classifier_knn.findNearest(result, k=1)\n",
        "        n = str(int(float(res[0])))\n",
        "        display.append(n)\n",
        "\n",
        "        # draw rectangle around individual digit\n",
        "        cv2.rectangle(image, (x,y), (x+w, y+h), (255,0,0), 2)\n",
        "        cv2.putText(image, n, (x,y-8), cv2.FONT_ITALIC, 0.7, (0,255,0), 2)\n",
        "\n",
        "    return image, display\n",
        "\n",
        "# Do something interesting with the image data and paths\n",
        "if canvas_result.image_data is not None and predict:\n",
        "    resImg, resDigit = recognize_digit(canvas_result.image_data)\n",
        "    st.markdown(\"Prediction Result\")\n",
        "    st.image(resImg)\n",
        "    st.text(\"Digit Prediction : {}\".format(resDigit))"
      ],
      "metadata": {
        "colab": {
          "base_uri": "https://localhost:8080/"
        },
        "id": "GTifd3zZd-SX",
        "outputId": "a49ce263-283b-443f-8bf1-82f15a05c5b7"
      },
      "execution_count": 70,
      "outputs": [
        {
          "output_type": "stream",
          "name": "stdout",
          "text": [
            "Overwriting app.py\n"
          ]
        }
      ]
    },
    {
      "cell_type": "markdown",
      "source": [
        "Local Tunnel"
      ],
      "metadata": {
        "id": "5aC9v5qoD0SD"
      }
    },
    {
      "cell_type": "code",
      "source": [
        "!streamlit run app.py & npx localtunnel --port 8501"
      ],
      "metadata": {
        "colab": {
          "base_uri": "https://localhost:8080/"
        },
        "id": "Sa3BeilsU8F3",
        "outputId": "55bd6bcc-10aa-4159-e59b-ac576d44600f"
      },
      "execution_count": 131,
      "outputs": [
        {
          "output_type": "stream",
          "name": "stdout",
          "text": [
            "2023-01-10 15:15:33.523 INFO    numexpr.utils: NumExpr defaulting to 2 threads.\n",
            "[############......] - refresh-package-json:localtunnel: timing action:finalize\u001b[0m\u001b[K\n",
            "Collecting usage statistics. To deactivate, set browser.gatherUsageStats to False.\n",
            "\u001b[0m\n",
            "\u001b[K\u001b[?25hnpx: installed 22 in 2.361s\n",
            "\u001b[0m\n",
            "\u001b[34m\u001b[1m  You can now view your Streamlit app in your browser.\u001b[0m\n",
            "\u001b[0m\n",
            "\u001b[34m  Network URL: \u001b[0m\u001b[1mhttp://172.28.0.12:8501\u001b[0m\n",
            "\u001b[34m  External URL: \u001b[0m\u001b[1mhttp://34.86.247.26:8501\u001b[0m\n",
            "\u001b[0m\n",
            "your url is: https://hip-files-spend-34-86-247-26.loca.lt\n",
            "\u001b[34m  Stopping...\u001b[0m\n",
            "^C\n"
          ]
        }
      ]
    },
    {
      "cell_type": "markdown",
      "source": [
        "Ngrok"
      ],
      "metadata": {
        "id": "YNXx-I2gD6pm"
      }
    },
    {
      "cell_type": "code",
      "source": [
        "!pip install pyngrok"
      ],
      "metadata": {
        "colab": {
          "base_uri": "https://localhost:8080/"
        },
        "id": "YL36PbW4Amk8",
        "outputId": "f1af730f-19b3-4a49-8e80-71f01892c722"
      },
      "execution_count": 30,
      "outputs": [
        {
          "output_type": "stream",
          "name": "stdout",
          "text": [
            "Looking in indexes: https://pypi.org/simple, https://us-python.pkg.dev/colab-wheels/public/simple/\n",
            "Collecting pyngrok\n",
            "  Downloading pyngrok-5.2.1.tar.gz (761 kB)\n",
            "\u001b[2K     \u001b[90m━━━━━━━━━━━━━━━━━━━━━━━━━━━━━━━━━━━━━━\u001b[0m \u001b[32m761.3/761.3 KB\u001b[0m \u001b[31m15.9 MB/s\u001b[0m eta \u001b[36m0:00:00\u001b[0m\n",
            "\u001b[?25h  Preparing metadata (setup.py) ... \u001b[?25l\u001b[?25hdone\n",
            "Requirement already satisfied: PyYAML in /usr/local/lib/python3.8/dist-packages (from pyngrok) (6.0)\n",
            "Building wheels for collected packages: pyngrok\n",
            "  Building wheel for pyngrok (setup.py) ... \u001b[?25l\u001b[?25hdone\n",
            "  Created wheel for pyngrok: filename=pyngrok-5.2.1-py3-none-any.whl size=19792 sha256=0d43babcddde4206085a1ef8b9736c573985eb6fc4fda696befe1f7fa9419461\n",
            "  Stored in directory: /root/.cache/pip/wheels/5d/f2/70/526da675d32f17577ec47ac4c663084efe39d47c826b6c3bb1\n",
            "Successfully built pyngrok\n",
            "Installing collected packages: pyngrok\n",
            "Successfully installed pyngrok-5.2.1\n"
          ]
        }
      ]
    },
    {
      "cell_type": "code",
      "source": [
        "!streamlit run app.py &>/dev/null&"
      ],
      "metadata": {
        "id": "wK1RqVl-B_MD"
      },
      "execution_count": 52,
      "outputs": []
    },
    {
      "cell_type": "code",
      "source": [
        "from pyngrok import ngrok\n",
        "!ngrok authtoken 2K5VMsLbfPowtf2cr81cJBK9NSq_5woqSrwvdkEpaCqsU9LdJ"
      ],
      "metadata": {
        "colab": {
          "base_uri": "https://localhost:8080/"
        },
        "id": "zMamNwcPCE5M",
        "outputId": "35b566a9-7a8a-4bcb-a546-983e75d29390"
      },
      "execution_count": 53,
      "outputs": [
        {
          "output_type": "stream",
          "name": "stdout",
          "text": [
            "Authtoken saved to configuration file: /root/.ngrok2/ngrok.yml\n"
          ]
        }
      ]
    },
    {
      "cell_type": "code",
      "source": [
        "public_url = ngrok.connect(port='8501')\n",
        "public_url"
      ],
      "metadata": {
        "colab": {
          "base_uri": "https://localhost:8080/"
        },
        "id": "rPFnaN3kAu32",
        "outputId": "4cb524d1-cb79-4981-8ee8-95081555f2e5"
      },
      "execution_count": 54,
      "outputs": [
        {
          "output_type": "execute_result",
          "data": {
            "text/plain": [
              "<NgrokTunnel: \"http://1aa8-34-82-241-231.ngrok.io\" -> \"http://localhost:80\">"
            ]
          },
          "metadata": {},
          "execution_count": 54
        }
      ]
    },
    {
      "cell_type": "code",
      "source": [
        "# Kill Ngrok After Use\n",
        "ngrok.kill()"
      ],
      "metadata": {
        "id": "Z73ZQJX5DXte"
      },
      "execution_count": 56,
      "outputs": []
    },
    {
      "cell_type": "markdown",
      "source": [
        "Streamlit Create Dataset"
      ],
      "metadata": {
        "id": "gJ6Hezc7PbWy"
      }
    },
    {
      "cell_type": "code",
      "source": [
        "%%writefile app.py\n",
        "import numpy as np\n",
        "import streamlit as st\n",
        "from streamlit_drawable_canvas import st_canvas\n",
        "import cv2\n",
        "import uuid\n",
        "from io import BytesIO, BufferedReader\n",
        "\n",
        "\n",
        "st.title(\"Drawable Canvas for Digit Recognition Dataset\")\n",
        "st.markdown(\">The app lets users draw digit on to a canvas and input label of the drawed digit. Then it will show the inputted data and user can download drawed digit image for Digit Recognition Dataset\")\n",
        "st.header(\"🎲 How to Use the Application\")\n",
        "st.markdown(\n",
        "     \"\"\"\n",
        "    * Draw Digit as your desire \n",
        "    * You can Undo, Redo or Delete your drawing with button in the bottom left of the canvas \n",
        "    * Please Don't forget to Press ⬇️ Send Button in the bottom left of the canvas!\n",
        "    * Input the Drawed Digit label in the Label Section!\n",
        "    * Press Input Button if you're done with your drawing and the inputted data will be shown bellow\n",
        "    * Now download Button will be appear!  \n",
        "    * Press download Button and the drawed digit image will be downloaded for your dataset!\n",
        "    \"\"\"\n",
        "    )\n",
        "st.write(\" \")\n",
        "st.write(\" \")\n",
        "st.write(\" \")\n",
        "\n",
        "st.markdown(\"Draw Digit [0-9]\")\n",
        "# Create a canvas component\n",
        "canvas_result = st_canvas(\n",
        "    fill_color=\"rgba(255, 165, 0, 0.3)\",  # Fixed fill color with some opacity\n",
        "    stroke_width=9,\n",
        "    stroke_color=\"white\",\n",
        "    background_color=\"#000000\",\n",
        "    background_image=None,\n",
        "    update_streamlit=False,\n",
        "    height=100,\n",
        "    width=100,\n",
        "    drawing_mode=\"freedraw\",\n",
        "    point_display_radius= 0,\n",
        "    display_toolbar=True,\n",
        "    key=\"full_app\",\n",
        ")\n",
        "\n",
        "label = st.text_input('Label', '')\n",
        "\n",
        "input = st.button(\"Input\")\n",
        "\n",
        "# Do something interesting with the image data and paths\n",
        "if canvas_result.image_data is not None and input:\n",
        "    st.markdown(\"Inputted Data\")\n",
        "    st.image(canvas_result.image_data)\n",
        "    st.text(\"Label : {}\".format(label))\n",
        "\n",
        "    random = uuid.uuid4().hex\n",
        "    ret, img_enco = cv2.imencode(\".png\", canvas_result.image_data) \n",
        "    srt_enco = img_enco.tostring() \n",
        "    img_BytesIO = BytesIO(srt_enco)\n",
        "    img_BufferedReader = BufferedReader(img_BytesIO)\n",
        "\n",
        "    btn = st.download_button(\n",
        "            label=\"Download the Image\",\n",
        "            data=img_BufferedReader,\n",
        "            file_name= label + \"-\" + random +\".png\",\n",
        "            mime=\"image/png\"\n",
        "          )"
      ],
      "metadata": {
        "colab": {
          "base_uri": "https://localhost:8080/"
        },
        "id": "aQZMZA6PeJ6y",
        "outputId": "ec56ea98-89aa-4cea-c2e0-701ad3e63bdf"
      },
      "execution_count": 130,
      "outputs": [
        {
          "output_type": "stream",
          "name": "stdout",
          "text": [
            "Overwriting app.py\n"
          ]
        }
      ]
    }
  ]
}