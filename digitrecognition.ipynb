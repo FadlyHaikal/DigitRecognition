{
  "nbformat": 4,
  "nbformat_minor": 0,
  "metadata": {
    "colab": {
      "provenance": [],
      "mount_file_id": "https://gist.github.com/FadlyHaikal/7a902140e91206a87d338605a83e62ab#file-digitrecognition-ipynb",
      "authorship_tag": "ABX9TyNT+xAE0cniAEYdv8dQhsry",
      "include_colab_link": true
    },
    "kernelspec": {
      "name": "python3",
      "display_name": "Python 3"
    },
    "language_info": {
      "name": "python"
    }
  },
  "cells": [
    {
      "cell_type": "markdown",
      "metadata": {
        "id": "view-in-github",
        "colab_type": "text"
      },
      "source": [
        "<a href=\"https://colab.research.google.com/github/FadlyHaikal/DigitRecognition/blob/main/digitrecognition.ipynb\" target=\"_parent\"><img src=\"https://colab.research.google.com/assets/colab-badge.svg\" alt=\"Open In Colab\"/></a>"
      ]
    },
    {
      "cell_type": "code",
      "source": [
        "pip install pillow"
      ],
      "metadata": {
        "colab": {
          "base_uri": "https://localhost:8080/"
        },
        "id": "oEmdx9HWCpjU",
        "outputId": "c0449038-257a-4a69-c809-b8ada4148b78"
      },
      "execution_count": 1,
      "outputs": [
        {
          "output_type": "stream",
          "name": "stdout",
          "text": [
            "Looking in indexes: https://pypi.org/simple, https://us-python.pkg.dev/colab-wheels/public/simple/\n",
            "Requirement already satisfied: pillow in /usr/local/lib/python3.8/dist-packages (7.1.2)\n"
          ]
        }
      ]
    },
    {
      "cell_type": "code",
      "source": [
        "!pip install streamlit==1.13.0\n",
        "!npm install -g localtunnel"
      ],
      "metadata": {
        "colab": {
          "base_uri": "https://localhost:8080/"
        },
        "id": "da5JLo9ndTsL",
        "outputId": "d1c769ef-7883-46eb-de23-c59de760eed1"
      },
      "execution_count": 2,
      "outputs": [
        {
          "output_type": "stream",
          "name": "stdout",
          "text": [
            "Looking in indexes: https://pypi.org/simple, https://us-python.pkg.dev/colab-wheels/public/simple/\n",
            "Collecting streamlit==1.13.0\n",
            "  Downloading streamlit-1.13.0-py2.py3-none-any.whl (9.2 MB)\n",
            "\u001b[2K     \u001b[90m━━━━━━━━━━━━━━━━━━━━━━━━━━━━━━━━━━━━━━━━\u001b[0m \u001b[32m9.2/9.2 MB\u001b[0m \u001b[31m59.3 MB/s\u001b[0m eta \u001b[36m0:00:00\u001b[0m\n",
            "\u001b[?25hCollecting gitpython!=3.1.19\n",
            "  Downloading GitPython-3.1.30-py3-none-any.whl (184 kB)\n",
            "\u001b[2K     \u001b[90m━━━━━━━━━━━━━━━━━━━━━━━━━━━━━━━━━━━━━━\u001b[0m \u001b[32m184.0/184.0 KB\u001b[0m \u001b[31m19.4 MB/s\u001b[0m eta \u001b[36m0:00:00\u001b[0m\n",
            "\u001b[?25hRequirement already satisfied: cachetools>=4.0 in /usr/local/lib/python3.8/dist-packages (from streamlit==1.13.0) (5.2.0)\n",
            "Collecting rich>=10.11.0\n",
            "  Downloading rich-13.0.1-py3-none-any.whl (238 kB)\n",
            "\u001b[2K     \u001b[90m━━━━━━━━━━━━━━━━━━━━━━━━━━━━━━━━━━━━━━\u001b[0m \u001b[32m238.1/238.1 KB\u001b[0m \u001b[31m24.0 MB/s\u001b[0m eta \u001b[36m0:00:00\u001b[0m\n",
            "\u001b[?25hRequirement already satisfied: protobuf!=3.20.2,<4,>=3.12 in /usr/local/lib/python3.8/dist-packages (from streamlit==1.13.0) (3.19.6)\n",
            "Requirement already satisfied: tzlocal>=1.1 in /usr/local/lib/python3.8/dist-packages (from streamlit==1.13.0) (1.5.1)\n",
            "Requirement already satisfied: pandas>=0.21.0 in /usr/local/lib/python3.8/dist-packages (from streamlit==1.13.0) (1.3.5)\n",
            "Requirement already satisfied: python-dateutil in /usr/local/lib/python3.8/dist-packages (from streamlit==1.13.0) (2.8.2)\n",
            "Requirement already satisfied: packaging>=14.1 in /usr/local/lib/python3.8/dist-packages (from streamlit==1.13.0) (21.3)\n",
            "Requirement already satisfied: altair>=3.2.0 in /usr/local/lib/python3.8/dist-packages (from streamlit==1.13.0) (4.2.0)\n",
            "Requirement already satisfied: importlib-metadata>=1.4 in /usr/local/lib/python3.8/dist-packages (from streamlit==1.13.0) (6.0.0)\n",
            "Collecting pydeck>=0.1.dev5\n",
            "  Downloading pydeck-0.8.0-py2.py3-none-any.whl (4.7 MB)\n",
            "\u001b[2K     \u001b[90m━━━━━━━━━━━━━━━━━━━━━━━━━━━━━━━━━━━━━━━━\u001b[0m \u001b[32m4.7/4.7 MB\u001b[0m \u001b[31m69.5 MB/s\u001b[0m eta \u001b[36m0:00:00\u001b[0m\n",
            "\u001b[?25hCollecting blinker>=1.0.0\n",
            "  Downloading blinker-1.5-py2.py3-none-any.whl (12 kB)\n",
            "Collecting pympler>=0.9\n",
            "  Downloading Pympler-1.0.1-py3-none-any.whl (164 kB)\n",
            "\u001b[2K     \u001b[90m━━━━━━━━━━━━━━━━━━━━━━━━━━━━━━━━━━━━━━\u001b[0m \u001b[32m164.8/164.8 KB\u001b[0m \u001b[31m14.4 MB/s\u001b[0m eta \u001b[36m0:00:00\u001b[0m\n",
            "\u001b[?25hRequirement already satisfied: toml in /usr/local/lib/python3.8/dist-packages (from streamlit==1.13.0) (0.10.2)\n",
            "Collecting semver\n",
            "  Downloading semver-2.13.0-py2.py3-none-any.whl (12 kB)\n",
            "Collecting watchdog\n",
            "  Downloading watchdog-2.2.1-py3-none-manylinux2014_x86_64.whl (78 kB)\n",
            "\u001b[2K     \u001b[90m━━━━━━━━━━━━━━━━━━━━━━━━━━━━━━━━━━━━━━━━\u001b[0m \u001b[32m79.0/79.0 KB\u001b[0m \u001b[31m9.7 MB/s\u001b[0m eta \u001b[36m0:00:00\u001b[0m\n",
            "\u001b[?25hRequirement already satisfied: requests>=2.4 in /usr/local/lib/python3.8/dist-packages (from streamlit==1.13.0) (2.25.1)\n",
            "Requirement already satisfied: click>=7.0 in /usr/local/lib/python3.8/dist-packages (from streamlit==1.13.0) (7.1.2)\n",
            "Requirement already satisfied: typing-extensions>=3.10.0.0 in /usr/local/lib/python3.8/dist-packages (from streamlit==1.13.0) (4.4.0)\n",
            "Collecting validators>=0.2\n",
            "  Downloading validators-0.20.0.tar.gz (30 kB)\n",
            "  Preparing metadata (setup.py) ... \u001b[?25l\u001b[?25hdone\n",
            "Requirement already satisfied: pillow>=6.2.0 in /usr/local/lib/python3.8/dist-packages (from streamlit==1.13.0) (7.1.2)\n",
            "Requirement already satisfied: numpy in /usr/local/lib/python3.8/dist-packages (from streamlit==1.13.0) (1.21.6)\n",
            "Requirement already satisfied: tornado>=5.0 in /usr/local/lib/python3.8/dist-packages (from streamlit==1.13.0) (6.0.4)\n",
            "Requirement already satisfied: pyarrow>=4.0 in /usr/local/lib/python3.8/dist-packages (from streamlit==1.13.0) (9.0.0)\n",
            "Requirement already satisfied: jsonschema>=3.0 in /usr/local/lib/python3.8/dist-packages (from altair>=3.2.0->streamlit==1.13.0) (4.3.3)\n",
            "Requirement already satisfied: entrypoints in /usr/local/lib/python3.8/dist-packages (from altair>=3.2.0->streamlit==1.13.0) (0.4)\n",
            "Requirement already satisfied: jinja2 in /usr/local/lib/python3.8/dist-packages (from altair>=3.2.0->streamlit==1.13.0) (2.11.3)\n",
            "Requirement already satisfied: toolz in /usr/local/lib/python3.8/dist-packages (from altair>=3.2.0->streamlit==1.13.0) (0.12.0)\n",
            "Collecting gitdb<5,>=4.0.1\n",
            "  Downloading gitdb-4.0.10-py3-none-any.whl (62 kB)\n",
            "\u001b[2K     \u001b[90m━━━━━━━━━━━━━━━━━━━━━━━━━━━━━━━━━━━━━━━━\u001b[0m \u001b[32m62.7/62.7 KB\u001b[0m \u001b[31m7.4 MB/s\u001b[0m eta \u001b[36m0:00:00\u001b[0m\n",
            "\u001b[?25hRequirement already satisfied: zipp>=0.5 in /usr/local/lib/python3.8/dist-packages (from importlib-metadata>=1.4->streamlit==1.13.0) (3.11.0)\n",
            "Requirement already satisfied: pyparsing!=3.0.5,>=2.0.2 in /usr/local/lib/python3.8/dist-packages (from packaging>=14.1->streamlit==1.13.0) (3.0.9)\n",
            "Requirement already satisfied: pytz>=2017.3 in /usr/local/lib/python3.8/dist-packages (from pandas>=0.21.0->streamlit==1.13.0) (2022.7)\n",
            "Requirement already satisfied: six>=1.5 in /usr/local/lib/python3.8/dist-packages (from python-dateutil->streamlit==1.13.0) (1.15.0)\n",
            "Requirement already satisfied: idna<3,>=2.5 in /usr/local/lib/python3.8/dist-packages (from requests>=2.4->streamlit==1.13.0) (2.10)\n",
            "Requirement already satisfied: certifi>=2017.4.17 in /usr/local/lib/python3.8/dist-packages (from requests>=2.4->streamlit==1.13.0) (2022.12.7)\n",
            "Requirement already satisfied: chardet<5,>=3.0.2 in /usr/local/lib/python3.8/dist-packages (from requests>=2.4->streamlit==1.13.0) (4.0.0)\n",
            "Requirement already satisfied: urllib3<1.27,>=1.21.1 in /usr/local/lib/python3.8/dist-packages (from requests>=2.4->streamlit==1.13.0) (1.24.3)\n",
            "Requirement already satisfied: pygments<3.0.0,>=2.6.0 in /usr/local/lib/python3.8/dist-packages (from rich>=10.11.0->streamlit==1.13.0) (2.6.1)\n",
            "Collecting commonmark<0.10.0,>=0.9.0\n",
            "  Downloading commonmark-0.9.1-py2.py3-none-any.whl (51 kB)\n",
            "\u001b[2K     \u001b[90m━━━━━━━━━━━━━━━━━━━━━━━━━━━━━━━━━━━━━━━━\u001b[0m \u001b[32m51.1/51.1 KB\u001b[0m \u001b[31m6.4 MB/s\u001b[0m eta \u001b[36m0:00:00\u001b[0m\n",
            "\u001b[?25hRequirement already satisfied: decorator>=3.4.0 in /usr/local/lib/python3.8/dist-packages (from validators>=0.2->streamlit==1.13.0) (4.4.2)\n",
            "Collecting smmap<6,>=3.0.1\n",
            "  Downloading smmap-5.0.0-py3-none-any.whl (24 kB)\n",
            "Requirement already satisfied: MarkupSafe>=0.23 in /usr/local/lib/python3.8/dist-packages (from jinja2->altair>=3.2.0->streamlit==1.13.0) (2.0.1)\n",
            "Requirement already satisfied: importlib-resources>=1.4.0 in /usr/local/lib/python3.8/dist-packages (from jsonschema>=3.0->altair>=3.2.0->streamlit==1.13.0) (5.10.2)\n",
            "Requirement already satisfied: attrs>=17.4.0 in /usr/local/lib/python3.8/dist-packages (from jsonschema>=3.0->altair>=3.2.0->streamlit==1.13.0) (22.2.0)\n",
            "Requirement already satisfied: pyrsistent!=0.17.0,!=0.17.1,!=0.17.2,>=0.14.0 in /usr/local/lib/python3.8/dist-packages (from jsonschema>=3.0->altair>=3.2.0->streamlit==1.13.0) (0.19.3)\n",
            "Building wheels for collected packages: validators\n",
            "  Building wheel for validators (setup.py) ... \u001b[?25l\u001b[?25hdone\n",
            "  Created wheel for validators: filename=validators-0.20.0-py3-none-any.whl size=19581 sha256=cb555e2dd11ac1627881eea2d81d634f5b0484410f30350d6a92211a6a717a2c\n",
            "  Stored in directory: /root/.cache/pip/wheels/19/09/72/3eb74d236bb48bd0f3c6c3c83e4e0c5bbfcbcad7c6c3539db8\n",
            "Successfully built validators\n",
            "Installing collected packages: commonmark, watchdog, validators, smmap, semver, rich, pympler, blinker, pydeck, gitdb, gitpython, streamlit\n",
            "Successfully installed blinker-1.5 commonmark-0.9.1 gitdb-4.0.10 gitpython-3.1.30 pydeck-0.8.0 pympler-1.0.1 rich-13.0.1 semver-2.13.0 smmap-5.0.0 streamlit-1.13.0 validators-0.20.0 watchdog-2.2.1\n",
            "\u001b[K\u001b[?25h/tools/node/bin/lt -> /tools/node/lib/node_modules/localtunnel/bin/lt.js\n",
            "+ localtunnel@2.0.2\n",
            "added 22 packages from 22 contributors in 3.056s\n"
          ]
        }
      ]
    },
    {
      "cell_type": "code",
      "source": [
        "!pip install streamlit-drawable-canvas"
      ],
      "metadata": {
        "colab": {
          "base_uri": "https://localhost:8080/"
        },
        "id": "gwWoSAvelpTh",
        "outputId": "309a476f-e17a-41ed-ad7a-16cbd5f06483"
      },
      "execution_count": 3,
      "outputs": [
        {
          "output_type": "stream",
          "name": "stdout",
          "text": [
            "Looking in indexes: https://pypi.org/simple, https://us-python.pkg.dev/colab-wheels/public/simple/\n",
            "Collecting streamlit-drawable-canvas\n",
            "  Downloading streamlit_drawable_canvas-0.9.2-py3-none-any.whl (1.2 MB)\n",
            "\u001b[2K     \u001b[90m━━━━━━━━━━━━━━━━━━━━━━━━━━━━━━━━━━━━━━━━\u001b[0m \u001b[32m1.2/1.2 MB\u001b[0m \u001b[31m22.7 MB/s\u001b[0m eta \u001b[36m0:00:00\u001b[0m\n",
            "\u001b[?25hRequirement already satisfied: Pillow in /usr/local/lib/python3.8/dist-packages (from streamlit-drawable-canvas) (7.1.2)\n",
            "Requirement already satisfied: streamlit>=0.63 in /usr/local/lib/python3.8/dist-packages (from streamlit-drawable-canvas) (1.13.0)\n",
            "Requirement already satisfied: numpy in /usr/local/lib/python3.8/dist-packages (from streamlit-drawable-canvas) (1.21.6)\n",
            "Requirement already satisfied: click>=7.0 in /usr/local/lib/python3.8/dist-packages (from streamlit>=0.63->streamlit-drawable-canvas) (7.1.2)\n",
            "Requirement already satisfied: gitpython!=3.1.19 in /usr/local/lib/python3.8/dist-packages (from streamlit>=0.63->streamlit-drawable-canvas) (3.1.30)\n",
            "Requirement already satisfied: pyarrow>=4.0 in /usr/local/lib/python3.8/dist-packages (from streamlit>=0.63->streamlit-drawable-canvas) (9.0.0)\n",
            "Requirement already satisfied: altair>=3.2.0 in /usr/local/lib/python3.8/dist-packages (from streamlit>=0.63->streamlit-drawable-canvas) (4.2.0)\n",
            "Requirement already satisfied: packaging>=14.1 in /usr/local/lib/python3.8/dist-packages (from streamlit>=0.63->streamlit-drawable-canvas) (21.3)\n",
            "Requirement already satisfied: watchdog in /usr/local/lib/python3.8/dist-packages (from streamlit>=0.63->streamlit-drawable-canvas) (2.2.1)\n",
            "Requirement already satisfied: typing-extensions>=3.10.0.0 in /usr/local/lib/python3.8/dist-packages (from streamlit>=0.63->streamlit-drawable-canvas) (4.4.0)\n",
            "Requirement already satisfied: pydeck>=0.1.dev5 in /usr/local/lib/python3.8/dist-packages (from streamlit>=0.63->streamlit-drawable-canvas) (0.8.0)\n",
            "Requirement already satisfied: semver in /usr/local/lib/python3.8/dist-packages (from streamlit>=0.63->streamlit-drawable-canvas) (2.13.0)\n",
            "Requirement already satisfied: pympler>=0.9 in /usr/local/lib/python3.8/dist-packages (from streamlit>=0.63->streamlit-drawable-canvas) (1.0.1)\n",
            "Requirement already satisfied: tornado>=5.0 in /usr/local/lib/python3.8/dist-packages (from streamlit>=0.63->streamlit-drawable-canvas) (6.0.4)\n",
            "Requirement already satisfied: cachetools>=4.0 in /usr/local/lib/python3.8/dist-packages (from streamlit>=0.63->streamlit-drawable-canvas) (5.2.0)\n",
            "Requirement already satisfied: rich>=10.11.0 in /usr/local/lib/python3.8/dist-packages (from streamlit>=0.63->streamlit-drawable-canvas) (13.0.1)\n",
            "Requirement already satisfied: importlib-metadata>=1.4 in /usr/local/lib/python3.8/dist-packages (from streamlit>=0.63->streamlit-drawable-canvas) (6.0.0)\n",
            "Requirement already satisfied: pandas>=0.21.0 in /usr/local/lib/python3.8/dist-packages (from streamlit>=0.63->streamlit-drawable-canvas) (1.3.5)\n",
            "Requirement already satisfied: protobuf!=3.20.2,<4,>=3.12 in /usr/local/lib/python3.8/dist-packages (from streamlit>=0.63->streamlit-drawable-canvas) (3.19.6)\n",
            "Requirement already satisfied: python-dateutil in /usr/local/lib/python3.8/dist-packages (from streamlit>=0.63->streamlit-drawable-canvas) (2.8.2)\n",
            "Requirement already satisfied: requests>=2.4 in /usr/local/lib/python3.8/dist-packages (from streamlit>=0.63->streamlit-drawable-canvas) (2.25.1)\n",
            "Requirement already satisfied: validators>=0.2 in /usr/local/lib/python3.8/dist-packages (from streamlit>=0.63->streamlit-drawable-canvas) (0.20.0)\n",
            "Requirement already satisfied: blinker>=1.0.0 in /usr/local/lib/python3.8/dist-packages (from streamlit>=0.63->streamlit-drawable-canvas) (1.5)\n",
            "Requirement already satisfied: tzlocal>=1.1 in /usr/local/lib/python3.8/dist-packages (from streamlit>=0.63->streamlit-drawable-canvas) (1.5.1)\n",
            "Requirement already satisfied: toml in /usr/local/lib/python3.8/dist-packages (from streamlit>=0.63->streamlit-drawable-canvas) (0.10.2)\n",
            "Requirement already satisfied: toolz in /usr/local/lib/python3.8/dist-packages (from altair>=3.2.0->streamlit>=0.63->streamlit-drawable-canvas) (0.12.0)\n",
            "Requirement already satisfied: jsonschema>=3.0 in /usr/local/lib/python3.8/dist-packages (from altair>=3.2.0->streamlit>=0.63->streamlit-drawable-canvas) (4.3.3)\n",
            "Requirement already satisfied: entrypoints in /usr/local/lib/python3.8/dist-packages (from altair>=3.2.0->streamlit>=0.63->streamlit-drawable-canvas) (0.4)\n",
            "Requirement already satisfied: jinja2 in /usr/local/lib/python3.8/dist-packages (from altair>=3.2.0->streamlit>=0.63->streamlit-drawable-canvas) (2.11.3)\n",
            "Requirement already satisfied: gitdb<5,>=4.0.1 in /usr/local/lib/python3.8/dist-packages (from gitpython!=3.1.19->streamlit>=0.63->streamlit-drawable-canvas) (4.0.10)\n",
            "Requirement already satisfied: zipp>=0.5 in /usr/local/lib/python3.8/dist-packages (from importlib-metadata>=1.4->streamlit>=0.63->streamlit-drawable-canvas) (3.11.0)\n",
            "Requirement already satisfied: pyparsing!=3.0.5,>=2.0.2 in /usr/local/lib/python3.8/dist-packages (from packaging>=14.1->streamlit>=0.63->streamlit-drawable-canvas) (3.0.9)\n",
            "Requirement already satisfied: pytz>=2017.3 in /usr/local/lib/python3.8/dist-packages (from pandas>=0.21.0->streamlit>=0.63->streamlit-drawable-canvas) (2022.7)\n",
            "Requirement already satisfied: six>=1.5 in /usr/local/lib/python3.8/dist-packages (from python-dateutil->streamlit>=0.63->streamlit-drawable-canvas) (1.15.0)\n",
            "Requirement already satisfied: chardet<5,>=3.0.2 in /usr/local/lib/python3.8/dist-packages (from requests>=2.4->streamlit>=0.63->streamlit-drawable-canvas) (4.0.0)\n",
            "Requirement already satisfied: idna<3,>=2.5 in /usr/local/lib/python3.8/dist-packages (from requests>=2.4->streamlit>=0.63->streamlit-drawable-canvas) (2.10)\n",
            "Requirement already satisfied: certifi>=2017.4.17 in /usr/local/lib/python3.8/dist-packages (from requests>=2.4->streamlit>=0.63->streamlit-drawable-canvas) (2022.12.7)\n",
            "Requirement already satisfied: urllib3<1.27,>=1.21.1 in /usr/local/lib/python3.8/dist-packages (from requests>=2.4->streamlit>=0.63->streamlit-drawable-canvas) (1.24.3)\n",
            "Requirement already satisfied: commonmark<0.10.0,>=0.9.0 in /usr/local/lib/python3.8/dist-packages (from rich>=10.11.0->streamlit>=0.63->streamlit-drawable-canvas) (0.9.1)\n",
            "Requirement already satisfied: pygments<3.0.0,>=2.6.0 in /usr/local/lib/python3.8/dist-packages (from rich>=10.11.0->streamlit>=0.63->streamlit-drawable-canvas) (2.6.1)\n",
            "Requirement already satisfied: decorator>=3.4.0 in /usr/local/lib/python3.8/dist-packages (from validators>=0.2->streamlit>=0.63->streamlit-drawable-canvas) (4.4.2)\n",
            "Requirement already satisfied: smmap<6,>=3.0.1 in /usr/local/lib/python3.8/dist-packages (from gitdb<5,>=4.0.1->gitpython!=3.1.19->streamlit>=0.63->streamlit-drawable-canvas) (5.0.0)\n",
            "Requirement already satisfied: MarkupSafe>=0.23 in /usr/local/lib/python3.8/dist-packages (from jinja2->altair>=3.2.0->streamlit>=0.63->streamlit-drawable-canvas) (2.0.1)\n",
            "Requirement already satisfied: importlib-resources>=1.4.0 in /usr/local/lib/python3.8/dist-packages (from jsonschema>=3.0->altair>=3.2.0->streamlit>=0.63->streamlit-drawable-canvas) (5.10.2)\n",
            "Requirement already satisfied: pyrsistent!=0.17.0,!=0.17.1,!=0.17.2,>=0.14.0 in /usr/local/lib/python3.8/dist-packages (from jsonschema>=3.0->altair>=3.2.0->streamlit>=0.63->streamlit-drawable-canvas) (0.19.3)\n",
            "Requirement already satisfied: attrs>=17.4.0 in /usr/local/lib/python3.8/dist-packages (from jsonschema>=3.0->altair>=3.2.0->streamlit>=0.63->streamlit-drawable-canvas) (22.2.0)\n",
            "Installing collected packages: streamlit-drawable-canvas\n",
            "Successfully installed streamlit-drawable-canvas-0.9.2\n"
          ]
        }
      ]
    },
    {
      "cell_type": "code",
      "execution_count": 4,
      "metadata": {
        "id": "bjUYrVHxdYo0"
      },
      "outputs": [],
      "source": [
        "import numpy as np\n",
        "import cv2\n",
        "import matplotlib.pyplot as plt\n",
        "import os \n",
        "from sklearn.model_selection import train_test_split\n",
        "import zipfile\n",
        "from sklearn.ensemble import RandomForestClassifier\n",
        "from sklearn import model_selection, svm, preprocessing\n",
        "from sklearn.metrics import accuracy_score,confusion_matrix\n",
        "from tensorflow import keras\n",
        "from sklearn.neighbors import KNeighborsClassifier\n",
        "import joblib"
      ]
    },
    {
      "cell_type": "code",
      "source": [
        "from google.colab import drive\n",
        "drive.mount('/content/drive')"
      ],
      "metadata": {
        "colab": {
          "base_uri": "https://localhost:8080/"
        },
        "id": "BKB47B9yKTV9",
        "outputId": "893249cb-aa8c-4f56-9736-1089bde19d03"
      },
      "execution_count": 5,
      "outputs": [
        {
          "output_type": "stream",
          "name": "stdout",
          "text": [
            "Mounted at /content/drive\n"
          ]
        }
      ]
    },
    {
      "cell_type": "code",
      "source": [
        "def get_path_list(root_path):\n",
        "    # compute list directories in root path\n",
        "    root = os.listdir(root_path) \n",
        "    # initilize array to store folder path in root directory \n",
        "    folder_path_list = [] \n",
        "\n",
        "    # looping through root directory\n",
        "    for index, folder_path in enumerate(root):\n",
        "        # append folder path\n",
        "        folder_path_list.append(folder_path)\n",
        "\n",
        "    return folder_path_list"
      ],
      "metadata": {
        "id": "P4vH7ghggxXu"
      },
      "execution_count": 8,
      "outputs": []
    },
    {
      "cell_type": "code",
      "source": [
        "def get_class_id(root_path, train_names):\n",
        "    # initilize array to store image and class id\n",
        "    image_list = []\n",
        "    image_blur_list = []\n",
        "    image_class_list = []\n",
        "\n",
        "    # looping through list of folder or train names path\n",
        "    for image_class, folder_path in enumerate(train_names):\n",
        "        full_folder_path = f'{root_path}/{folder_path}'\n",
        "        # compute list image path\n",
        "        folder = os.listdir(full_folder_path)\n",
        "        # looping through list of image in folder\n",
        "        for index, image_path in enumerate(folder):\n",
        "            full_image_path =  f'{full_folder_path}/{image_path}'\n",
        "            # load the image\n",
        "            image = cv2.imread(full_image_path)\n",
        "            image = cv2.cvtColor(image, cv2.COLOR_BGR2GRAY)\n",
        "            image = cv2.GaussianBlur(image, (5,5), 0)\n",
        "            image_blur_list.append(image)\n",
        "            \n",
        "            # append image list with the image\n",
        "            image_list.append(cv2.resize(image, (100,100)).flatten())\n",
        "            # append image class list with class of the image\n",
        "            image_class_list.append(image_class)\n",
        "    \n",
        "    image_list = np.array(image_list).astype(np.float32)\n",
        "    image_class_list = np.array(image_class_list).astype(np.float32)\n",
        "    \n",
        "    return image_list, image_class_list, image_blur_list"
      ],
      "metadata": {
        "id": "G1iVZnSUgxaG"
      },
      "execution_count": 9,
      "outputs": []
    },
    {
      "cell_type": "code",
      "source": [
        "# Loading the digits data\n",
        "data = cv2.imread('./drive/MyDrive/DigitRecognition_Dataset/digits.png')\n",
        "gray = cv2.cvtColor(data, cv2.COLOR_BGR2GRAY)\n",
        "\n",
        "# Resizing each digit from 20x20 to 10x10\n",
        "resized = cv2.pyrDown(gray)\n",
        "\n",
        "# Splitting image original image into 5000 different arrays of size 20x20\n",
        "# Resulting array: 50 * 100 * 20 * 20\n",
        "arr = [np.hsplit(i, 100) for i in np.vsplit(gray, 50)]\n",
        "arr = np.array(arr)\n",
        "\n",
        "# Spliting into training and test set\n",
        "# Total: 5000, Train: 3500 images, Test: 1500\n",
        "X_train_mnist = arr[:, :70].reshape(-1, 400).astype(np.float32)\n",
        "X_test_mnist = arr[:, 70:100].reshape(-1, 400).astype(np.float32)\n",
        "\n",
        "## Targets for each image\n",
        "y = [0,1,2,3,4,5,6,7,8,9]\n",
        "\n",
        "y_train_mnist = np.repeat(y, 350)[:, np.newaxis]\n",
        "y_test_mnist = np.repeat(y, 150)[:, np.newaxis] "
      ],
      "metadata": {
        "id": "5u47NfBi2PEc"
      },
      "execution_count": 10,
      "outputs": []
    },
    {
      "cell_type": "code",
      "source": [
        "train_root_path = './drive/MyDrive/DigitRecognition_Dataset/Train'\n",
        "train_names = get_path_list(train_root_path)\n",
        "train_image_list, image_classes_list, image_blur_list = get_class_id(train_root_path, train_names)\n",
        "\n",
        "(X_train, X_test, y_train, y_test) = train_test_split(train_image_list, image_classes_list, test_size=0.25, random_state=42)"
      ],
      "metadata": {
        "id": "ojSaYMq1GKEX"
      },
      "execution_count": 11,
      "outputs": []
    },
    {
      "cell_type": "markdown",
      "source": [
        "---OpenCV KNN---"
      ],
      "metadata": {
        "id": "2g1SBpN03P-4"
      }
    },
    {
      "cell_type": "code",
      "source": [
        "# Using K-NN(k- nearest neighbors) as the ML algorithm\n",
        "classifier_knn = cv2.ml.KNearest_create()\n",
        "classifier_knn.train(X_train_mnist, cv2.ml.ROW_SAMPLE, y_train_mnist)\n",
        "response, result, neighbours, distance = classifier_knn.findNearest(X_test_mnist, k=3)\n",
        "\n",
        "# Testing and calculating the accuracy of knn classifier\n",
        "correct = result == y_test_mnist\n",
        "correct = np.count_nonzero(correct)\n",
        "accuracy = correct * (100.0/result.size)\n",
        "print (\"MNIST Dataset : \", accuracy)"
      ],
      "metadata": {
        "colab": {
          "base_uri": "https://localhost:8080/"
        },
        "id": "eWjCUdov3UCV",
        "outputId": "9aba8daf-2560-4303-b1d0-7e0c4b636d7a"
      },
      "execution_count": 12,
      "outputs": [
        {
          "output_type": "stream",
          "name": "stdout",
          "text": [
            "MNIST Dataset :  93.46666666666667\n"
          ]
        }
      ]
    },
    {
      "cell_type": "code",
      "source": [
        "# Using K-NN(k- nearest neighbors) as the ML algorithm\n",
        "model_cv_knn = cv2.ml.KNearest_create()\n",
        "model_cv_knn.train(X_train, cv2.ml.ROW_SAMPLE, y_train)\n",
        "response, result, neighbours, distance = model_cv_knn.findNearest(X_test, k=3)\n",
        "\n",
        "# Testing and calculating the accuracy of knn classifier\n",
        "res_flatten = result.flatten()\n",
        "correct = res_flatten == y_test\n",
        "correct = np.count_nonzero(correct)\n",
        "accuracy = correct * (100/res_flatten.size)\n",
        "print (\"Manual Dataset : \", accuracy)"
      ],
      "metadata": {
        "colab": {
          "base_uri": "https://localhost:8080/"
        },
        "id": "bd5kFuWLgxek",
        "outputId": "7374059a-b231-4a56-e39f-2f6aa641c3c3"
      },
      "execution_count": 13,
      "outputs": [
        {
          "output_type": "stream",
          "name": "stdout",
          "text": [
            "Manual Dataset :  77.35849056603773\n"
          ]
        }
      ]
    },
    {
      "cell_type": "markdown",
      "source": [
        "---KNN SKLEARN---"
      ],
      "metadata": {
        "id": "VbYuVARx4BU6"
      }
    },
    {
      "cell_type": "code",
      "source": [
        "model_knn_sklearn = KNeighborsClassifier(n_neighbors=5,algorithm='auto',n_jobs=10)\n",
        "model_knn_sklearn.fit(X_train_mnist,y_train_mnist)\n",
        "confidence = model_knn_sklearn.score(X_test_mnist,y_test_mnist)\n",
        "y_pred_mnist = model_knn_sklearn.predict(X_test_mnist)\n",
        "accuracy = accuracy_score(y_test_mnist, y_pred_mnist)\n",
        "print (\"MNIST Dataset : \", accuracy*100)"
      ],
      "metadata": {
        "colab": {
          "base_uri": "https://localhost:8080/"
        },
        "id": "74Xzasu34LKa",
        "outputId": "8932cd5b-01ec-46bd-be26-8e7430b85afa"
      },
      "execution_count": 14,
      "outputs": [
        {
          "output_type": "stream",
          "name": "stderr",
          "text": [
            "/usr/local/lib/python3.8/dist-packages/sklearn/neighbors/_classification.py:198: DataConversionWarning: A column-vector y was passed when a 1d array was expected. Please change the shape of y to (n_samples,), for example using ravel().\n",
            "  return self._fit(X, y)\n"
          ]
        },
        {
          "output_type": "stream",
          "name": "stdout",
          "text": [
            "MNIST Dataset :  93.13333333333334\n"
          ]
        }
      ]
    },
    {
      "cell_type": "code",
      "source": [
        "model_knn_sklearn = KNeighborsClassifier(n_neighbors=5,algorithm='auto',n_jobs=10)\n",
        "model_knn_sklearn.fit(X_train,y_train)\n",
        "confidence = model_knn_sklearn.score(X_test,y_test)\n",
        "y_pred = model_knn_sklearn.predict(X_test)\n",
        "accuracy = accuracy_score(y_test, y_pred)\n",
        "print (\"Manual Dataset : \", accuracy*100)"
      ],
      "metadata": {
        "colab": {
          "base_uri": "https://localhost:8080/"
        },
        "id": "KaMFsFkamsR9",
        "outputId": "800d2f7b-a812-44d9-bddb-848ea645be10"
      },
      "execution_count": 15,
      "outputs": [
        {
          "output_type": "stream",
          "name": "stdout",
          "text": [
            "Manual Dataset :  78.30188679245283\n"
          ]
        }
      ]
    },
    {
      "cell_type": "markdown",
      "source": [
        "---Random Forest---"
      ],
      "metadata": {
        "id": "pKP5mhpu4Z5y"
      }
    },
    {
      "cell_type": "code",
      "source": [
        "model_rf = RandomForestClassifier(n_estimators=100, n_jobs=10)\n",
        "model_rf.fit(X_train_mnist,y_train_mnist)\n",
        "confidence = model_rf.score(X_test_mnist,y_test_mnist)\n",
        "y_pred_mnist = model_rf.predict(X_test_mnist)\n",
        "accuracy = accuracy_score(y_test_mnist, y_pred_mnist)\n",
        "print (\"MNIST Dataset : \", accuracy*100)"
      ],
      "metadata": {
        "colab": {
          "base_uri": "https://localhost:8080/"
        },
        "id": "RuwjJvvvnK7U",
        "outputId": "bb0d5ffd-cf75-457a-d1f0-136d93ef49d2"
      },
      "execution_count": 16,
      "outputs": [
        {
          "output_type": "stream",
          "name": "stderr",
          "text": [
            "<ipython-input-16-d210f56e470b>:2: DataConversionWarning: A column-vector y was passed when a 1d array was expected. Please change the shape of y to (n_samples,), for example using ravel().\n",
            "  model_rf.fit(X_train_mnist,y_train_mnist)\n"
          ]
        },
        {
          "output_type": "stream",
          "name": "stdout",
          "text": [
            "MNIST Dataset :  93.06666666666666\n"
          ]
        }
      ]
    },
    {
      "cell_type": "code",
      "source": [
        "model_rf = RandomForestClassifier(n_estimators=100, n_jobs=10)\n",
        "model_rf.fit(X_train,y_train)\n",
        "confidence = model_rf.score(X_test,y_test)\n",
        "y_pred = model_rf.predict(X_test)\n",
        "accuracy = accuracy_score(y_test, y_pred)\n",
        "print (\"Manual Dataset : \", accuracy*100)"
      ],
      "metadata": {
        "colab": {
          "base_uri": "https://localhost:8080/"
        },
        "id": "RZv2Or5Z4djr",
        "outputId": "bebdbf33-1ec0-4cce-c1c5-ed32a96c66a7"
      },
      "execution_count": 17,
      "outputs": [
        {
          "output_type": "stream",
          "name": "stdout",
          "text": [
            "Manual Dataset :  81.13207547169812\n"
          ]
        }
      ]
    },
    {
      "cell_type": "markdown",
      "source": [
        "---Tensorflow Keras---"
      ],
      "metadata": {
        "id": "PgVBKRdL5Jmn"
      }
    },
    {
      "cell_type": "code",
      "source": [
        "# Sequential create a stack of layers\n",
        "model_tensor = keras.Sequential([\n",
        "    keras.layers.Dense(10, input_shape=(400,), activation='sigmoid')\n",
        "])\n",
        "\n",
        "# Optimizer will help in backproagation to reach better global optima\n",
        "model_tensor.compile(\n",
        "    optimizer='adam',\n",
        "    loss='sparse_categorical_crossentropy',\n",
        "    metrics=['accuracy']\n",
        ")\n",
        "\n",
        "# Does the training\n",
        "model_tensor.fit(X_train_mnist, y_train_mnist, epochs=50)\n",
        "model_tensor.evaluate(X_test_mnist, y_test_mnist)"
      ],
      "metadata": {
        "colab": {
          "base_uri": "https://localhost:8080/"
        },
        "id": "mWrxVCCvDrNz",
        "outputId": "f0549586-0dee-45f5-9588-71d5877f4d68"
      },
      "execution_count": 18,
      "outputs": [
        {
          "output_type": "stream",
          "name": "stdout",
          "text": [
            "Epoch 1/50\n",
            "110/110 [==============================] - 1s 3ms/step - loss: 40.5075 - accuracy: 0.5000\n",
            "Epoch 2/50\n",
            "110/110 [==============================] - 0s 2ms/step - loss: 11.7578 - accuracy: 0.7666\n",
            "Epoch 3/50\n",
            "110/110 [==============================] - 0s 3ms/step - loss: 7.5527 - accuracy: 0.8306\n",
            "Epoch 4/50\n",
            "110/110 [==============================] - 0s 3ms/step - loss: 5.9045 - accuracy: 0.8560\n",
            "Epoch 5/50\n",
            "110/110 [==============================] - 0s 3ms/step - loss: 4.7938 - accuracy: 0.8680\n",
            "Epoch 6/50\n",
            "110/110 [==============================] - 0s 3ms/step - loss: 4.1063 - accuracy: 0.8757\n",
            "Epoch 7/50\n",
            "110/110 [==============================] - 0s 2ms/step - loss: 3.3397 - accuracy: 0.8926\n",
            "Epoch 8/50\n",
            "110/110 [==============================] - 0s 2ms/step - loss: 2.9762 - accuracy: 0.8954\n",
            "Epoch 9/50\n",
            "110/110 [==============================] - 0s 3ms/step - loss: 2.5987 - accuracy: 0.9071\n",
            "Epoch 10/50\n",
            "110/110 [==============================] - 0s 2ms/step - loss: 2.5093 - accuracy: 0.9089\n",
            "Epoch 11/50\n",
            "110/110 [==============================] - 0s 3ms/step - loss: 1.9603 - accuracy: 0.9169\n",
            "Epoch 12/50\n",
            "110/110 [==============================] - 0s 2ms/step - loss: 1.9393 - accuracy: 0.9220\n",
            "Epoch 13/50\n",
            "110/110 [==============================] - 0s 3ms/step - loss: 1.7677 - accuracy: 0.9186\n",
            "Epoch 14/50\n",
            "110/110 [==============================] - 0s 2ms/step - loss: 1.5361 - accuracy: 0.9240\n",
            "Epoch 15/50\n",
            "110/110 [==============================] - 0s 3ms/step - loss: 1.4691 - accuracy: 0.9311\n",
            "Epoch 16/50\n",
            "110/110 [==============================] - 0s 3ms/step - loss: 1.3403 - accuracy: 0.9314\n",
            "Epoch 17/50\n",
            "110/110 [==============================] - 0s 2ms/step - loss: 1.2880 - accuracy: 0.9331\n",
            "Epoch 18/50\n",
            "110/110 [==============================] - 0s 2ms/step - loss: 1.3860 - accuracy: 0.9234\n",
            "Epoch 19/50\n",
            "110/110 [==============================] - 0s 2ms/step - loss: 1.1838 - accuracy: 0.9371\n",
            "Epoch 20/50\n",
            "110/110 [==============================] - 0s 2ms/step - loss: 1.2467 - accuracy: 0.9343\n",
            "Epoch 21/50\n",
            "110/110 [==============================] - 0s 2ms/step - loss: 1.0978 - accuracy: 0.9337\n",
            "Epoch 22/50\n",
            "110/110 [==============================] - 0s 2ms/step - loss: 0.7925 - accuracy: 0.9497\n",
            "Epoch 23/50\n",
            "110/110 [==============================] - 0s 2ms/step - loss: 0.8960 - accuracy: 0.9489\n",
            "Epoch 24/50\n",
            "110/110 [==============================] - 0s 2ms/step - loss: 0.7990 - accuracy: 0.9511\n",
            "Epoch 25/50\n",
            "110/110 [==============================] - 0s 2ms/step - loss: 0.7139 - accuracy: 0.9543\n",
            "Epoch 26/50\n",
            "110/110 [==============================] - 0s 2ms/step - loss: 0.8761 - accuracy: 0.9477\n",
            "Epoch 27/50\n",
            "110/110 [==============================] - 0s 2ms/step - loss: 0.7364 - accuracy: 0.9474\n",
            "Epoch 28/50\n",
            "110/110 [==============================] - 0s 2ms/step - loss: 0.9883 - accuracy: 0.9374\n",
            "Epoch 29/50\n",
            "110/110 [==============================] - 0s 2ms/step - loss: 0.8660 - accuracy: 0.9446\n",
            "Epoch 30/50\n",
            "110/110 [==============================] - 0s 2ms/step - loss: 0.4850 - accuracy: 0.9631\n",
            "Epoch 31/50\n",
            "110/110 [==============================] - 0s 2ms/step - loss: 0.6300 - accuracy: 0.9603\n",
            "Epoch 32/50\n",
            "110/110 [==============================] - 0s 2ms/step - loss: 0.7870 - accuracy: 0.9491\n",
            "Epoch 33/50\n",
            "110/110 [==============================] - 0s 2ms/step - loss: 0.6597 - accuracy: 0.9520\n",
            "Epoch 34/50\n",
            "110/110 [==============================] - 0s 2ms/step - loss: 0.6976 - accuracy: 0.9500\n",
            "Epoch 35/50\n",
            "110/110 [==============================] - 0s 3ms/step - loss: 0.5397 - accuracy: 0.9629\n",
            "Epoch 36/50\n",
            "110/110 [==============================] - 0s 2ms/step - loss: 0.7072 - accuracy: 0.9514\n",
            "Epoch 37/50\n",
            "110/110 [==============================] - 0s 2ms/step - loss: 0.5443 - accuracy: 0.9617\n",
            "Epoch 38/50\n",
            "110/110 [==============================] - 0s 2ms/step - loss: 0.5294 - accuracy: 0.9617\n",
            "Epoch 39/50\n",
            "110/110 [==============================] - 0s 2ms/step - loss: 0.6186 - accuracy: 0.9563\n",
            "Epoch 40/50\n",
            "110/110 [==============================] - 0s 2ms/step - loss: 0.4856 - accuracy: 0.9629\n",
            "Epoch 41/50\n",
            "110/110 [==============================] - 0s 2ms/step - loss: 0.5269 - accuracy: 0.9629\n",
            "Epoch 42/50\n",
            "110/110 [==============================] - 0s 2ms/step - loss: 0.5173 - accuracy: 0.9569\n",
            "Epoch 43/50\n",
            "110/110 [==============================] - 0s 2ms/step - loss: 0.6329 - accuracy: 0.9563\n",
            "Epoch 44/50\n",
            "110/110 [==============================] - 0s 2ms/step - loss: 0.6407 - accuracy: 0.9571\n",
            "Epoch 45/50\n",
            "110/110 [==============================] - 0s 2ms/step - loss: 0.4821 - accuracy: 0.9669\n",
            "Epoch 46/50\n",
            "110/110 [==============================] - 0s 2ms/step - loss: 0.4493 - accuracy: 0.9671\n",
            "Epoch 47/50\n",
            "110/110 [==============================] - 0s 3ms/step - loss: 0.5480 - accuracy: 0.9637\n",
            "Epoch 48/50\n",
            "110/110 [==============================] - 0s 2ms/step - loss: 0.5097 - accuracy: 0.9606\n",
            "Epoch 49/50\n",
            "110/110 [==============================] - 0s 2ms/step - loss: 0.4187 - accuracy: 0.9683\n",
            "Epoch 50/50\n",
            "110/110 [==============================] - 0s 2ms/step - loss: 0.4732 - accuracy: 0.9649\n",
            "47/47 [==============================] - 0s 2ms/step - loss: 8.1232 - accuracy: 0.8660\n"
          ]
        },
        {
          "output_type": "execute_result",
          "data": {
            "text/plain": [
              "[8.123178482055664, 0.8659999966621399]"
            ]
          },
          "metadata": {},
          "execution_count": 18
        }
      ]
    },
    {
      "cell_type": "code",
      "source": [
        "# Sequential create a stack of layers\n",
        "model_tensor = keras.Sequential([\n",
        "    keras.layers.Dense(10, input_shape=(10000,), activation='sigmoid')\n",
        "])\n",
        "\n",
        "# Optimizer will help in backproagation to reach better global optima\n",
        "model_tensor.compile(\n",
        "    optimizer='adam',\n",
        "    loss='sparse_categorical_crossentropy',\n",
        "    metrics=['accuracy']\n",
        ")\n",
        "\n",
        "# Does the training\n",
        "model_tensor.fit(X_train, y_train, epochs=50)\n",
        "model_tensor.evaluate(X_test, y_test)"
      ],
      "metadata": {
        "colab": {
          "base_uri": "https://localhost:8080/"
        },
        "id": "NtoFA_175kT7",
        "outputId": "00feb6af-72d4-46d3-a056-88ad7d8d6779"
      },
      "execution_count": 19,
      "outputs": [
        {
          "output_type": "stream",
          "name": "stdout",
          "text": [
            "Epoch 1/50\n",
            "10/10 [==============================] - 0s 5ms/step - loss: 172.9506 - accuracy: 0.3459\n",
            "Epoch 2/50\n",
            "10/10 [==============================] - 0s 6ms/step - loss: 62.1913 - accuracy: 0.7107\n",
            "Epoch 3/50\n",
            "10/10 [==============================] - 0s 6ms/step - loss: 45.4591 - accuracy: 0.7830\n",
            "Epoch 4/50\n",
            "10/10 [==============================] - 0s 7ms/step - loss: 34.4682 - accuracy: 0.8270\n",
            "Epoch 5/50\n",
            "10/10 [==============================] - 0s 5ms/step - loss: 32.6358 - accuracy: 0.8459\n",
            "Epoch 6/50\n",
            "10/10 [==============================] - 0s 6ms/step - loss: 20.9441 - accuracy: 0.8805\n",
            "Epoch 7/50\n",
            "10/10 [==============================] - 0s 4ms/step - loss: 14.0010 - accuracy: 0.9182\n",
            "Epoch 8/50\n",
            "10/10 [==============================] - 0s 6ms/step - loss: 10.5890 - accuracy: 0.9119\n",
            "Epoch 9/50\n",
            "10/10 [==============================] - 0s 7ms/step - loss: 7.6089 - accuracy: 0.9403\n",
            "Epoch 10/50\n",
            "10/10 [==============================] - 0s 7ms/step - loss: 14.2396 - accuracy: 0.9151\n",
            "Epoch 11/50\n",
            "10/10 [==============================] - 0s 7ms/step - loss: 16.3316 - accuracy: 0.8931\n",
            "Epoch 12/50\n",
            "10/10 [==============================] - 0s 5ms/step - loss: 17.8973 - accuracy: 0.9214\n",
            "Epoch 13/50\n",
            "10/10 [==============================] - 0s 7ms/step - loss: 13.0739 - accuracy: 0.9277\n",
            "Epoch 14/50\n",
            "10/10 [==============================] - 0s 6ms/step - loss: 11.3965 - accuracy: 0.9214\n",
            "Epoch 15/50\n",
            "10/10 [==============================] - 0s 6ms/step - loss: 9.3114 - accuracy: 0.9277\n",
            "Epoch 16/50\n",
            "10/10 [==============================] - 0s 5ms/step - loss: 17.1395 - accuracy: 0.9340\n",
            "Epoch 17/50\n",
            "10/10 [==============================] - 0s 6ms/step - loss: 9.6926 - accuracy: 0.9245\n",
            "Epoch 18/50\n",
            "10/10 [==============================] - 0s 7ms/step - loss: 9.6708 - accuracy: 0.9182\n",
            "Epoch 19/50\n",
            "10/10 [==============================] - 0s 7ms/step - loss: 22.5514 - accuracy: 0.9151\n",
            "Epoch 20/50\n",
            "10/10 [==============================] - 0s 5ms/step - loss: 18.5388 - accuracy: 0.9151\n",
            "Epoch 21/50\n",
            "10/10 [==============================] - 0s 5ms/step - loss: 35.4604 - accuracy: 0.8962\n",
            "Epoch 22/50\n",
            "10/10 [==============================] - 0s 6ms/step - loss: 18.4124 - accuracy: 0.9277\n",
            "Epoch 23/50\n",
            "10/10 [==============================] - 0s 6ms/step - loss: 24.1193 - accuracy: 0.8962\n",
            "Epoch 24/50\n",
            "10/10 [==============================] - 0s 7ms/step - loss: 21.7939 - accuracy: 0.8962\n",
            "Epoch 25/50\n",
            "10/10 [==============================] - 0s 7ms/step - loss: 15.3909 - accuracy: 0.9088\n",
            "Epoch 26/50\n",
            "10/10 [==============================] - 0s 5ms/step - loss: 14.9948 - accuracy: 0.9025\n",
            "Epoch 27/50\n",
            "10/10 [==============================] - 0s 6ms/step - loss: 20.5003 - accuracy: 0.9088\n",
            "Epoch 28/50\n",
            "10/10 [==============================] - 0s 7ms/step - loss: 32.9876 - accuracy: 0.8805\n",
            "Epoch 29/50\n",
            "10/10 [==============================] - 0s 6ms/step - loss: 26.3754 - accuracy: 0.9088\n",
            "Epoch 30/50\n",
            "10/10 [==============================] - 0s 6ms/step - loss: 25.3196 - accuracy: 0.9057\n",
            "Epoch 31/50\n",
            "10/10 [==============================] - 0s 7ms/step - loss: 14.3950 - accuracy: 0.9308\n",
            "Epoch 32/50\n",
            "10/10 [==============================] - 0s 6ms/step - loss: 11.3035 - accuracy: 0.9182\n",
            "Epoch 33/50\n",
            "10/10 [==============================] - 0s 5ms/step - loss: 13.8590 - accuracy: 0.9403\n",
            "Epoch 34/50\n",
            "10/10 [==============================] - 0s 6ms/step - loss: 12.2659 - accuracy: 0.9371\n",
            "Epoch 35/50\n",
            "10/10 [==============================] - 0s 8ms/step - loss: 20.1624 - accuracy: 0.9371\n",
            "Epoch 36/50\n",
            "10/10 [==============================] - 0s 6ms/step - loss: 31.7091 - accuracy: 0.8994\n",
            "Epoch 37/50\n",
            "10/10 [==============================] - 0s 7ms/step - loss: 17.2781 - accuracy: 0.9308\n",
            "Epoch 38/50\n",
            "10/10 [==============================] - 0s 6ms/step - loss: 10.8609 - accuracy: 0.9371\n",
            "Epoch 39/50\n",
            "10/10 [==============================] - 0s 7ms/step - loss: 18.7833 - accuracy: 0.9214\n",
            "Epoch 40/50\n",
            "10/10 [==============================] - 0s 6ms/step - loss: 12.2418 - accuracy: 0.9371\n",
            "Epoch 41/50\n",
            "10/10 [==============================] - 0s 6ms/step - loss: 23.9454 - accuracy: 0.9151\n",
            "Epoch 42/50\n",
            "10/10 [==============================] - 0s 5ms/step - loss: 24.5348 - accuracy: 0.9151\n",
            "Epoch 43/50\n",
            "10/10 [==============================] - 0s 7ms/step - loss: 26.1490 - accuracy: 0.9182\n",
            "Epoch 44/50\n",
            "10/10 [==============================] - 0s 6ms/step - loss: 26.5478 - accuracy: 0.9214\n",
            "Epoch 45/50\n",
            "10/10 [==============================] - 0s 6ms/step - loss: 26.3569 - accuracy: 0.9119\n",
            "Epoch 46/50\n",
            "10/10 [==============================] - 0s 6ms/step - loss: 23.8831 - accuracy: 0.9119\n",
            "Epoch 47/50\n",
            "10/10 [==============================] - 0s 6ms/step - loss: 19.0251 - accuracy: 0.9214\n",
            "Epoch 48/50\n",
            "10/10 [==============================] - 0s 9ms/step - loss: 16.9650 - accuracy: 0.9277\n",
            "Epoch 49/50\n",
            "10/10 [==============================] - 0s 6ms/step - loss: 11.5438 - accuracy: 0.9182\n",
            "Epoch 50/50\n",
            "10/10 [==============================] - 0s 7ms/step - loss: 19.8009 - accuracy: 0.9371\n",
            "4/4 [==============================] - 0s 5ms/step - loss: 157.6535 - accuracy: 0.7358\n"
          ]
        },
        {
          "output_type": "execute_result",
          "data": {
            "text/plain": [
              "[157.65350341796875, 0.7358490824699402]"
            ]
          },
          "metadata": {},
          "execution_count": 19
        }
      ]
    },
    {
      "cell_type": "markdown",
      "source": [
        "---SVM--"
      ],
      "metadata": {
        "id": "ScyMWYko6Ieo"
      }
    },
    {
      "cell_type": "code",
      "source": [
        "model_svm_mnist = svm.SVC(gamma=0.001, kernel='poly')\n",
        "model_svm_mnist.fit(X_train_mnist,y_train_mnist)\n",
        "y_pred_mnist = model_svm_mnist.predict(X_test_mnist)\n",
        "accuracy = accuracy_score(y_test_mnist, y_pred_mnist)\n",
        "print(\"MNIST Dataset : \", accuracy*100)"
      ],
      "metadata": {
        "colab": {
          "base_uri": "https://localhost:8080/"
        },
        "id": "qVZW-pKBcdr9",
        "outputId": "b73b158e-2e4a-4f79-8aeb-adcd70da98a6"
      },
      "execution_count": 27,
      "outputs": [
        {
          "output_type": "stream",
          "name": "stderr",
          "text": [
            "/usr/local/lib/python3.8/dist-packages/sklearn/utils/validation.py:993: DataConversionWarning: A column-vector y was passed when a 1d array was expected. Please change the shape of y to (n_samples, ), for example using ravel().\n",
            "  y = column_or_1d(y, warn=True)\n"
          ]
        },
        {
          "output_type": "stream",
          "name": "stdout",
          "text": [
            "MNIST Dataset :  93.53333333333333\n"
          ]
        }
      ]
    },
    {
      "cell_type": "code",
      "source": [
        "model_svm_manual = svm.SVC(gamma=0.001, kernel='poly')\n",
        "model_svm_manual.fit(X_train,y_train)\n",
        "y_pred = model_svm_manual.predict(X_test)\n",
        "accuracy = accuracy_score(y_test, y_pred)\n",
        "print(\"Manual Dataset : \", accuracy*100)"
      ],
      "metadata": {
        "colab": {
          "base_uri": "https://localhost:8080/"
        },
        "id": "AuNaI1GE6Hzf",
        "outputId": "04f68580-782c-4713-9544-a616d20164b0"
      },
      "execution_count": 28,
      "outputs": [
        {
          "output_type": "stream",
          "name": "stdout",
          "text": [
            "Manual Dataset :  83.9622641509434\n"
          ]
        }
      ]
    },
    {
      "cell_type": "code",
      "source": [
        "joblib.dump(model_svm_mnist, \"./drive/MyDrive/Colab Notebooks/DigitRecognition_SVM_MNIST_Model.pt\") \n",
        "model_svm_mnist_new = joblib.load(\"./drive/MyDrive/Colab Notebooks/DigitRecognition_SVM_MNIST_Model.pt\")"
      ],
      "metadata": {
        "id": "sXbrKf3lKM6E"
      },
      "execution_count": 29,
      "outputs": []
    },
    {
      "cell_type": "code",
      "source": [
        "joblib.dump(model_svm_manual, \"./drive/MyDrive/Colab Notebooks/DigitRecognition_SVM_Manual_Model.pt\") \n",
        "model_svm_manual_new = joblib.load(\"./drive/MyDrive/Colab Notebooks/DigitRecognition_SVM_Manual_Model.pt\")"
      ],
      "metadata": {
        "id": "0rmqTv5Euj1f"
      },
      "execution_count": 30,
      "outputs": []
    },
    {
      "cell_type": "code",
      "source": [
        "def drawSquare(image):\n",
        "\t'''\n",
        "\tDraws a square around the found digits\n",
        "\t'''\t\t\n",
        "\tb = [0,0,0]\n",
        "\theight, width = image.shape[0], image.shape[1]\n",
        "\tif(height == width): ## if square\n",
        "\t\tsquare = image\n",
        "\t\treturn square\n",
        "\telse:\n",
        "\t\td_size = cv2.resize(image, (2*width, 2*height), interpolation=cv2.INTER_CUBIC)\n",
        "\t\theight, width = height * 2, width * 2\n",
        "\t\tif (height > width):\n",
        "\t\t\tpadding = int((height - width)/2)\n",
        "\t\t\td_size_square = cv2.copyMakeBorder(d_size, 0, 0, padding, padding, cv2.BORDER_CONSTANT, None,value=b)\n",
        "\t\telse:\n",
        "\t\t\tpadding = int((width - height)/2)\n",
        "\t\t\td_size_square = cv2.copyMakeBorder(d_size, padding, padding, 0, 0, cv2.BORDER_CONSTANT, None,value=b)\n",
        "\n",
        "\treturn d_size_square"
      ],
      "metadata": {
        "id": "tXp1XDtYgxSA"
      },
      "execution_count": 6,
      "outputs": []
    },
    {
      "cell_type": "code",
      "source": [
        "def resize(image, dim):\n",
        "\t'''\n",
        "\tReturns orignal image resized to shape 'dim'\n",
        "\t'''\t\n",
        "\tb = [0,0,0]\t \t\t\t\n",
        "\tdim = dim - 4\n",
        "\tsquared = image\n",
        "\tr = (float(dim) / squared.shape[1])\n",
        "\td = (dim, int(squared.shape[0] * r))\n",
        "\tresized = cv2.resize(image, d, interpolation = cv2.INTER_AREA)\n",
        "\theight, width = resized.shape[0], resized.shape[1];\n",
        "\tif (height > width):\n",
        "\t\tresized = cv2.copyMakeBorder(resized, 0,0,0,1, cv2.BORDER_CONSTANT, value=b)\n",
        "\tif (height < width):\n",
        "\t\tresized = cv2.copyMakeBorder(resized, 1,0,0,0, cv2.BORDER_CONSTANT, value=b)\n",
        "\n",
        "\tresized = cv2.copyMakeBorder(resized, 2,2,2,2,cv2.BORDER_CONSTANT, value=b)\n",
        "\theight, width = resized.shape[0], resized.shape[1]\t\n",
        "\t\n",
        "\treturn resized\t"
      ],
      "metadata": {
        "id": "LR8bMyHtgxVK"
      },
      "execution_count": 7,
      "outputs": []
    },
    {
      "cell_type": "code",
      "source": [
        "def recognize_digit(image):\n",
        "  gray = cv2.cvtColor(image, cv2.COLOR_BGR2GRAY)\n",
        "  blur = cv2.GaussianBlur(gray, (5,5), 0)\n",
        "\n",
        "  canny = cv2.Canny(blur, 30, 150)\n",
        "\n",
        "  contours, _ = cv2.findContours(canny.copy(), cv2.RETR_EXTERNAL, cv2.CHAIN_APPROX_SIMPLE)\n",
        "  boundingBoxes = [cv2.boundingRect(c) for c in contours]\n",
        "\n",
        "  display = []\n",
        "  image_numbers = []\n",
        "\n",
        "  for contour in contours:\n",
        "    (x, y, w, h) = cv2.boundingRect(contour)\n",
        "    \n",
        "    if w>= 5 and h>=20:\n",
        "      area = blur[y:y+h, x:x+w]\n",
        "      ret, area = cv2.threshold(area, 127, 255, cv2.THRESH_BINARY_INV)\n",
        "          \n",
        "      new_square = drawSquare(area)\n",
        "      number = resize(new_square, 100)\n",
        "      result = number.reshape((1, 10000)); \n",
        "      # number = resize(new_square, 20)\n",
        "      # result = number.reshape((1, 400)); \n",
        "      result = result.astype(np.float32);\n",
        "      image_numbers.append(number)\n",
        "    \n",
        "      #knn opencv\n",
        "      # ret, res, neighbours, distance = model_cv_knn.findNearest(result, k=1)\n",
        "      # n = str(int(float(res[0]))); print(res.shape)\n",
        "      # display.append(n)\n",
        "\n",
        "      #svm\n",
        "      # res = model_svm_mnist_new.predict(result)\n",
        "      res = model_svm_manual_new.predict(result)\n",
        "      n = str(int(float(res)))\n",
        "      display.append(n)\n",
        "\n",
        "      #tensor keras\n",
        "      # result = np.array(result).astype(np.float32)\n",
        "      # res = model_tensor.predict(result)\n",
        "      # n = str(int(float(res[0][0])))\n",
        "      # display.append(n)\n",
        "\n",
        "      # draw rectangle around individual digit\n",
        "      cv2.rectangle(image, (x,y), (x+w, y+h), (255,0,0), 1)\n",
        "      cv2.putText(image, n, (x,y-10), cv2.FONT_ITALIC, 2, (0,255,0), 2)\n",
        "\n",
        "  return image, display, image_numbers"
      ],
      "metadata": {
        "id": "dTK0C2YbgxjL"
      },
      "execution_count": 61,
      "outputs": []
    },
    {
      "cell_type": "code",
      "source": [
        "original = cv2.imread('./drive/MyDrive/DigitRecognition_Dataset/Test/Test9.png')\n",
        "resultImage, resultDigit, image_numbers = recognize_digit(cv2.imread('./drive/MyDrive/DigitRecognition_Dataset/Test/Test9.png'))\n",
        "plt.figure(figsize = (30, 15))\n",
        "plt.subplot(121)\n",
        "plt.imshow(original, cmap = 'gray')\n",
        "plt.title(\"Original Image\")\n",
        "plt.xticks([]), plt.yticks([])\n",
        "\n",
        "plt.subplot(122)\n",
        "plt.imshow(resultImage, \"gray\")\n",
        "plt.title(resultDigit)\n",
        "plt.xticks([]), plt.yticks([])\n",
        "plt.show()"
      ],
      "metadata": {
        "colab": {
          "base_uri": "https://localhost:8080/",
          "height": 310
        },
        "id": "0voR-svWgxle",
        "outputId": "2e931b9a-b8a1-4167-9cc2-02f2bc1ee355"
      },
      "execution_count": 62,
      "outputs": [
        {
          "output_type": "display_data",
          "data": {
            "text/plain": [
              "<Figure size 2160x1080 with 2 Axes>"
            ],
            "image/png": "[encoded data removed]"
          },
          "metadata": {}
        }
      ]
    },
    {
      "cell_type": "code",
      "source": [
        "plt.imshow(image_numbers[0], \"gray\")\n",
        "plt.xticks([]), plt.yticks([])\n",
        "plt.show()"
      ],
      "metadata": {
        "id": "b70aXH69z0um",
        "outputId": "828cda88-f0ad-4cf2-a623-9246d299a908",
        "colab": {
          "base_uri": "https://localhost:8080/",
          "height": 252
        }
      },
      "execution_count": 59,
      "outputs": [
        {
          "output_type": "display_data",
          "data": {
            "text/plain": [
              "<Figure size 432x288 with 1 Axes>"
            ],
            "image/png": "[encoded data removed]"
          },
          "metadata": {}
        }
      ]
    },
    {
      "cell_type": "markdown",
      "source": [
        "Streamlit App"
      ],
      "metadata": {
        "id": "UqGwb7n1gJNU"
      }
    },
    {
      "cell_type": "code",
      "source": [
        "%%writefile app.py\n",
        "import numpy as np\n",
        "import streamlit as st\n",
        "from streamlit_drawable_canvas import st_canvas\n",
        "import cv2\n",
        "import joblib\n",
        "\n",
        "st.title(\"Drawable Digit Recognition using Support Vector Machine\")\n",
        "st.markdown(\"> This app demonstrates Digit Recognition using SVM. The app allows users draw digits on to a canvas and an image with prediction digits will be shown as the result.\")\n",
        "st.markdown(\">Disclaimer : The performance of our SVM Model on Drawable Digit Recognition showed a realistic results, with accuracy of 76.41%\")\n",
        "st.header(\"🎲 How to Use the Application\")\n",
        "st.markdown(\n",
        "    \"\"\"\n",
        "    * Draw Digits freely as you want! \n",
        "    * You can Undo, Redo or Delete your drawing with button in the bottom left of the canvas \n",
        "    * Please Don't forget to Press ⬇️ Send Button in the bottom left of the canvas!\n",
        "    * Press Predict Button if you're done with your drawing and the result will be shown bellow\n",
        "    \"\"\"\n",
        "    )\n",
        "st.write(\" \")\n",
        "st.write(\" \")\n",
        "st.write(\" \")\n",
        "\n",
        "st.markdown(\"Draw Digits [0-9]\")\n",
        "# Create a canvas component\n",
        "canvas_result = st_canvas(\n",
        "    fill_color=\"rgba(255, 165, 0, 0.3)\",  # Fixed fill color with some opacity\n",
        "    stroke_width=9,\n",
        "    stroke_color=\"black\",\n",
        "    background_color=\"#eee\",\n",
        "    background_image=None,\n",
        "    update_streamlit=False,\n",
        "    height=270,\n",
        "    width=700,\n",
        "    drawing_mode=\"freedraw\",\n",
        "    point_display_radius= 0,\n",
        "    display_toolbar=True,\n",
        "    key=\"full_app\",\n",
        ")\n",
        "\n",
        "predict = st.button(\"Predict\")\n",
        "\n",
        "def drawSquare(image):\n",
        "    '''\n",
        "    Draws a square around the found digits\n",
        "    '''\t\t\n",
        "    b = [0,0,0]\n",
        "    height, width = image.shape[0], image.shape[1]\n",
        "    if(height == width): ## if square\n",
        "      square = image\n",
        "      return square\n",
        "    else:\n",
        "      d_size = cv2.resize(image, (2*width, 2*height), interpolation=cv2.INTER_CUBIC)\n",
        "      height, width = height * 2, width * 2\n",
        "      if (height > width):\n",
        "        padding = (height - width)/2; padding = int(padding)\n",
        "        d_size_square = cv2.copyMakeBorder(d_size, 0, 0, padding, padding, cv2.BORDER_CONSTANT, None,value=b)\n",
        "      else:\n",
        "        padding = (width - height)/2; padding = int(padding)\n",
        "        d_size_square = cv2.copyMakeBorder(d_size, padding, padding, 0, 0, cv2.BORDER_CONSTANT, None,value=b)\n",
        "\n",
        "    return d_size_square\n",
        "\n",
        "def resize(image, dim):\n",
        "    '''\n",
        "    Returns orignal image resized to shape 'dim'\n",
        "    '''\t\n",
        "    b = [0,0,0]\t \t\t\t\n",
        "    dim = dim - 4\n",
        "    squared = image\n",
        "    r = (float(dim) / squared.shape[1])\n",
        "    d = (dim, int(squared.shape[0] * r))\n",
        "    resized = cv2.resize(image, d, interpolation = cv2.INTER_AREA)\n",
        "    height, width = resized.shape[0], resized.shape[1];\n",
        "    if (height > width):\n",
        "      resized = cv2.copyMakeBorder(resized, 0,0,0,1, cv2.BORDER_CONSTANT, value=b)\n",
        "    if (height < width):\n",
        "      resized = cv2.copyMakeBorder(resized, 1,0,0,0, cv2.BORDER_CONSTANT, value=b)\n",
        "\n",
        "    resized = cv2.copyMakeBorder(resized, 2,2,2,2,cv2.BORDER_CONSTANT, value=b)\n",
        "    height, width = resized.shape[0], resized.shape[1]\t\n",
        "    \n",
        "    return resized\t\n",
        "\n",
        "model_svm_mnist_new = joblib.load(\"./drive/MyDrive/Colab Notebooks/DigitRecognition_SVM_MNIST_Model.pt\")\n",
        "model_svm_manual_new = joblib.load(\"./drive/MyDrive/Colab Notebooks/DigitRecognition_SVM_Manual_Model.pt\")\n",
        "\n",
        "def recognize_digit(image):\n",
        "    gray = cv2.cvtColor(image, cv2.COLOR_BGR2GRAY)\n",
        "    blur = cv2.GaussianBlur(gray, (5,5), 0)\n",
        "    canny = cv2.Canny(blur, 30, 150)\n",
        "\n",
        "    contours, _ = cv2.findContours(canny.copy(), cv2.RETR_EXTERNAL, cv2.CHAIN_APPROX_SIMPLE)\n",
        "    boundingBoxes = [cv2.boundingRect(c) for c in contours]\n",
        "\n",
        "    display = []\n",
        "\n",
        "    for contour in contours:\n",
        "      (x, y, w, h) = cv2.boundingRect(contour)\n",
        "        \n",
        "      if w>= 5 and h>=20:\n",
        "        area = blur[y:y+h, x:x+w]\n",
        "        ret, area = cv2.threshold(area, 127, 255, cv2.THRESH_BINARY_INV)\n",
        "            \n",
        "        new_square = drawSquare(area)\n",
        "\n",
        "        number = resize(new_square, 100)\n",
        "        result = number.reshape((1, 10000)); \n",
        "\n",
        "        # number = resize(new_square, 20)\n",
        "        # result = number.reshape((1, 400))\n",
        "\n",
        "        result = result.astype(np.float32);\n",
        "\n",
        "        res = model_svm_manual_new.predict(result)\n",
        "\n",
        "        # res = model_svm_mnist_new.predict(result)\n",
        "        \n",
        "        n = str(int(float(res)))\n",
        "        display.append(n)\n",
        "\n",
        "        # draw rectangle around individual digit\n",
        "        cv2.rectangle(image, (x,y), (x+w, y+h), (255,0,0), 2)\n",
        "        cv2.putText(image, n, (x,y-8), cv2.FONT_ITALIC, 0.7, (0,255,0), 2)\n",
        "\n",
        "    return image, display\n",
        "\n",
        "# Do something interesting with the image data and paths\n",
        "if canvas_result.image_data is not None and predict:\n",
        "    resImg, resDigit = recognize_digit(canvas_result.image_data)\n",
        "    st.markdown(\"Prediction Result\")\n",
        "    st.image(resImg)\n",
        "    st.text(\"Digit Prediction : {}\".format(resDigit))"
      ],
      "metadata": {
        "colab": {
          "base_uri": "https://localhost:8080/"
        },
        "id": "GTifd3zZd-SX",
        "outputId": "8aa3f69e-b5fc-440e-80ad-d6a565960943"
      },
      "execution_count": 60,
      "outputs": [
        {
          "output_type": "stream",
          "name": "stdout",
          "text": [
            "Overwriting app.py\n"
          ]
        }
      ]
    },
    {
      "cell_type": "markdown",
      "source": [
        "Local Tunnel"
      ],
      "metadata": {
        "id": "5aC9v5qoD0SD"
      }
    },
    {
      "cell_type": "code",
      "source": [
        "!streamlit run app.py & npx localtunnel --port 8501"
      ],
      "metadata": {
        "colab": {
          "base_uri": "https://localhost:8080/"
        },
        "id": "Sa3BeilsU8F3",
        "outputId": "bdf1dc48-cc2d-4537-f475-fc2c09ffb6b0"
      },
      "execution_count": 35,
      "outputs": [
        {
          "output_type": "stream",
          "name": "stdout",
          "text": [
            "2023-01-11 02:55:23.340 INFO    numexpr.utils: NumExpr defaulting to 2 threads.\n",
            "\u001b[K\u001b[?25h\n",
            "Collecting usage statistics. To deactivate, set browser.gatherUsageStats to False.\n",
            "\u001b[0m\n",
            "npx: installed 22 in 3.382s\n",
            "your url is: https://neat-icons-act-35-233-201-240.loca.lt\n",
            "\u001b[0m\n",
            "\u001b[34m\u001b[1m  You can now view your Streamlit app in your browser.\u001b[0m\n",
            "\u001b[0m\n",
            "\u001b[34m  Network URL: \u001b[0m\u001b[1mhttp://172.28.0.12:8501\u001b[0m\n",
            "\u001b[34m  External URL: \u001b[0m\u001b[1mhttp://35.233.201.240:8501\u001b[0m\n",
            "\u001b[0m\n",
            "\u001b[34m  Stopping...\u001b[0m\n",
            "^C\n"
          ]
        }
      ]
    },
    {
      "cell_type": "markdown",
      "source": [
        "Ngrok"
      ],
      "metadata": {
        "id": "YNXx-I2gD6pm"
      }
    },
    {
      "cell_type": "code",
      "source": [
        "!pip install pyngrok"
      ],
      "metadata": {
        "colab": {
          "base_uri": "https://localhost:8080/"
        },
        "id": "YL36PbW4Amk8",
        "outputId": "ffc336e5-91c9-44de-e3e9-6f4eab618292"
      },
      "execution_count": 36,
      "outputs": [
        {
          "output_type": "stream",
          "name": "stdout",
          "text": [
            "Looking in indexes: https://pypi.org/simple, https://us-python.pkg.dev/colab-wheels/public/simple/\n",
            "Collecting pyngrok\n",
            "  Downloading pyngrok-5.2.1.tar.gz (761 kB)\n",
            "\u001b[2K     \u001b[90m━━━━━━━━━━━━━━━━━━━━━━━━━━━━━━━━━━━━━━\u001b[0m \u001b[32m761.3/761.3 KB\u001b[0m \u001b[31m16.6 MB/s\u001b[0m eta \u001b[36m0:00:00\u001b[0m\n",
            "\u001b[?25h  Preparing metadata (setup.py) ... \u001b[?25l\u001b[?25hdone\n",
            "Requirement already satisfied: PyYAML in /usr/local/lib/python3.8/dist-packages (from pyngrok) (6.0)\n",
            "Building wheels for collected packages: pyngrok\n",
            "  Building wheel for pyngrok (setup.py) ... \u001b[?25l\u001b[?25hdone\n",
            "  Created wheel for pyngrok: filename=pyngrok-5.2.1-py3-none-any.whl size=19792 sha256=527cf673c3cb8566335c57aa3464a2b54eb08f2c9c29f64ae68f069d261ef15a\n",
            "  Stored in directory: /root/.cache/pip/wheels/5d/f2/70/526da675d32f17577ec47ac4c663084efe39d47c826b6c3bb1\n",
            "Successfully built pyngrok\n",
            "Installing collected packages: pyngrok\n",
            "Successfully installed pyngrok-5.2.1\n"
          ]
        }
      ]
    },
    {
      "cell_type": "code",
      "source": [
        "!streamlit run app.py &>/dev/null&"
      ],
      "metadata": {
        "id": "wK1RqVl-B_MD"
      },
      "execution_count": 37,
      "outputs": []
    },
    {
      "cell_type": "code",
      "source": [
        "from pyngrok import ngrok\n",
        "!ngrok authtoken 2K5VMsLbfPowtf2cr81cJBK9NSq_5woqSrwvdkEpaCqsU9LdJ"
      ],
      "metadata": {
        "colab": {
          "base_uri": "https://localhost:8080/"
        },
        "id": "zMamNwcPCE5M",
        "outputId": "9ee018bb-7bd3-486d-db45-a750e88fd210"
      },
      "execution_count": 38,
      "outputs": [
        {
          "output_type": "stream",
          "name": "stdout",
          "text": [
            "Authtoken saved to configuration file: /root/.ngrok2/ngrok.yml\n"
          ]
        }
      ]
    },
    {
      "cell_type": "code",
      "source": [
        "public_url = ngrok.connect(port='8501')\n",
        "public_url"
      ],
      "metadata": {
        "colab": {
          "base_uri": "https://localhost:8080/"
        },
        "id": "rPFnaN3kAu32",
        "outputId": "48c57508-31db-4487-c0ec-0ff8c0204796"
      },
      "execution_count": 39,
      "outputs": [
        {
          "output_type": "stream",
          "name": "stderr",
          "text": [
            "INFO:pyngrok.ngrok:Opening tunnel named: http-80-e527c288-b859-4d55-b5be-ae5220b7c79d\n",
            "2023-01-11 02:55:48.029 Opening tunnel named: http-80-e527c288-b859-4d55-b5be-ae5220b7c79d\n",
            "INFO:pyngrok.process.ngrok:t=2023-01-11T02:55:48+0000 lvl=info msg=\"no configuration paths supplied\"\n",
            "2023-01-11 02:55:48.130 t=2023-01-11T02:55:48+0000 lvl=info msg=\"no configuration paths supplied\"\n",
            "INFO:pyngrok.process.ngrok:t=2023-01-11T02:55:48+0000 lvl=info msg=\"using configuration at default config path\" path=/root/.ngrok2/ngrok.yml\n",
            "2023-01-11 02:55:48.137 t=2023-01-11T02:55:48+0000 lvl=info msg=\"using configuration at default config path\" path=/root/.ngrok2/ngrok.yml\n",
            "INFO:pyngrok.process.ngrok:t=2023-01-11T02:55:48+0000 lvl=info msg=\"open config file\" path=/root/.ngrok2/ngrok.yml err=nil\n",
            "2023-01-11 02:55:48.144 t=2023-01-11T02:55:48+0000 lvl=info msg=\"open config file\" path=/root/.ngrok2/ngrok.yml err=nil\n",
            "INFO:pyngrok.process.ngrok:t=2023-01-11T02:55:48+0000 lvl=info msg=\"starting web service\" obj=web addr=127.0.0.1:4040\n",
            "2023-01-11 02:55:48.149 t=2023-01-11T02:55:48+0000 lvl=info msg=\"starting web service\" obj=web addr=127.0.0.1:4040\n",
            "INFO:pyngrok.process.ngrok:t=2023-01-11T02:55:48+0000 lvl=info msg=\"tunnel session started\" obj=tunnels.session\n",
            "2023-01-11 02:55:48.395 t=2023-01-11T02:55:48+0000 lvl=info msg=\"tunnel session started\" obj=tunnels.session\n",
            "INFO:pyngrok.process.ngrok:t=2023-01-11T02:55:48+0000 lvl=info msg=\"client session established\" obj=csess id=19d3bb19e55f\n",
            "2023-01-11 02:55:48.403 t=2023-01-11T02:55:48+0000 lvl=info msg=\"client session established\" obj=csess id=19d3bb19e55f\n",
            "INFO:pyngrok.process.ngrok:t=2023-01-11T02:55:48+0000 lvl=info msg=start pg=/api/tunnels id=b5f1a4ca5f123f3c\n",
            "2023-01-11 02:55:48.429 t=2023-01-11T02:55:48+0000 lvl=info msg=start pg=/api/tunnels id=b5f1a4ca5f123f3c\n",
            "INFO:pyngrok.process.ngrok:t=2023-01-11T02:55:48+0000 lvl=info msg=end pg=/api/tunnels id=b5f1a4ca5f123f3c status=200 dur=822.329µs\n",
            "2023-01-11 02:55:48.437 t=2023-01-11T02:55:48+0000 lvl=info msg=end pg=/api/tunnels id=b5f1a4ca5f123f3c status=200 dur=822.329µs\n",
            "INFO:pyngrok.process.ngrok:t=2023-01-11T02:55:48+0000 lvl=info msg=start pg=/api/tunnels id=8d14503bd779a8be\n",
            "2023-01-11 02:55:48.443 t=2023-01-11T02:55:48+0000 lvl=info msg=start pg=/api/tunnels id=8d14503bd779a8be\n",
            "INFO:pyngrok.process.ngrok:t=2023-01-11T02:55:48+0000 lvl=info msg=end pg=/api/tunnels id=8d14503bd779a8be status=200 dur=215.831µs\n",
            "2023-01-11 02:55:48.448 t=2023-01-11T02:55:48+0000 lvl=info msg=end pg=/api/tunnels id=8d14503bd779a8be status=200 dur=215.831µs\n",
            "INFO:pyngrok.process.ngrok:t=2023-01-11T02:55:48+0000 lvl=info msg=start pg=/api/tunnels id=eb74342f6c42376c\n",
            "2023-01-11 02:55:48.461 t=2023-01-11T02:55:48+0000 lvl=info msg=start pg=/api/tunnels id=eb74342f6c42376c\n",
            "INFO:pyngrok.process.ngrok:t=2023-01-11T02:55:48+0000 lvl=info msg=\"started tunnel\" obj=tunnels name=\"http-80-e527c288-b859-4d55-b5be-ae5220b7c79d (http)\" addr=http://localhost:80 url=http://ea7e-35-233-201-240.ngrok.io\n",
            "2023-01-11 02:55:48.582 t=2023-01-11T02:55:48+0000 lvl=info msg=\"started tunnel\" obj=tunnels name=\"http-80-e527c288-b859-4d55-b5be-ae5220b7c79d (http)\" addr=http://localhost:80 url=http://ea7e-35-233-201-240.ngrok.io\n",
            "INFO:pyngrok.process.ngrok:t=2023-01-11T02:55:48+0000 lvl=info msg=\"started tunnel\" obj=tunnels name=http-80-e527c288-b859-4d55-b5be-ae5220b7c79d addr=http://localhost:80 url=https://ea7e-35-233-201-240.ngrok.io\n",
            "2023-01-11 02:55:48.601 t=2023-01-11T02:55:48+0000 lvl=info msg=\"started tunnel\" obj=tunnels name=http-80-e527c288-b859-4d55-b5be-ae5220b7c79d addr=http://localhost:80 url=https://ea7e-35-233-201-240.ngrok.io\n"
          ]
        },
        {
          "output_type": "execute_result",
          "data": {
            "text/plain": [
              "<NgrokTunnel: \"http://ea7e-35-233-201-240.ngrok.io\" -> \"http://localhost:80\">"
            ]
          },
          "metadata": {},
          "execution_count": 39
        },
        {
          "output_type": "stream",
          "name": "stderr",
          "text": [
            "INFO:pyngrok.process.ngrok:t=2023-01-11T02:55:48+0000 lvl=info msg=end pg=/api/tunnels id=eb74342f6c42376c status=201 dur=153.840251ms\n",
            "2023-01-11 02:55:48.629 t=2023-01-11T02:55:48+0000 lvl=info msg=end pg=/api/tunnels id=eb74342f6c42376c status=201 dur=153.840251ms\n",
            "INFO:pyngrok.process.ngrok:t=2023-01-11T02:55:48+0000 lvl=info msg=start pg=\"/api/tunnels/http-80-e527c288-b859-4d55-b5be-ae5220b7c79d (http)\" id=a25a9f77f81d459c\n",
            "2023-01-11 02:55:48.649 t=2023-01-11T02:55:48+0000 lvl=info msg=start pg=\"/api/tunnels/http-80-e527c288-b859-4d55-b5be-ae5220b7c79d (http)\" id=a25a9f77f81d459c\n",
            "INFO:pyngrok.process.ngrok:t=2023-01-11T02:55:48+0000 lvl=info msg=end pg=\"/api/tunnels/http-80-e527c288-b859-4d55-b5be-ae5220b7c79d (http)\" id=a25a9f77f81d459c status=200 dur=272.551µs\n",
            "2023-01-11 02:55:48.660 t=2023-01-11T02:55:48+0000 lvl=info msg=end pg=\"/api/tunnels/http-80-e527c288-b859-4d55-b5be-ae5220b7c79d (http)\" id=a25a9f77f81d459c status=200 dur=272.551µs\n"
          ]
        }
      ]
    },
    {
      "cell_type": "code",
      "source": [
        "# Kill Ngrok After Use\n",
        "ngrok.kill()"
      ],
      "metadata": {
        "colab": {
          "base_uri": "https://localhost:8080/"
        },
        "id": "Z73ZQJX5DXte",
        "outputId": "800efe6d-3ef9-42fb-9b4f-26f6415a771b"
      },
      "execution_count": 40,
      "outputs": [
        {
          "output_type": "stream",
          "name": "stderr",
          "text": [
            "INFO:pyngrok.process:Killing ngrok process: 4804\n",
            "2023-01-11 02:55:50.326 Killing ngrok process: 4804\n"
          ]
        }
      ]
    },
    {
      "cell_type": "markdown",
      "source": [
        "Streamlit Create Dataset"
      ],
      "metadata": {
        "id": "gJ6Hezc7PbWy"
      }
    },
    {
      "cell_type": "code",
      "source": [
        "%%writefile app.py\n",
        "import numpy as np\n",
        "import streamlit as st\n",
        "from streamlit_drawable_canvas import st_canvas\n",
        "import cv2\n",
        "import uuid\n",
        "from io import BytesIO, BufferedReader\n",
        "\n",
        "\n",
        "st.title(\"Drawable Canvas for Digit Recognition Dataset\")\n",
        "st.markdown(\">The app lets users draw digit on to a canvas and input label of the drawed digit. Then it will show the inputted data and user can download drawed digit image for Digit Recognition Dataset\")\n",
        "st.header(\"🎲 How to Use the Application\")\n",
        "st.markdown(\n",
        "     \"\"\"\n",
        "    * Draw Digit as your desire \n",
        "    * You can Undo, Redo or Delete your drawing with button in the bottom left of the canvas \n",
        "    * Please Don't forget to Press ⬇️ Send Button in the bottom left of the canvas!\n",
        "    * Input the Drawed Digit label in the Label Section!\n",
        "    * Press Input Button if you're done with your drawing and the inputted data will be shown bellow\n",
        "    * Now download Button will be appear!  \n",
        "    * Press download Button and the drawed digit image will be downloaded for your dataset!\n",
        "    \"\"\"\n",
        "    )\n",
        "st.write(\" \")\n",
        "st.write(\" \")\n",
        "st.write(\" \")\n",
        "\n",
        "st.markdown(\"Draw Digit [0-9]\")\n",
        "# Create a canvas component\n",
        "canvas_result = st_canvas(\n",
        "    fill_color=\"rgba(255, 165, 0, 0.3)\",  # Fixed fill color with some opacity\n",
        "    stroke_width=9,\n",
        "    stroke_color=\"white\",\n",
        "    background_color=\"#000000\",\n",
        "    background_image=None,\n",
        "    update_streamlit=False,\n",
        "    height=250,\n",
        "    width=700,\n",
        "    drawing_mode=\"freedraw\",\n",
        "    point_display_radius= 0,\n",
        "    display_toolbar=True,\n",
        "    key=\"full_app\",\n",
        ")\n",
        "\n",
        "label = st.text_input('Label', '')\n",
        "\n",
        "input = st.button(\"Input\")\n",
        "\n",
        "# Do something interesting with the image data and paths\n",
        "if canvas_result.image_data is not None and input:\n",
        "    st.markdown(\"Inputted Data\")\n",
        "    st.image(canvas_result.image_data)\n",
        "    st.text(\"Label : {}\".format(label))\n",
        "\n",
        "    random = uuid.uuid4().hex\n",
        "    ret, img_enco = cv2.imencode(\".png\", canvas_result.image_data) \n",
        "    srt_enco = img_enco.tostring() \n",
        "    img_BytesIO = BytesIO(srt_enco)\n",
        "    img_BufferedReader = BufferedReader(img_BytesIO)\n",
        "\n",
        "    btn = st.download_button(\n",
        "            label=\"Download the Image\",\n",
        "            data=img_BufferedReader,\n",
        "            file_name= label + \"-\" + random +\".png\",\n",
        "            mime=\"image/png\"\n",
        "          )"
      ],
      "metadata": {
        "colab": {
          "base_uri": "https://localhost:8080/"
        },
        "id": "aQZMZA6PeJ6y",
        "outputId": "f4d720d0-d2bb-4801-b30d-770f38eb0c7e"
      },
      "execution_count": 41,
      "outputs": [
        {
          "output_type": "stream",
          "name": "stdout",
          "text": [
            "Overwriting app.py\n"
          ]
        }
      ]
    }
  ]
}