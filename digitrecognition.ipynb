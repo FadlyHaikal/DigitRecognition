{
  "nbformat": 4,
  "nbformat_minor": 0,
  "metadata": {
    "colab": {
      "provenance": [],
      "mount_file_id": "https://gist.github.com/FadlyHaikal/7a902140e91206a87d338605a83e62ab#file-digitrecognition-ipynb",
      "authorship_tag": "ABX9TyO/KySXFv9ZFLgSWVJJze2A",
      "include_colab_link": true
    },
    "kernelspec": {
      "name": "python3",
      "display_name": "Python 3"
    },
    "language_info": {
      "name": "python"
    }
  },
  "cells": [
    {
      "cell_type": "markdown",
      "metadata": {
        "id": "view-in-github",
        "colab_type": "text"
      },
      "source": [
        "<a href=\"https://colab.research.google.com/github/FadlyHaikal/DigitRecognition/blob/main/digitrecognition.ipynb\" target=\"_parent\"><img src=\"https://colab.research.google.com/assets/colab-badge.svg\" alt=\"Open In Colab\"/></a>"
      ]
    },
    {
      "cell_type": "code",
      "source": [
        "pip install pillow"
      ],
      "metadata": {
        "colab": {
          "base_uri": "https://localhost:8080/"
        },
        "id": "oEmdx9HWCpjU",
        "outputId": "7baf638c-f95f-4aed-b439-a60f02e2c48c"
      },
      "execution_count": 1,
      "outputs": [
        {
          "output_type": "stream",
          "name": "stdout",
          "text": [
            "Looking in indexes: https://pypi.org/simple, https://us-python.pkg.dev/colab-wheels/public/simple/\n",
            "Requirement already satisfied: pillow in /usr/local/lib/python3.8/dist-packages (7.1.2)\n"
          ]
        }
      ]
    },
    {
      "cell_type": "code",
      "source": [
        "!pip install streamlit==1.13.0\n",
        "!npm install -g localtunnel"
      ],
      "metadata": {
        "colab": {
          "base_uri": "https://localhost:8080/"
        },
        "id": "da5JLo9ndTsL",
        "outputId": "1dd13879-1d5e-4c08-b342-bd4f10046196"
      },
      "execution_count": 2,
      "outputs": [
        {
          "output_type": "stream",
          "name": "stdout",
          "text": [
            "Looking in indexes: https://pypi.org/simple, https://us-python.pkg.dev/colab-wheels/public/simple/\n",
            "Requirement already satisfied: streamlit==1.13.0 in /usr/local/lib/python3.8/dist-packages (1.13.0)\n",
            "Requirement already satisfied: blinker>=1.0.0 in /usr/local/lib/python3.8/dist-packages (from streamlit==1.13.0) (1.5)\n",
            "Requirement already satisfied: altair>=3.2.0 in /usr/local/lib/python3.8/dist-packages (from streamlit==1.13.0) (4.2.0)\n",
            "Requirement already satisfied: cachetools>=4.0 in /usr/local/lib/python3.8/dist-packages (from streamlit==1.13.0) (5.2.0)\n",
            "Requirement already satisfied: python-dateutil in /usr/local/lib/python3.8/dist-packages (from streamlit==1.13.0) (2.8.2)\n",
            "Requirement already satisfied: importlib-metadata>=1.4 in /usr/local/lib/python3.8/dist-packages (from streamlit==1.13.0) (5.2.0)\n",
            "Requirement already satisfied: pandas>=0.21.0 in /usr/local/lib/python3.8/dist-packages (from streamlit==1.13.0) (1.3.5)\n",
            "Requirement already satisfied: requests>=2.4 in /usr/local/lib/python3.8/dist-packages (from streamlit==1.13.0) (2.25.1)\n",
            "Requirement already satisfied: packaging>=14.1 in /usr/local/lib/python3.8/dist-packages (from streamlit==1.13.0) (21.3)\n",
            "Requirement already satisfied: pympler>=0.9 in /usr/local/lib/python3.8/dist-packages (from streamlit==1.13.0) (1.0.1)\n",
            "Requirement already satisfied: tornado>=5.0 in /usr/local/lib/python3.8/dist-packages (from streamlit==1.13.0) (6.0.4)\n",
            "Requirement already satisfied: gitpython!=3.1.19 in /usr/local/lib/python3.8/dist-packages (from streamlit==1.13.0) (3.1.30)\n",
            "Requirement already satisfied: click>=7.0 in /usr/local/lib/python3.8/dist-packages (from streamlit==1.13.0) (7.1.2)\n",
            "Requirement already satisfied: protobuf!=3.20.2,<4,>=3.12 in /usr/local/lib/python3.8/dist-packages (from streamlit==1.13.0) (3.19.6)\n",
            "Requirement already satisfied: numpy in /usr/local/lib/python3.8/dist-packages (from streamlit==1.13.0) (1.21.6)\n",
            "Requirement already satisfied: semver in /usr/local/lib/python3.8/dist-packages (from streamlit==1.13.0) (2.13.0)\n",
            "Requirement already satisfied: pyarrow>=4.0 in /usr/local/lib/python3.8/dist-packages (from streamlit==1.13.0) (9.0.0)\n",
            "Requirement already satisfied: tzlocal>=1.1 in /usr/local/lib/python3.8/dist-packages (from streamlit==1.13.0) (1.5.1)\n",
            "Requirement already satisfied: typing-extensions>=3.10.0.0 in /usr/local/lib/python3.8/dist-packages (from streamlit==1.13.0) (4.4.0)\n",
            "Requirement already satisfied: validators>=0.2 in /usr/local/lib/python3.8/dist-packages (from streamlit==1.13.0) (0.20.0)\n",
            "Requirement already satisfied: watchdog in /usr/local/lib/python3.8/dist-packages (from streamlit==1.13.0) (2.2.1)\n",
            "Requirement already satisfied: pillow>=6.2.0 in /usr/local/lib/python3.8/dist-packages (from streamlit==1.13.0) (7.1.2)\n",
            "Requirement already satisfied: rich>=10.11.0 in /usr/local/lib/python3.8/dist-packages (from streamlit==1.13.0) (13.0.1)\n",
            "Requirement already satisfied: pydeck>=0.1.dev5 in /usr/local/lib/python3.8/dist-packages (from streamlit==1.13.0) (0.8.0)\n",
            "Requirement already satisfied: toml in /usr/local/lib/python3.8/dist-packages (from streamlit==1.13.0) (0.10.2)\n",
            "Requirement already satisfied: toolz in /usr/local/lib/python3.8/dist-packages (from altair>=3.2.0->streamlit==1.13.0) (0.12.0)\n",
            "Requirement already satisfied: jsonschema>=3.0 in /usr/local/lib/python3.8/dist-packages (from altair>=3.2.0->streamlit==1.13.0) (4.3.3)\n",
            "Requirement already satisfied: jinja2 in /usr/local/lib/python3.8/dist-packages (from altair>=3.2.0->streamlit==1.13.0) (2.11.3)\n",
            "Requirement already satisfied: entrypoints in /usr/local/lib/python3.8/dist-packages (from altair>=3.2.0->streamlit==1.13.0) (0.4)\n",
            "Requirement already satisfied: gitdb<5,>=4.0.1 in /usr/local/lib/python3.8/dist-packages (from gitpython!=3.1.19->streamlit==1.13.0) (4.0.10)\n",
            "Requirement already satisfied: zipp>=0.5 in /usr/local/lib/python3.8/dist-packages (from importlib-metadata>=1.4->streamlit==1.13.0) (3.11.0)\n",
            "Requirement already satisfied: pyparsing!=3.0.5,>=2.0.2 in /usr/local/lib/python3.8/dist-packages (from packaging>=14.1->streamlit==1.13.0) (3.0.9)\n",
            "Requirement already satisfied: pytz>=2017.3 in /usr/local/lib/python3.8/dist-packages (from pandas>=0.21.0->streamlit==1.13.0) (2022.7)\n",
            "Requirement already satisfied: six>=1.5 in /usr/local/lib/python3.8/dist-packages (from python-dateutil->streamlit==1.13.0) (1.15.0)\n",
            "Requirement already satisfied: chardet<5,>=3.0.2 in /usr/local/lib/python3.8/dist-packages (from requests>=2.4->streamlit==1.13.0) (4.0.0)\n",
            "Requirement already satisfied: certifi>=2017.4.17 in /usr/local/lib/python3.8/dist-packages (from requests>=2.4->streamlit==1.13.0) (2022.12.7)\n",
            "Requirement already satisfied: idna<3,>=2.5 in /usr/local/lib/python3.8/dist-packages (from requests>=2.4->streamlit==1.13.0) (2.10)\n",
            "Requirement already satisfied: urllib3<1.27,>=1.21.1 in /usr/local/lib/python3.8/dist-packages (from requests>=2.4->streamlit==1.13.0) (1.24.3)\n",
            "Requirement already satisfied: pygments<3.0.0,>=2.6.0 in /usr/local/lib/python3.8/dist-packages (from rich>=10.11.0->streamlit==1.13.0) (2.6.1)\n",
            "Requirement already satisfied: commonmark<0.10.0,>=0.9.0 in /usr/local/lib/python3.8/dist-packages (from rich>=10.11.0->streamlit==1.13.0) (0.9.1)\n",
            "Requirement already satisfied: decorator>=3.4.0 in /usr/local/lib/python3.8/dist-packages (from validators>=0.2->streamlit==1.13.0) (4.4.2)\n",
            "Requirement already satisfied: smmap<6,>=3.0.1 in /usr/local/lib/python3.8/dist-packages (from gitdb<5,>=4.0.1->gitpython!=3.1.19->streamlit==1.13.0) (5.0.0)\n",
            "Requirement already satisfied: MarkupSafe>=0.23 in /usr/local/lib/python3.8/dist-packages (from jinja2->altair>=3.2.0->streamlit==1.13.0) (2.0.1)\n",
            "Requirement already satisfied: pyrsistent!=0.17.0,!=0.17.1,!=0.17.2,>=0.14.0 in /usr/local/lib/python3.8/dist-packages (from jsonschema>=3.0->altair>=3.2.0->streamlit==1.13.0) (0.19.2)\n",
            "Requirement already satisfied: importlib-resources>=1.4.0 in /usr/local/lib/python3.8/dist-packages (from jsonschema>=3.0->altair>=3.2.0->streamlit==1.13.0) (5.10.1)\n",
            "Requirement already satisfied: attrs>=17.4.0 in /usr/local/lib/python3.8/dist-packages (from jsonschema>=3.0->altair>=3.2.0->streamlit==1.13.0) (22.2.0)\n",
            "\u001b[K\u001b[?25h/tools/node/bin/lt -> /tools/node/lib/node_modules/localtunnel/bin/lt.js\n",
            "\u001b[K\u001b[?25h+ localtunnel@2.0.2\n",
            "updated 1 package in 0.929s\n"
          ]
        }
      ]
    },
    {
      "cell_type": "code",
      "source": [
        "!pip install streamlit-drawable-canvas"
      ],
      "metadata": {
        "colab": {
          "base_uri": "https://localhost:8080/"
        },
        "id": "gwWoSAvelpTh",
        "outputId": "ede24bff-30a6-4d99-95ed-a63e1fc03f5d"
      },
      "execution_count": 3,
      "outputs": [
        {
          "output_type": "stream",
          "name": "stdout",
          "text": [
            "Looking in indexes: https://pypi.org/simple, https://us-python.pkg.dev/colab-wheels/public/simple/\n",
            "Requirement already satisfied: streamlit-drawable-canvas in /usr/local/lib/python3.8/dist-packages (0.9.2)\n",
            "Requirement already satisfied: streamlit>=0.63 in /usr/local/lib/python3.8/dist-packages (from streamlit-drawable-canvas) (1.13.0)\n",
            "Requirement already satisfied: numpy in /usr/local/lib/python3.8/dist-packages (from streamlit-drawable-canvas) (1.21.6)\n",
            "Requirement already satisfied: Pillow in /usr/local/lib/python3.8/dist-packages (from streamlit-drawable-canvas) (7.1.2)\n",
            "Requirement already satisfied: python-dateutil in /usr/local/lib/python3.8/dist-packages (from streamlit>=0.63->streamlit-drawable-canvas) (2.8.2)\n",
            "Requirement already satisfied: importlib-metadata>=1.4 in /usr/local/lib/python3.8/dist-packages (from streamlit>=0.63->streamlit-drawable-canvas) (5.2.0)\n",
            "Requirement already satisfied: tzlocal>=1.1 in /usr/local/lib/python3.8/dist-packages (from streamlit>=0.63->streamlit-drawable-canvas) (1.5.1)\n",
            "Requirement already satisfied: watchdog in /usr/local/lib/python3.8/dist-packages (from streamlit>=0.63->streamlit-drawable-canvas) (2.2.1)\n",
            "Requirement already satisfied: pydeck>=0.1.dev5 in /usr/local/lib/python3.8/dist-packages (from streamlit>=0.63->streamlit-drawable-canvas) (0.8.0)\n",
            "Requirement already satisfied: click>=7.0 in /usr/local/lib/python3.8/dist-packages (from streamlit>=0.63->streamlit-drawable-canvas) (7.1.2)\n",
            "Requirement already satisfied: toml in /usr/local/lib/python3.8/dist-packages (from streamlit>=0.63->streamlit-drawable-canvas) (0.10.2)\n",
            "Requirement already satisfied: rich>=10.11.0 in /usr/local/lib/python3.8/dist-packages (from streamlit>=0.63->streamlit-drawable-canvas) (13.0.1)\n",
            "Requirement already satisfied: typing-extensions>=3.10.0.0 in /usr/local/lib/python3.8/dist-packages (from streamlit>=0.63->streamlit-drawable-canvas) (4.4.0)\n",
            "Requirement already satisfied: pympler>=0.9 in /usr/local/lib/python3.8/dist-packages (from streamlit>=0.63->streamlit-drawable-canvas) (1.0.1)\n",
            "Requirement already satisfied: semver in /usr/local/lib/python3.8/dist-packages (from streamlit>=0.63->streamlit-drawable-canvas) (2.13.0)\n",
            "Requirement already satisfied: blinker>=1.0.0 in /usr/local/lib/python3.8/dist-packages (from streamlit>=0.63->streamlit-drawable-canvas) (1.5)\n",
            "Requirement already satisfied: validators>=0.2 in /usr/local/lib/python3.8/dist-packages (from streamlit>=0.63->streamlit-drawable-canvas) (0.20.0)\n",
            "Requirement already satisfied: tornado>=5.0 in /usr/local/lib/python3.8/dist-packages (from streamlit>=0.63->streamlit-drawable-canvas) (6.0.4)\n",
            "Requirement already satisfied: pandas>=0.21.0 in /usr/local/lib/python3.8/dist-packages (from streamlit>=0.63->streamlit-drawable-canvas) (1.3.5)\n",
            "Requirement already satisfied: altair>=3.2.0 in /usr/local/lib/python3.8/dist-packages (from streamlit>=0.63->streamlit-drawable-canvas) (4.2.0)\n",
            "Requirement already satisfied: packaging>=14.1 in /usr/local/lib/python3.8/dist-packages (from streamlit>=0.63->streamlit-drawable-canvas) (21.3)\n",
            "Requirement already satisfied: requests>=2.4 in /usr/local/lib/python3.8/dist-packages (from streamlit>=0.63->streamlit-drawable-canvas) (2.25.1)\n",
            "Requirement already satisfied: cachetools>=4.0 in /usr/local/lib/python3.8/dist-packages (from streamlit>=0.63->streamlit-drawable-canvas) (5.2.0)\n",
            "Requirement already satisfied: protobuf!=3.20.2,<4,>=3.12 in /usr/local/lib/python3.8/dist-packages (from streamlit>=0.63->streamlit-drawable-canvas) (3.19.6)\n",
            "Requirement already satisfied: gitpython!=3.1.19 in /usr/local/lib/python3.8/dist-packages (from streamlit>=0.63->streamlit-drawable-canvas) (3.1.30)\n",
            "Requirement already satisfied: pyarrow>=4.0 in /usr/local/lib/python3.8/dist-packages (from streamlit>=0.63->streamlit-drawable-canvas) (9.0.0)\n",
            "Requirement already satisfied: jinja2 in /usr/local/lib/python3.8/dist-packages (from altair>=3.2.0->streamlit>=0.63->streamlit-drawable-canvas) (2.11.3)\n",
            "Requirement already satisfied: jsonschema>=3.0 in /usr/local/lib/python3.8/dist-packages (from altair>=3.2.0->streamlit>=0.63->streamlit-drawable-canvas) (4.3.3)\n",
            "Requirement already satisfied: toolz in /usr/local/lib/python3.8/dist-packages (from altair>=3.2.0->streamlit>=0.63->streamlit-drawable-canvas) (0.12.0)\n",
            "Requirement already satisfied: entrypoints in /usr/local/lib/python3.8/dist-packages (from altair>=3.2.0->streamlit>=0.63->streamlit-drawable-canvas) (0.4)\n",
            "Requirement already satisfied: gitdb<5,>=4.0.1 in /usr/local/lib/python3.8/dist-packages (from gitpython!=3.1.19->streamlit>=0.63->streamlit-drawable-canvas) (4.0.10)\n",
            "Requirement already satisfied: zipp>=0.5 in /usr/local/lib/python3.8/dist-packages (from importlib-metadata>=1.4->streamlit>=0.63->streamlit-drawable-canvas) (3.11.0)\n",
            "Requirement already satisfied: pyparsing!=3.0.5,>=2.0.2 in /usr/local/lib/python3.8/dist-packages (from packaging>=14.1->streamlit>=0.63->streamlit-drawable-canvas) (3.0.9)\n",
            "Requirement already satisfied: pytz>=2017.3 in /usr/local/lib/python3.8/dist-packages (from pandas>=0.21.0->streamlit>=0.63->streamlit-drawable-canvas) (2022.7)\n",
            "Requirement already satisfied: six>=1.5 in /usr/local/lib/python3.8/dist-packages (from python-dateutil->streamlit>=0.63->streamlit-drawable-canvas) (1.15.0)\n",
            "Requirement already satisfied: chardet<5,>=3.0.2 in /usr/local/lib/python3.8/dist-packages (from requests>=2.4->streamlit>=0.63->streamlit-drawable-canvas) (4.0.0)\n",
            "Requirement already satisfied: idna<3,>=2.5 in /usr/local/lib/python3.8/dist-packages (from requests>=2.4->streamlit>=0.63->streamlit-drawable-canvas) (2.10)\n",
            "Requirement already satisfied: certifi>=2017.4.17 in /usr/local/lib/python3.8/dist-packages (from requests>=2.4->streamlit>=0.63->streamlit-drawable-canvas) (2022.12.7)\n",
            "Requirement already satisfied: urllib3<1.27,>=1.21.1 in /usr/local/lib/python3.8/dist-packages (from requests>=2.4->streamlit>=0.63->streamlit-drawable-canvas) (1.24.3)\n",
            "Requirement already satisfied: pygments<3.0.0,>=2.6.0 in /usr/local/lib/python3.8/dist-packages (from rich>=10.11.0->streamlit>=0.63->streamlit-drawable-canvas) (2.6.1)\n",
            "Requirement already satisfied: commonmark<0.10.0,>=0.9.0 in /usr/local/lib/python3.8/dist-packages (from rich>=10.11.0->streamlit>=0.63->streamlit-drawable-canvas) (0.9.1)\n",
            "Requirement already satisfied: decorator>=3.4.0 in /usr/local/lib/python3.8/dist-packages (from validators>=0.2->streamlit>=0.63->streamlit-drawable-canvas) (4.4.2)\n",
            "Requirement already satisfied: smmap<6,>=3.0.1 in /usr/local/lib/python3.8/dist-packages (from gitdb<5,>=4.0.1->gitpython!=3.1.19->streamlit>=0.63->streamlit-drawable-canvas) (5.0.0)\n",
            "Requirement already satisfied: MarkupSafe>=0.23 in /usr/local/lib/python3.8/dist-packages (from jinja2->altair>=3.2.0->streamlit>=0.63->streamlit-drawable-canvas) (2.0.1)\n",
            "Requirement already satisfied: importlib-resources>=1.4.0 in /usr/local/lib/python3.8/dist-packages (from jsonschema>=3.0->altair>=3.2.0->streamlit>=0.63->streamlit-drawable-canvas) (5.10.1)\n",
            "Requirement already satisfied: pyrsistent!=0.17.0,!=0.17.1,!=0.17.2,>=0.14.0 in /usr/local/lib/python3.8/dist-packages (from jsonschema>=3.0->altair>=3.2.0->streamlit>=0.63->streamlit-drawable-canvas) (0.19.2)\n",
            "Requirement already satisfied: attrs>=17.4.0 in /usr/local/lib/python3.8/dist-packages (from jsonschema>=3.0->altair>=3.2.0->streamlit>=0.63->streamlit-drawable-canvas) (22.2.0)\n"
          ]
        }
      ]
    },
    {
      "cell_type": "code",
      "execution_count": 4,
      "metadata": {
        "id": "bjUYrVHxdYo0"
      },
      "outputs": [],
      "source": [
        "import numpy as np\n",
        "import cv2\n",
        "import matplotlib.pyplot as plt\n",
        "import os \n",
        "from sklearn.model_selection import train_test_split\n",
        "import zipfile\n",
        "from sklearn.ensemble import RandomForestClassifier\n",
        "from sklearn import model_selection, svm, preprocessing\n",
        "from sklearn.metrics import accuracy_score,confusion_matrix\n",
        "from tensorflow import keras\n",
        "from sklearn.neighbors import KNeighborsClassifier\n",
        "import joblib"
      ]
    },
    {
      "cell_type": "code",
      "source": [
        "from google.colab import drive\n",
        "drive.mount('/content/drive')"
      ],
      "metadata": {
        "colab": {
          "base_uri": "https://localhost:8080/"
        },
        "id": "BKB47B9yKTV9",
        "outputId": "bbdf0d71-3a48-48ed-c2b2-f81afe65d9b2"
      },
      "execution_count": 5,
      "outputs": [
        {
          "output_type": "stream",
          "name": "stdout",
          "text": [
            "Drive already mounted at /content/drive; to attempt to forcibly remount, call drive.mount(\"/content/drive\", force_remount=True).\n"
          ]
        }
      ]
    },
    {
      "cell_type": "markdown",
      "source": [
        "Preprocess"
      ],
      "metadata": {
        "id": "KOI7ErachIQJ"
      }
    },
    {
      "cell_type": "code",
      "source": [
        "def drawSquare(image):\n",
        "\t'''\n",
        "\tDraws a square around the found digits\n",
        "\t'''\t\t\n",
        "\tb = [0,0,0]\n",
        "\theight, width = image.shape[0], image.shape[1]\n",
        "\tif(height == width): ## if square\n",
        "\t\tsquare = image\n",
        "\t\treturn square\n",
        "\telse:\n",
        "\t\td_size = cv2.resize(image, (2*width, 2*height), interpolation=cv2.INTER_CUBIC)\n",
        "\t\theight, width = height * 2, width * 2\n",
        "\t\tif (height > width):\n",
        "\t\t\tpadding = int((height - width)/2)\n",
        "\t\t\td_size_square = cv2.copyMakeBorder(d_size, 0, 0, padding, padding, cv2.BORDER_CONSTANT, None,value=b)\n",
        "\t\telse:\n",
        "\t\t\tpadding = int((width - height)/2)\n",
        "\t\t\td_size_square = cv2.copyMakeBorder(d_size, padding, padding, 0, 0, cv2.BORDER_CONSTANT, None,value=b)\n",
        "\n",
        "\treturn d_size_square"
      ],
      "metadata": {
        "id": "tXp1XDtYgxSA"
      },
      "execution_count": 6,
      "outputs": []
    },
    {
      "cell_type": "code",
      "source": [
        "def resize(image, dim):\n",
        "\t'''\n",
        "\tReturns orignal image resized to shape 'dim'\n",
        "\t'''\t\n",
        "\tb = [0,0,0]\t \t\t\t\n",
        "\tdim = dim - 4\n",
        "\tsquared = image\n",
        "\tr = (float(dim) / squared.shape[1])\n",
        "\td = (dim, int(squared.shape[0] * r))\n",
        "\tresized = cv2.resize(image, d, interpolation = cv2.INTER_AREA)\n",
        "\theight, width = resized.shape[0], resized.shape[1];\n",
        "\tif (height > width):\n",
        "\t\tresized = cv2.copyMakeBorder(resized, 0,0,0,1, cv2.BORDER_CONSTANT, value=b)\n",
        "\tif (height < width):\n",
        "\t\tresized = cv2.copyMakeBorder(resized, 1,0,0,0, cv2.BORDER_CONSTANT, value=b)\n",
        "\n",
        "\tresized = cv2.copyMakeBorder(resized, 2,2,2,2,cv2.BORDER_CONSTANT, value=b)\n",
        "\theight, width = resized.shape[0], resized.shape[1]\t\n",
        "\t\n",
        "\treturn resized\t"
      ],
      "metadata": {
        "id": "LR8bMyHtgxVK"
      },
      "execution_count": 7,
      "outputs": []
    },
    {
      "cell_type": "markdown",
      "source": [
        "KNN"
      ],
      "metadata": {
        "id": "7wL4tPsahLfZ"
      }
    },
    {
      "cell_type": "code",
      "source": [
        "def get_path_list(root_path):\n",
        "    # compute list directories in root path\n",
        "    root = os.listdir(root_path) \n",
        "    # initilize array to store folder path in root directory \n",
        "    folder_path_list = [] \n",
        "\n",
        "    # looping through root directory\n",
        "    for index, folder_path in enumerate(root):\n",
        "        # append folder path\n",
        "        folder_path_list.append(folder_path)\n",
        "\n",
        "    return folder_path_list"
      ],
      "metadata": {
        "id": "P4vH7ghggxXu"
      },
      "execution_count": 8,
      "outputs": []
    },
    {
      "cell_type": "code",
      "source": [
        "def get_class_id(root_path, train_names):\n",
        "    # initilize array to store image and class id\n",
        "    image_list = []\n",
        "    image_blur_list = []\n",
        "    image_class_list = []\n",
        "\n",
        "    # looping through list of folder or train names path\n",
        "    for image_class, folder_path in enumerate(train_names):\n",
        "        full_folder_path = f'{root_path}/{folder_path}'\n",
        "        # compute list image path\n",
        "        folder = os.listdir(full_folder_path)\n",
        "        # looping through list of image in folder\n",
        "        for index, image_path in enumerate(folder):\n",
        "            full_image_path =  f'{full_folder_path}/{image_path}'\n",
        "            # load the image\n",
        "            image = cv2.imread(full_image_path)\n",
        "            image = cv2.cvtColor(image, cv2.COLOR_BGR2GRAY)\n",
        "            image = cv2.GaussianBlur(image, (5,5), 0)\n",
        "            image_blur_list.append(image)\n",
        "            \n",
        "            # append image list with the image\n",
        "            image_list.append(cv2.resize(image, (100,100)).flatten())\n",
        "            # append image class list with class of the image\n",
        "            image_class_list.append(image_class)\n",
        "    \n",
        "    image_list = np.array(image_list).astype(np.float32)\n",
        "    image_class_list = np.array(image_class_list).astype(np.float32)\n",
        "    \n",
        "    return image_list, image_class_list, image_blur_list"
      ],
      "metadata": {
        "id": "G1iVZnSUgxaG"
      },
      "execution_count": 9,
      "outputs": []
    },
    {
      "cell_type": "code",
      "source": [
        "# Loading the digits data\n",
        "data = cv2.imread('./drive/MyDrive/DigitRecognition_Dataset/digits.png')\n",
        "gray = cv2.cvtColor(data, cv2.COLOR_BGR2GRAY)\n",
        "\n",
        "# Resizing each digit from 20x20 to 10x10\n",
        "resized = cv2.pyrDown(gray)\n",
        "\n",
        "# Splitting image original image into 5000 different arrays of size 20x20\n",
        "# Resulting array: 50 * 100 * 20 * 20\n",
        "arr = [np.hsplit(i, 100) for i in np.vsplit(gray, 50)]\n",
        "arr = np.array(arr)\n",
        "\n",
        "# Spliting into training and test set\n",
        "# Total: 5000, Train: 3500 images, Test: 1500\n",
        "X_train_mnist = arr[:, :70].reshape(-1, 400).astype(np.float32)\n",
        "X_test_mnist = arr[:, 70:100].reshape(-1, 400).astype(np.float32)\n",
        "\n",
        "## Targets for each image\n",
        "y = [0,1,2,3,4,5,6,7,8,9]\n",
        "\n",
        "y_train_mnist = np.repeat(y, 350)[:, np.newaxis]\n",
        "y_test_mnist = np.repeat(y, 150)[:, np.newaxis] "
      ],
      "metadata": {
        "id": "5u47NfBi2PEc"
      },
      "execution_count": 10,
      "outputs": []
    },
    {
      "cell_type": "code",
      "source": [
        "train_root_path = './drive/MyDrive/DigitRecognition_Dataset/Train'\n",
        "train_names = get_path_list(train_root_path)\n",
        "train_image_list, image_classes_list, image_blur_list = get_class_id(train_root_path, train_names)\n",
        "\n",
        "(X_train, X_test, y_train, y_test) = train_test_split(train_image_list, image_classes_list, test_size=0.25, random_state=42)"
      ],
      "metadata": {
        "id": "ojSaYMq1GKEX"
      },
      "execution_count": 11,
      "outputs": []
    },
    {
      "cell_type": "markdown",
      "source": [
        "---OpenCV KNN---"
      ],
      "metadata": {
        "id": "2g1SBpN03P-4"
      }
    },
    {
      "cell_type": "code",
      "source": [
        "# Using K-NN(k- nearest neighbors) as the ML algorithm\n",
        "classifier_knn = cv2.ml.KNearest_create()\n",
        "classifier_knn.train(X_train_mnist, cv2.ml.ROW_SAMPLE, y_train_mnist)\n",
        "response, result, neighbours, distance = classifier_knn.findNearest(X_test_mnist, k=3)\n",
        "\n",
        "# Testing and calculating the accuracy of knn classifier\n",
        "correct = result == y_test_mnist\n",
        "correct = np.count_nonzero(correct)\n",
        "accuracy = correct * (100.0/result.size)\n",
        "print (\"MNIST Dataset : \", accuracy)"
      ],
      "metadata": {
        "id": "eWjCUdov3UCV",
        "outputId": "39d8ef66-ca15-4851-b3fd-474f5fda56cf",
        "colab": {
          "base_uri": "https://localhost:8080/"
        }
      },
      "execution_count": 12,
      "outputs": [
        {
          "output_type": "stream",
          "name": "stdout",
          "text": [
            "MNIST Dataset :  93.46666666666667\n"
          ]
        }
      ]
    },
    {
      "cell_type": "code",
      "source": [
        "# Using K-NN(k- nearest neighbors) as the ML algorithm\n",
        "model_cv_knn = cv2.ml.KNearest_create()\n",
        "model_cv_knn.train(X_train, cv2.ml.ROW_SAMPLE, y_train)\n",
        "response, result, neighbours, distance = model_cv_knn.findNearest(X_test, k=3)\n",
        "\n",
        "# Testing and calculating the accuracy of knn classifier\n",
        "res_flatten = result.flatten()\n",
        "correct = res_flatten == y_test\n",
        "correct = np.count_nonzero(correct)\n",
        "accuracy = correct * (100/res_flatten.size)\n",
        "print (\"Manual Dataset : \", accuracy)"
      ],
      "metadata": {
        "colab": {
          "base_uri": "https://localhost:8080/"
        },
        "id": "bd5kFuWLgxek",
        "outputId": "a4f375e6-17f3-4ba9-f1a3-5577998d1ad5"
      },
      "execution_count": 13,
      "outputs": [
        {
          "output_type": "stream",
          "name": "stdout",
          "text": [
            "Manual Dataset :  69.81132075471699\n"
          ]
        }
      ]
    },
    {
      "cell_type": "markdown",
      "source": [
        "---KNN SKLEARN---"
      ],
      "metadata": {
        "id": "VbYuVARx4BU6"
      }
    },
    {
      "cell_type": "code",
      "source": [
        "model_knn_sklearn = KNeighborsClassifier(n_neighbors=5,algorithm='auto',n_jobs=10)\n",
        "model_knn_sklearn.fit(X_train_mnist,y_train_mnist)\n",
        "confidence = model_knn_sklearn.score(X_test_mnist,y_test_mnist)\n",
        "y_pred_mnist = model_knn_sklearn.predict(X_test_mnist)\n",
        "accuracy = accuracy_score(y_test_mnist, y_pred_mnist)\n",
        "print (\"MNIST Dataset : \", accuracy*100)"
      ],
      "metadata": {
        "id": "74Xzasu34LKa",
        "outputId": "7200f350-1448-4cfa-ea82-894958603624",
        "colab": {
          "base_uri": "https://localhost:8080/"
        }
      },
      "execution_count": 14,
      "outputs": [
        {
          "output_type": "stream",
          "name": "stderr",
          "text": [
            "/usr/local/lib/python3.8/dist-packages/sklearn/neighbors/_classification.py:198: DataConversionWarning: A column-vector y was passed when a 1d array was expected. Please change the shape of y to (n_samples,), for example using ravel().\n",
            "  return self._fit(X, y)\n"
          ]
        },
        {
          "output_type": "stream",
          "name": "stdout",
          "text": [
            "MNIST Dataset :  93.13333333333334\n"
          ]
        }
      ]
    },
    {
      "cell_type": "code",
      "source": [
        "model_knn_sklearn = KNeighborsClassifier(n_neighbors=5,algorithm='auto',n_jobs=10)\n",
        "model_knn_sklearn.fit(X_train,y_train)\n",
        "confidence = model_knn_sklearn.score(X_test,y_test)\n",
        "y_pred = model_knn_sklearn.predict(X_test)\n",
        "accuracy = accuracy_score(y_test, y_pred)\n",
        "print (\"Manual Dataset : \", accuracy*100)"
      ],
      "metadata": {
        "id": "KaMFsFkamsR9",
        "outputId": "8aa6d42c-f808-43fa-d926-73184ef585f8",
        "colab": {
          "base_uri": "https://localhost:8080/"
        }
      },
      "execution_count": 15,
      "outputs": [
        {
          "output_type": "stream",
          "name": "stdout",
          "text": [
            "Manual Dataset :  66.0377358490566\n"
          ]
        }
      ]
    },
    {
      "cell_type": "markdown",
      "source": [
        "---Random Forest---"
      ],
      "metadata": {
        "id": "pKP5mhpu4Z5y"
      }
    },
    {
      "cell_type": "code",
      "source": [
        "model_rf = RandomForestClassifier(n_estimators=100, n_jobs=10)\n",
        "model_rf.fit(X_train_mnist,y_train_mnist)\n",
        "confidence = model_rf.score(X_test_mnist,y_test_mnist)\n",
        "y_pred_mnist = model_rf.predict(X_test_mnist)\n",
        "accuracy = accuracy_score(y_test_mnist, y_pred_mnist)\n",
        "print (\"MNIST Dataset : \", accuracy*100)"
      ],
      "metadata": {
        "id": "RuwjJvvvnK7U",
        "outputId": "253430be-a676-4115-8d1a-648dafbfd717",
        "colab": {
          "base_uri": "https://localhost:8080/"
        }
      },
      "execution_count": 16,
      "outputs": [
        {
          "output_type": "stream",
          "name": "stderr",
          "text": [
            "<ipython-input-16-d210f56e470b>:2: DataConversionWarning: A column-vector y was passed when a 1d array was expected. Please change the shape of y to (n_samples,), for example using ravel().\n",
            "  model_rf.fit(X_train_mnist,y_train_mnist)\n"
          ]
        },
        {
          "output_type": "stream",
          "name": "stdout",
          "text": [
            "MNIST Dataset :  93.60000000000001\n"
          ]
        }
      ]
    },
    {
      "cell_type": "code",
      "source": [
        "model_rf = RandomForestClassifier(n_estimators=100, n_jobs=10)\n",
        "model_rf.fit(X_train,y_train)\n",
        "confidence = model_rf.score(X_test,y_test)\n",
        "y_pred = model_rf.predict(X_test)\n",
        "accuracy = accuracy_score(y_test, y_pred)\n",
        "print (\"Manual Dataset : \", accuracy*100)"
      ],
      "metadata": {
        "id": "RZv2Or5Z4djr",
        "outputId": "f42695a1-3512-45a9-ae9a-ea9a48a0cbe6",
        "colab": {
          "base_uri": "https://localhost:8080/"
        }
      },
      "execution_count": 17,
      "outputs": [
        {
          "output_type": "stream",
          "name": "stdout",
          "text": [
            "Manual Dataset :  71.69811320754717\n"
          ]
        }
      ]
    },
    {
      "cell_type": "markdown",
      "source": [
        "---Tensorflow Keras---"
      ],
      "metadata": {
        "id": "PgVBKRdL5Jmn"
      }
    },
    {
      "cell_type": "code",
      "source": [
        "# Sequential create a stack of layers\n",
        "model_tensor = keras.Sequential([\n",
        "    keras.layers.Dense(10, input_shape=(400,), activation='sigmoid')\n",
        "])\n",
        "\n",
        "# Optimizer will help in backproagation to reach better global optima\n",
        "model_tensor.compile(\n",
        "    optimizer='adam',\n",
        "    loss='sparse_categorical_crossentropy',\n",
        "    metrics=['accuracy']\n",
        ")\n",
        "\n",
        "# Does the training\n",
        "model_tensor.fit(X_train_mnist, y_train_mnist, epochs=50)\n",
        "model_tensor.evaluate(X_test_mnist, y_test_mnist)"
      ],
      "metadata": {
        "colab": {
          "base_uri": "https://localhost:8080/"
        },
        "id": "mWrxVCCvDrNz",
        "outputId": "e3bd84e2-72c0-4949-e79c-175e6629c1dd"
      },
      "execution_count": 18,
      "outputs": [
        {
          "output_type": "stream",
          "name": "stdout",
          "text": [
            "Epoch 1/50\n",
            "110/110 [==============================] - 1s 1ms/step - loss: 48.9999 - accuracy: 0.4369\n",
            "Epoch 2/50\n",
            "110/110 [==============================] - 0s 1ms/step - loss: 11.3833 - accuracy: 0.7526\n",
            "Epoch 3/50\n",
            "110/110 [==============================] - 0s 1ms/step - loss: 7.4704 - accuracy: 0.8203\n",
            "Epoch 4/50\n",
            "110/110 [==============================] - 0s 1ms/step - loss: 5.9438 - accuracy: 0.8429\n",
            "Epoch 5/50\n",
            "110/110 [==============================] - 0s 1ms/step - loss: 4.8182 - accuracy: 0.8569\n",
            "Epoch 6/50\n",
            "110/110 [==============================] - 0s 1ms/step - loss: 3.9350 - accuracy: 0.8809\n",
            "Epoch 7/50\n",
            "110/110 [==============================] - 0s 2ms/step - loss: 3.4129 - accuracy: 0.8917\n",
            "Epoch 8/50\n",
            "110/110 [==============================] - 0s 1ms/step - loss: 2.9698 - accuracy: 0.8966\n",
            "Epoch 9/50\n",
            "110/110 [==============================] - 0s 2ms/step - loss: 2.6471 - accuracy: 0.9051\n",
            "Epoch 10/50\n",
            "110/110 [==============================] - 0s 1ms/step - loss: 2.4723 - accuracy: 0.9111\n",
            "Epoch 11/50\n",
            "110/110 [==============================] - 0s 2ms/step - loss: 2.1100 - accuracy: 0.9123\n",
            "Epoch 12/50\n",
            "110/110 [==============================] - 0s 2ms/step - loss: 1.8357 - accuracy: 0.9203\n",
            "Epoch 13/50\n",
            "110/110 [==============================] - 0s 2ms/step - loss: 1.7192 - accuracy: 0.9211\n",
            "Epoch 14/50\n",
            "110/110 [==============================] - 0s 1ms/step - loss: 1.6635 - accuracy: 0.9269\n",
            "Epoch 15/50\n",
            "110/110 [==============================] - 0s 1ms/step - loss: 1.6310 - accuracy: 0.9274\n",
            "Epoch 16/50\n",
            "110/110 [==============================] - 0s 1ms/step - loss: 1.5187 - accuracy: 0.9277\n",
            "Epoch 17/50\n",
            "110/110 [==============================] - 0s 1ms/step - loss: 1.2898 - accuracy: 0.9351\n",
            "Epoch 18/50\n",
            "110/110 [==============================] - 0s 1ms/step - loss: 1.2307 - accuracy: 0.9331\n",
            "Epoch 19/50\n",
            "110/110 [==============================] - 0s 1ms/step - loss: 1.4677 - accuracy: 0.9286\n",
            "Epoch 20/50\n",
            "110/110 [==============================] - 0s 2ms/step - loss: 1.0361 - accuracy: 0.9517\n",
            "Epoch 21/50\n",
            "110/110 [==============================] - 0s 1ms/step - loss: 1.1049 - accuracy: 0.9397\n",
            "Epoch 22/50\n",
            "110/110 [==============================] - 0s 1ms/step - loss: 1.1342 - accuracy: 0.9374\n",
            "Epoch 23/50\n",
            "110/110 [==============================] - 0s 1ms/step - loss: 1.1307 - accuracy: 0.9389\n",
            "Epoch 24/50\n",
            "110/110 [==============================] - 0s 1ms/step - loss: 1.0943 - accuracy: 0.9423\n",
            "Epoch 25/50\n",
            "110/110 [==============================] - 0s 2ms/step - loss: 0.9411 - accuracy: 0.9477\n",
            "Epoch 26/50\n",
            "110/110 [==============================] - 0s 1ms/step - loss: 1.1609 - accuracy: 0.9460\n",
            "Epoch 27/50\n",
            "110/110 [==============================] - 0s 1ms/step - loss: 1.0271 - accuracy: 0.9440\n",
            "Epoch 28/50\n",
            "110/110 [==============================] - 0s 1ms/step - loss: 0.7764 - accuracy: 0.9537\n",
            "Epoch 29/50\n",
            "110/110 [==============================] - 0s 2ms/step - loss: 0.9252 - accuracy: 0.9454\n",
            "Epoch 30/50\n",
            "110/110 [==============================] - 0s 1ms/step - loss: 0.7119 - accuracy: 0.9557\n",
            "Epoch 31/50\n",
            "110/110 [==============================] - 0s 1ms/step - loss: 0.6761 - accuracy: 0.9574\n",
            "Epoch 32/50\n",
            "110/110 [==============================] - 0s 1ms/step - loss: 0.6707 - accuracy: 0.9606\n",
            "Epoch 33/50\n",
            "110/110 [==============================] - 0s 1ms/step - loss: 0.5680 - accuracy: 0.9591\n",
            "Epoch 34/50\n",
            "110/110 [==============================] - 0s 1ms/step - loss: 0.7136 - accuracy: 0.9529\n",
            "Epoch 35/50\n",
            "110/110 [==============================] - 0s 2ms/step - loss: 0.8805 - accuracy: 0.9466\n",
            "Epoch 36/50\n",
            "110/110 [==============================] - 0s 1ms/step - loss: 0.6782 - accuracy: 0.9546\n",
            "Epoch 37/50\n",
            "110/110 [==============================] - 0s 1ms/step - loss: 0.6727 - accuracy: 0.9571\n",
            "Epoch 38/50\n",
            "110/110 [==============================] - 0s 1ms/step - loss: 0.4511 - accuracy: 0.9643\n",
            "Epoch 39/50\n",
            "110/110 [==============================] - 0s 2ms/step - loss: 0.5737 - accuracy: 0.9583\n",
            "Epoch 40/50\n",
            "110/110 [==============================] - 0s 1ms/step - loss: 0.6328 - accuracy: 0.9586\n",
            "Epoch 41/50\n",
            "110/110 [==============================] - 0s 1ms/step - loss: 0.6826 - accuracy: 0.9511\n",
            "Epoch 42/50\n",
            "110/110 [==============================] - 0s 2ms/step - loss: 0.6207 - accuracy: 0.9591\n",
            "Epoch 43/50\n",
            "110/110 [==============================] - 0s 1ms/step - loss: 0.4706 - accuracy: 0.9674\n",
            "Epoch 44/50\n",
            "110/110 [==============================] - 0s 1ms/step - loss: 0.5019 - accuracy: 0.9591\n",
            "Epoch 45/50\n",
            "110/110 [==============================] - 0s 1ms/step - loss: 0.5099 - accuracy: 0.9620\n",
            "Epoch 46/50\n",
            "110/110 [==============================] - 0s 1ms/step - loss: 0.3990 - accuracy: 0.9669\n",
            "Epoch 47/50\n",
            "110/110 [==============================] - 0s 2ms/step - loss: 0.3822 - accuracy: 0.9666\n",
            "Epoch 48/50\n",
            "110/110 [==============================] - 0s 1ms/step - loss: 0.4447 - accuracy: 0.9689\n",
            "Epoch 49/50\n",
            "110/110 [==============================] - 0s 1ms/step - loss: 0.5538 - accuracy: 0.9660\n",
            "Epoch 50/50\n",
            "110/110 [==============================] - 0s 2ms/step - loss: 0.5035 - accuracy: 0.9626\n",
            "47/47 [==============================] - 0s 1ms/step - loss: 7.5936 - accuracy: 0.8600\n"
          ]
        },
        {
          "output_type": "execute_result",
          "data": {
            "text/plain": [
              "[7.593641757965088, 0.8600000143051147]"
            ]
          },
          "metadata": {},
          "execution_count": 18
        }
      ]
    },
    {
      "cell_type": "code",
      "source": [
        "# Sequential create a stack of layers\n",
        "model_tensor = keras.Sequential([\n",
        "    keras.layers.Dense(10, input_shape=(10000,), activation='sigmoid')\n",
        "])\n",
        "\n",
        "# Optimizer will help in backproagation to reach better global optima\n",
        "model_tensor.compile(\n",
        "    optimizer='adam',\n",
        "    loss='sparse_categorical_crossentropy',\n",
        "    metrics=['accuracy']\n",
        ")\n",
        "\n",
        "# Does the training\n",
        "model_tensor.fit(X_train, y_train, epochs=50)\n",
        "model_tensor.evaluate(X_test, y_test)"
      ],
      "metadata": {
        "id": "NtoFA_175kT7",
        "outputId": "86a1b9fb-df3a-4353-fa9e-6f2ec2f9a4bc",
        "colab": {
          "base_uri": "https://localhost:8080/"
        }
      },
      "execution_count": 20,
      "outputs": [
        {
          "output_type": "stream",
          "name": "stdout",
          "text": [
            "Epoch 1/50\n",
            "10/10 [==============================] - 1s 6ms/step - loss: 224.6215 - accuracy: 0.3522\n",
            "Epoch 2/50\n",
            "10/10 [==============================] - 0s 7ms/step - loss: 56.2354 - accuracy: 0.7296\n",
            "Epoch 3/50\n",
            "10/10 [==============================] - 0s 5ms/step - loss: 36.1375 - accuracy: 0.7893\n",
            "Epoch 4/50\n",
            "10/10 [==============================] - 0s 7ms/step - loss: 17.6355 - accuracy: 0.8616\n",
            "Epoch 5/50\n",
            "10/10 [==============================] - 0s 9ms/step - loss: 15.8265 - accuracy: 0.8805\n",
            "Epoch 6/50\n",
            "10/10 [==============================] - 0s 7ms/step - loss: 11.7328 - accuracy: 0.9119\n",
            "Epoch 7/50\n",
            "10/10 [==============================] - 0s 7ms/step - loss: 10.5670 - accuracy: 0.9277\n",
            "Epoch 8/50\n",
            "10/10 [==============================] - 0s 6ms/step - loss: 15.4613 - accuracy: 0.9057\n",
            "Epoch 9/50\n",
            "10/10 [==============================] - 0s 10ms/step - loss: 11.0241 - accuracy: 0.9214\n",
            "Epoch 10/50\n",
            "10/10 [==============================] - 0s 10ms/step - loss: 11.1223 - accuracy: 0.9371\n",
            "Epoch 11/50\n",
            "10/10 [==============================] - 0s 6ms/step - loss: 13.6416 - accuracy: 0.9308\n",
            "Epoch 12/50\n",
            "10/10 [==============================] - 0s 6ms/step - loss: 15.4471 - accuracy: 0.9245\n",
            "Epoch 13/50\n",
            "10/10 [==============================] - 0s 8ms/step - loss: 12.0270 - accuracy: 0.9308\n",
            "Epoch 14/50\n",
            "10/10 [==============================] - 0s 7ms/step - loss: 14.4814 - accuracy: 0.9308\n",
            "Epoch 15/50\n",
            "10/10 [==============================] - 0s 7ms/step - loss: 9.2341 - accuracy: 0.9371\n",
            "Epoch 16/50\n",
            "10/10 [==============================] - 0s 5ms/step - loss: 9.0449 - accuracy: 0.9371\n",
            "Epoch 17/50\n",
            "10/10 [==============================] - 0s 5ms/step - loss: 10.4213 - accuracy: 0.9528\n",
            "Epoch 18/50\n",
            "10/10 [==============================] - 0s 5ms/step - loss: 12.2968 - accuracy: 0.9245\n",
            "Epoch 19/50\n",
            "10/10 [==============================] - 0s 5ms/step - loss: 9.1813 - accuracy: 0.9308\n",
            "Epoch 20/50\n",
            "10/10 [==============================] - 0s 9ms/step - loss: 8.9093 - accuracy: 0.9308\n",
            "Epoch 21/50\n",
            "10/10 [==============================] - 0s 5ms/step - loss: 10.3133 - accuracy: 0.9277\n",
            "Epoch 22/50\n",
            "10/10 [==============================] - 0s 8ms/step - loss: 6.4713 - accuracy: 0.9403\n",
            "Epoch 23/50\n",
            "10/10 [==============================] - 0s 7ms/step - loss: 8.3652 - accuracy: 0.9434\n",
            "Epoch 24/50\n",
            "10/10 [==============================] - 0s 8ms/step - loss: 7.2800 - accuracy: 0.9528\n",
            "Epoch 25/50\n",
            "10/10 [==============================] - 0s 6ms/step - loss: 6.5865 - accuracy: 0.9623\n",
            "Epoch 26/50\n",
            "10/10 [==============================] - 0s 9ms/step - loss: 14.2280 - accuracy: 0.9245\n",
            "Epoch 27/50\n",
            "10/10 [==============================] - 0s 5ms/step - loss: 26.3493 - accuracy: 0.9182\n",
            "Epoch 28/50\n",
            "10/10 [==============================] - 0s 5ms/step - loss: 23.7255 - accuracy: 0.9119\n",
            "Epoch 29/50\n",
            "10/10 [==============================] - 0s 5ms/step - loss: 9.8961 - accuracy: 0.9371\n",
            "Epoch 30/50\n",
            "10/10 [==============================] - 0s 7ms/step - loss: 16.5846 - accuracy: 0.9371\n",
            "Epoch 31/50\n",
            "10/10 [==============================] - 0s 5ms/step - loss: 15.4480 - accuracy: 0.9465\n",
            "Epoch 32/50\n",
            "10/10 [==============================] - 0s 7ms/step - loss: 16.7347 - accuracy: 0.9465\n",
            "Epoch 33/50\n",
            "10/10 [==============================] - 0s 6ms/step - loss: 14.9725 - accuracy: 0.9434\n",
            "Epoch 34/50\n",
            "10/10 [==============================] - 0s 6ms/step - loss: 11.5876 - accuracy: 0.9497\n",
            "Epoch 35/50\n",
            "10/10 [==============================] - 0s 6ms/step - loss: 11.4987 - accuracy: 0.9434\n",
            "Epoch 36/50\n",
            "10/10 [==============================] - 0s 7ms/step - loss: 15.1914 - accuracy: 0.9371\n",
            "Epoch 37/50\n",
            "10/10 [==============================] - 0s 6ms/step - loss: 8.9307 - accuracy: 0.9340\n",
            "Epoch 38/50\n",
            "10/10 [==============================] - 0s 5ms/step - loss: 15.3243 - accuracy: 0.9465\n",
            "Epoch 39/50\n",
            "10/10 [==============================] - 0s 11ms/step - loss: 12.9482 - accuracy: 0.9403\n",
            "Epoch 40/50\n",
            "10/10 [==============================] - 0s 7ms/step - loss: 10.9411 - accuracy: 0.9465\n",
            "Epoch 41/50\n",
            "10/10 [==============================] - 0s 8ms/step - loss: 9.4912 - accuracy: 0.9403\n",
            "Epoch 42/50\n",
            "10/10 [==============================] - 0s 7ms/step - loss: 9.5626 - accuracy: 0.9623\n",
            "Epoch 43/50\n",
            "10/10 [==============================] - 0s 7ms/step - loss: 5.8538 - accuracy: 0.9560\n",
            "Epoch 44/50\n",
            "10/10 [==============================] - 0s 5ms/step - loss: 6.5812 - accuracy: 0.9528\n",
            "Epoch 45/50\n",
            "10/10 [==============================] - 0s 11ms/step - loss: 9.0853 - accuracy: 0.9465\n",
            "Epoch 46/50\n",
            "10/10 [==============================] - 0s 7ms/step - loss: 8.8479 - accuracy: 0.9560\n",
            "Epoch 47/50\n",
            "10/10 [==============================] - 0s 4ms/step - loss: 8.8374 - accuracy: 0.9528\n",
            "Epoch 48/50\n",
            "10/10 [==============================] - 0s 12ms/step - loss: 9.6661 - accuracy: 0.9528\n",
            "Epoch 49/50\n",
            "10/10 [==============================] - 0s 10ms/step - loss: 19.5893 - accuracy: 0.9560\n",
            "Epoch 50/50\n",
            "10/10 [==============================] - 0s 10ms/step - loss: 18.7799 - accuracy: 0.9434\n",
            "4/4 [==============================] - 0s 5ms/step - loss: 208.8753 - accuracy: 0.6887\n"
          ]
        },
        {
          "output_type": "execute_result",
          "data": {
            "text/plain": [
              "[208.8753204345703, 0.6886792182922363]"
            ]
          },
          "metadata": {},
          "execution_count": 20
        }
      ]
    },
    {
      "cell_type": "markdown",
      "source": [
        "---SVM--"
      ],
      "metadata": {
        "id": "ScyMWYko6Ieo"
      }
    },
    {
      "cell_type": "code",
      "source": [
        "model_svm = svm.SVC(gamma=0.001, kernel='poly')\n",
        "model_svm.fit(X_train_mnist,y_train_mnist)\n",
        "y_pred_mnist = model_svm.predict(X_test_mnist)\n",
        "accuracy = accuracy_score(y_test_mnist, y_pred_mnist)\n",
        "print(\"MNIST Dataset : \", accuracy*100)"
      ],
      "metadata": {
        "colab": {
          "base_uri": "https://localhost:8080/"
        },
        "id": "qVZW-pKBcdr9",
        "outputId": "b636e856-e7e6-462f-f7c4-582be6030ed3"
      },
      "execution_count": 29,
      "outputs": [
        {
          "output_type": "stream",
          "name": "stderr",
          "text": [
            "/usr/local/lib/python3.8/dist-packages/sklearn/utils/validation.py:993: DataConversionWarning: A column-vector y was passed when a 1d array was expected. Please change the shape of y to (n_samples, ), for example using ravel().\n",
            "  y = column_or_1d(y, warn=True)\n"
          ]
        },
        {
          "output_type": "stream",
          "name": "stdout",
          "text": [
            "MNIST Dataset :  93.53333333333333\n"
          ]
        }
      ]
    },
    {
      "cell_type": "code",
      "source": [
        "model_svm = svm.SVC(gamma=0.001, kernel='poly')\n",
        "model_svm.fit(X_train,y_train)\n",
        "y_pred = model_svm.predict(X_test)\n",
        "accuracy = accuracy_score(y_test, y_pred)\n",
        "print(\"Manual Dataset : \", accuracy*100)"
      ],
      "metadata": {
        "id": "AuNaI1GE6Hzf",
        "outputId": "77c89a90-7190-40c0-b30b-894187e70b1f",
        "colab": {
          "base_uri": "https://localhost:8080/"
        }
      },
      "execution_count": 23,
      "outputs": [
        {
          "output_type": "stream",
          "name": "stdout",
          "text": [
            "Manual Dataset :  76.41509433962264\n"
          ]
        }
      ]
    },
    {
      "cell_type": "code",
      "source": [
        "joblib.dump(model_svm, \"./drive/MyDrive/Colab Notebooks/DigitRecognition_SVM_Model.pt\") \n",
        "model_svm_new = joblib.load(\"./drive/MyDrive/Colab Notebooks/DigitRecognition_SVM_Model.pt\")"
      ],
      "metadata": {
        "id": "sXbrKf3lKM6E"
      },
      "execution_count": 30,
      "outputs": []
    },
    {
      "cell_type": "code",
      "source": [
        "def recognize_digit(image):\n",
        "  gray = cv2.cvtColor(image, cv2.COLOR_BGR2GRAY)\n",
        "  blur = cv2.GaussianBlur(gray, (5,5), 0)\n",
        "\n",
        "  canny = cv2.Canny(blur, 30, 150)\n",
        "\n",
        "  contours, _ = cv2.findContours(canny.copy(), cv2.RETR_EXTERNAL, cv2.CHAIN_APPROX_SIMPLE)\n",
        "  boundingBoxes = [cv2.boundingRect(c) for c in contours]\n",
        "\n",
        "  # Found number in the image\n",
        "  display = []\n",
        "  image_countours = []\n",
        "  image_numbers = []\n",
        "\n",
        "  for contour in contours:\n",
        "    (x, y, w, h) = cv2.boundingRect(contour)\n",
        "    img = image.copy()\n",
        "    image_countours.append(cv2.drawContours(img, contours, -1, (0,255,0), 3))\n",
        "    \n",
        "    if w>= 5 and h>=20:\n",
        "      area = blur[y:y+h, x:x+w]\n",
        "      ret, area = cv2.threshold(area, 127, 255, cv2.THRESH_BINARY_INV)\n",
        "          \n",
        "      new_square = drawSquare(area)\n",
        "      number = resize(new_square, 20)\n",
        "      result = number.reshape((1, 400)); \n",
        "      result = result.astype(np.float32);\n",
        "      image_numbers.append(canny)\n",
        "    \n",
        "      #knn opencv\n",
        "      # ret, res, neighbours, distance = model_cv_knn.findNearest(result, k=1)\n",
        "      # n = str(int(float(res[0]))); print(res.shape)\n",
        "      # display.append(n)\n",
        "\n",
        "      #svm\n",
        "      res = model_svm_new.predict(result)\n",
        "      n = str(int(float(res)))\n",
        "      display.append(n)\n",
        "\n",
        "      #tensor keras\n",
        "      # result = np.array(result).astype(np.float32)\n",
        "      # res = model_tensor.predict(result)\n",
        "      # n = str(int(float(res[0][0])))\n",
        "      # display.append(n)\n",
        "\n",
        "      # draw rectangle around individual digit\n",
        "      cv2.rectangle(image, (x,y), (x+w, y+h), (255,0,0), 1)\n",
        "      cv2.putText(image, n, (x,y-10), cv2.FONT_ITALIC, 2, (0,255,0), 2)\n",
        "\n",
        "  return image, display, image_countours, image_numbers"
      ],
      "metadata": {
        "id": "dTK0C2YbgxjL"
      },
      "execution_count": 45,
      "outputs": []
    },
    {
      "cell_type": "code",
      "source": [
        "original = cv2.imread('./drive/MyDrive/DigitRecognition_Dataset/Test/text.jpg')\n",
        "resultImage, resultDigit, image_countours, image_numbers = recognize_digit(cv2.imread('./drive/MyDrive/DigitRecognition_Dataset/Test/text.jpg'))\n",
        "plt.figure(figsize = (10, 8))\n",
        "plt.subplot(121)\n",
        "plt.imshow(original, cmap = 'gray')\n",
        "plt.title(\"Original Image\")\n",
        "plt.xticks([]), plt.yticks([])\n",
        "\n",
        "plt.subplot(122)\n",
        "plt.imshow(resultImage, \"gray\")\n",
        "plt.title(resultDigit)\n",
        "plt.xticks([]), plt.yticks([])\n",
        "plt.show()"
      ],
      "metadata": {
        "colab": {
          "base_uri": "https://localhost:8080/",
          "height": 205
        },
        "id": "0voR-svWgxle",
        "outputId": "972209e4-9051-4549-8a98-33486ed3186b"
      },
      "execution_count": 46,
      "outputs": [
        {
          "output_type": "display_data",
          "data": {
            "text/plain": [
              "<Figure size 720x576 with 2 Axes>"
            ],
            "image/png": "[encoded data removed]"
          },
          "metadata": {}
        }
      ]
    },
    {
      "cell_type": "markdown",
      "source": [
        "Streamlit App"
      ],
      "metadata": {
        "id": "UqGwb7n1gJNU"
      }
    },
    {
      "cell_type": "code",
      "source": [
        "%%writefile app.py\n",
        "import numpy as np\n",
        "import streamlit as st\n",
        "from streamlit_drawable_canvas import st_canvas\n",
        "import cv2\n",
        "import joblib\n",
        "\n",
        "st.title(\"Drawable Digit Recognition using K-Nearest Neighbor\")\n",
        "st.markdown(\"> This app demonstrates Digit Recognition using K-Nearest Neighbor. The app allows users draw digits on to a canvas and an image with prediction digits will be shown as the result.\")\n",
        "st.markdown(\">Disclaimer : The performance of our KNN Model on Drawable Digit Recognition showed a realistic results, with accuracy of 100%\")\n",
        "st.header(\"🎲 How to Use the Application\")\n",
        "st.markdown(\n",
        "    \"\"\"\n",
        "    * Draw Digits freely as you want! \n",
        "    * You can Undo, Redo or Delete your drawing with button in the bottom left of the canvas \n",
        "    * Please Don't forget to Press ⬇️ Send Button in the bottom left of the canvas!\n",
        "    * Press Predict Button if you're done with your drawing and the result will be shown bellow\n",
        "    \"\"\"\n",
        "    )\n",
        "st.write(\" \")\n",
        "st.write(\" \")\n",
        "st.write(\" \")\n",
        "\n",
        "st.markdown(\"Draw Digits [0-9]\")\n",
        "# Create a canvas component\n",
        "canvas_result = st_canvas(\n",
        "    fill_color=\"rgba(255, 165, 0, 0.3)\",  # Fixed fill color with some opacity\n",
        "    stroke_width=9,\n",
        "    stroke_color=\"black\",\n",
        "    background_color=\"#eee\",\n",
        "    background_image=None,\n",
        "    update_streamlit=False,\n",
        "    height=270,\n",
        "    width=700,\n",
        "    drawing_mode=\"freedraw\",\n",
        "    point_display_radius= 0,\n",
        "    display_toolbar=True,\n",
        "    key=\"full_app\",\n",
        ")\n",
        "\n",
        "predict = st.button(\"Predict\")\n",
        "\n",
        "model_svm_new = joblib.load(\"./drive/MyDrive/Colab Notebooks/DigitRecognition_SVM_Model.pt\")\n",
        "\n",
        "def drawSquare(image):\n",
        "    '''\n",
        "    Draws a square around the found digits\n",
        "    '''\t\t\n",
        "    b = [0,0,0]\n",
        "    height, width = image.shape[0], image.shape[1]\n",
        "    if(height == width): ## if square\n",
        "      square = image\n",
        "      return square\n",
        "    else:\n",
        "      d_size = cv2.resize(image, (2*width, 2*height), interpolation=cv2.INTER_CUBIC)\n",
        "      height, width = height * 2, width * 2\n",
        "      if (height > width):\n",
        "        padding = (height - width)/2; padding = int(padding)\n",
        "        d_size_square = cv2.copyMakeBorder(d_size, 0, 0, padding, padding, cv2.BORDER_CONSTANT, None,value=b)\n",
        "      else:\n",
        "        padding = (width - height)/2; padding = int(padding)\n",
        "        d_size_square = cv2.copyMakeBorder(d_size, padding, padding, 0, 0, cv2.BORDER_CONSTANT, None,value=b)\n",
        "\n",
        "    return d_size_square\n",
        "\n",
        "def resize(image, dim):\n",
        "    '''\n",
        "    Returns orignal image resized to shape 'dim'\n",
        "    '''\t\n",
        "    b = [0,0,0]\t \t\t\t\n",
        "    dim = dim - 4\n",
        "    squared = image\n",
        "    r = (float(dim) / squared.shape[1])\n",
        "    d = (dim, int(squared.shape[0] * r))\n",
        "    resized = cv2.resize(image, d, interpolation = cv2.INTER_AREA)\n",
        "    height, width = resized.shape[0], resized.shape[1];\n",
        "    if (height > width):\n",
        "      resized = cv2.copyMakeBorder(resized, 0,0,0,1, cv2.BORDER_CONSTANT, value=b)\n",
        "    if (height < width):\n",
        "      resized = cv2.copyMakeBorder(resized, 1,0,0,0, cv2.BORDER_CONSTANT, value=b)\n",
        "\n",
        "    resized = cv2.copyMakeBorder(resized, 2,2,2,2,cv2.BORDER_CONSTANT, value=b)\n",
        "    height, width = resized.shape[0], resized.shape[1]\t\n",
        "    \n",
        "    return resized\t\n",
        "\n",
        "def recognize_digit(image):\n",
        "    gray = cv2.cvtColor(image, cv2.COLOR_BGR2GRAY)\n",
        "    blur = cv2.GaussianBlur(gray, (5,5), 0)\n",
        "    canny = cv2.Canny(blur, 30, 150)\n",
        "\n",
        "    contours, _ = cv2.findContours(canny.copy(), cv2.RETR_EXTERNAL, cv2.CHAIN_APPROX_SIMPLE)\n",
        "    boundingBoxes = [cv2.boundingRect(c) for c in contours]\n",
        "    contours, _ = zip(*sorted(zip(contours, boundingBoxes),key=lambda b:b[1][0], reverse=False))\n",
        "\n",
        "    # Found number in the image\n",
        "    display = []\n",
        "\n",
        "    for contour in contours:\n",
        "      (x, y, w, h) = cv2.boundingRect(contour)\n",
        "        \n",
        "      if w>= 5 and h>=20:\n",
        "        area = blur[y:y+h, x:x+w]\n",
        "        ret, area = cv2.threshold(area, 127, 255, cv2.THRESH_BINARY_INV)\n",
        "            \n",
        "        new_square = drawSquare(area)\n",
        "        number = resize(new_square, 20)\n",
        "        result = number.reshape((1, 400)); \n",
        "        result = result.astype(np.float32);\n",
        "        res = model_svm_new.predict(result)\n",
        "        n = str(int(float(res)))\n",
        "        display.append(n)\n",
        "\n",
        "\n",
        "        # draw rectangle around individual digit\n",
        "        cv2.rectangle(image, (x,y), (x+w, y+h), (255,0,0), 2)\n",
        "        cv2.putText(image, n, (x,y-8), cv2.FONT_ITALIC, 0.7, (0,255,0), 2)\n",
        "\n",
        "    return image, display\n",
        "\n",
        "# Do something interesting with the image data and paths\n",
        "if canvas_result.image_data is not None and predict:\n",
        "    resImg, resDigit = recognize_digit(canvas_result.image_data)\n",
        "    st.markdown(\"Prediction Result\")\n",
        "    st.image(resImg)\n",
        "    st.text(\"Digit Prediction : {}\".format(resDigit))"
      ],
      "metadata": {
        "colab": {
          "base_uri": "https://localhost:8080/"
        },
        "id": "GTifd3zZd-SX",
        "outputId": "c03abb69-6209-4792-cf08-1a08091bc5f9"
      },
      "execution_count": 40,
      "outputs": [
        {
          "output_type": "stream",
          "name": "stdout",
          "text": [
            "Overwriting app.py\n"
          ]
        }
      ]
    },
    {
      "cell_type": "markdown",
      "source": [
        "Local Tunnel"
      ],
      "metadata": {
        "id": "5aC9v5qoD0SD"
      }
    },
    {
      "cell_type": "code",
      "source": [
        "!streamlit run app.py & npx localtunnel --port 8501"
      ],
      "metadata": {
        "colab": {
          "base_uri": "https://localhost:8080/"
        },
        "id": "Sa3BeilsU8F3",
        "outputId": "d6a74b76-b5c4-4e30-8728-83ed7389e0fe"
      },
      "execution_count": 41,
      "outputs": [
        {
          "output_type": "stream",
          "name": "stdout",
          "text": [
            "2023-01-10 18:28:45.248 INFO    numexpr.utils: NumExpr defaulting to 2 threads.\n",
            "\u001b[K\u001b[?25h\n",
            "Collecting usage statistics. To deactivate, set browser.gatherUsageStats to False.\n",
            "\u001b[0m\n",
            "npx: installed 22 in 2.376s\n",
            "\u001b[0m\n",
            "\u001b[34m\u001b[1m  You can now view your Streamlit app in your browser.\u001b[0m\n",
            "\u001b[0m\n",
            "\u001b[34m  Network URL: \u001b[0m\u001b[1mhttp://172.28.0.12:8501\u001b[0m\n",
            "\u001b[34m  External URL: \u001b[0m\u001b[1mhttp://34.86.247.26:8501\u001b[0m\n",
            "\u001b[0m\n",
            "your url is: https://crazy-terms-sneeze-34-86-247-26.loca.lt\n",
            "\u001b[34m  Stopping...\u001b[0m\n",
            "^C\n"
          ]
        }
      ]
    },
    {
      "cell_type": "markdown",
      "source": [
        "Ngrok"
      ],
      "metadata": {
        "id": "YNXx-I2gD6pm"
      }
    },
    {
      "cell_type": "code",
      "source": [
        "!pip install pyngrok"
      ],
      "metadata": {
        "colab": {
          "base_uri": "https://localhost:8080/"
        },
        "id": "YL36PbW4Amk8",
        "outputId": "f1af730f-19b3-4a49-8e80-71f01892c722"
      },
      "execution_count": 30,
      "outputs": [
        {
          "output_type": "stream",
          "name": "stdout",
          "text": [
            "Looking in indexes: https://pypi.org/simple, https://us-python.pkg.dev/colab-wheels/public/simple/\n",
            "Collecting pyngrok\n",
            "  Downloading pyngrok-5.2.1.tar.gz (761 kB)\n",
            "\u001b[2K     \u001b[90m━━━━━━━━━━━━━━━━━━━━━━━━━━━━━━━━━━━━━━\u001b[0m \u001b[32m761.3/761.3 KB\u001b[0m \u001b[31m15.9 MB/s\u001b[0m eta \u001b[36m0:00:00\u001b[0m\n",
            "\u001b[?25h  Preparing metadata (setup.py) ... \u001b[?25l\u001b[?25hdone\n",
            "Requirement already satisfied: PyYAML in /usr/local/lib/python3.8/dist-packages (from pyngrok) (6.0)\n",
            "Building wheels for collected packages: pyngrok\n",
            "  Building wheel for pyngrok (setup.py) ... \u001b[?25l\u001b[?25hdone\n",
            "  Created wheel for pyngrok: filename=pyngrok-5.2.1-py3-none-any.whl size=19792 sha256=0d43babcddde4206085a1ef8b9736c573985eb6fc4fda696befe1f7fa9419461\n",
            "  Stored in directory: /root/.cache/pip/wheels/5d/f2/70/526da675d32f17577ec47ac4c663084efe39d47c826b6c3bb1\n",
            "Successfully built pyngrok\n",
            "Installing collected packages: pyngrok\n",
            "Successfully installed pyngrok-5.2.1\n"
          ]
        }
      ]
    },
    {
      "cell_type": "code",
      "source": [
        "!streamlit run app.py &>/dev/null&"
      ],
      "metadata": {
        "id": "wK1RqVl-B_MD"
      },
      "execution_count": 52,
      "outputs": []
    },
    {
      "cell_type": "code",
      "source": [
        "from pyngrok import ngrok\n",
        "!ngrok authtoken 2K5VMsLbfPowtf2cr81cJBK9NSq_5woqSrwvdkEpaCqsU9LdJ"
      ],
      "metadata": {
        "colab": {
          "base_uri": "https://localhost:8080/"
        },
        "id": "zMamNwcPCE5M",
        "outputId": "35b566a9-7a8a-4bcb-a546-983e75d29390"
      },
      "execution_count": 53,
      "outputs": [
        {
          "output_type": "stream",
          "name": "stdout",
          "text": [
            "Authtoken saved to configuration file: /root/.ngrok2/ngrok.yml\n"
          ]
        }
      ]
    },
    {
      "cell_type": "code",
      "source": [
        "public_url = ngrok.connect(port='8501')\n",
        "public_url"
      ],
      "metadata": {
        "colab": {
          "base_uri": "https://localhost:8080/"
        },
        "id": "rPFnaN3kAu32",
        "outputId": "4cb524d1-cb79-4981-8ee8-95081555f2e5"
      },
      "execution_count": 54,
      "outputs": [
        {
          "output_type": "execute_result",
          "data": {
            "text/plain": [
              "<NgrokTunnel: \"http://1aa8-34-82-241-231.ngrok.io\" -> \"http://localhost:80\">"
            ]
          },
          "metadata": {},
          "execution_count": 54
        }
      ]
    },
    {
      "cell_type": "code",
      "source": [
        "# Kill Ngrok After Use\n",
        "ngrok.kill()"
      ],
      "metadata": {
        "id": "Z73ZQJX5DXte"
      },
      "execution_count": 56,
      "outputs": []
    },
    {
      "cell_type": "markdown",
      "source": [
        "Streamlit Create Dataset"
      ],
      "metadata": {
        "id": "gJ6Hezc7PbWy"
      }
    },
    {
      "cell_type": "code",
      "source": [
        "%%writefile app.py\n",
        "import numpy as np\n",
        "import streamlit as st\n",
        "from streamlit_drawable_canvas import st_canvas\n",
        "import cv2\n",
        "import uuid\n",
        "from io import BytesIO, BufferedReader\n",
        "\n",
        "\n",
        "st.title(\"Drawable Canvas for Digit Recognition Dataset\")\n",
        "st.markdown(\">The app lets users draw digit on to a canvas and input label of the drawed digit. Then it will show the inputted data and user can download drawed digit image for Digit Recognition Dataset\")\n",
        "st.header(\"🎲 How to Use the Application\")\n",
        "st.markdown(\n",
        "     \"\"\"\n",
        "    * Draw Digit as your desire \n",
        "    * You can Undo, Redo or Delete your drawing with button in the bottom left of the canvas \n",
        "    * Please Don't forget to Press ⬇️ Send Button in the bottom left of the canvas!\n",
        "    * Input the Drawed Digit label in the Label Section!\n",
        "    * Press Input Button if you're done with your drawing and the inputted data will be shown bellow\n",
        "    * Now download Button will be appear!  \n",
        "    * Press download Button and the drawed digit image will be downloaded for your dataset!\n",
        "    \"\"\"\n",
        "    )\n",
        "st.write(\" \")\n",
        "st.write(\" \")\n",
        "st.write(\" \")\n",
        "\n",
        "st.markdown(\"Draw Digit [0-9]\")\n",
        "# Create a canvas component\n",
        "canvas_result = st_canvas(\n",
        "    fill_color=\"rgba(255, 165, 0, 0.3)\",  # Fixed fill color with some opacity\n",
        "    stroke_width=9,\n",
        "    stroke_color=\"white\",\n",
        "    background_color=\"#000000\",\n",
        "    background_image=None,\n",
        "    update_streamlit=False,\n",
        "    height=250,\n",
        "    width=700,\n",
        "    drawing_mode=\"freedraw\",\n",
        "    point_display_radius= 0,\n",
        "    display_toolbar=True,\n",
        "    key=\"full_app\",\n",
        ")\n",
        "\n",
        "label = st.text_input('Label', '')\n",
        "\n",
        "input = st.button(\"Input\")\n",
        "\n",
        "# Do something interesting with the image data and paths\n",
        "if canvas_result.image_data is not None and input:\n",
        "    st.markdown(\"Inputted Data\")\n",
        "    st.image(canvas_result.image_data)\n",
        "    st.text(\"Label : {}\".format(label))\n",
        "\n",
        "    random = uuid.uuid4().hex\n",
        "    ret, img_enco = cv2.imencode(\".png\", canvas_result.image_data) \n",
        "    srt_enco = img_enco.tostring() \n",
        "    img_BytesIO = BytesIO(srt_enco)\n",
        "    img_BufferedReader = BufferedReader(img_BytesIO)\n",
        "\n",
        "    btn = st.download_button(\n",
        "            label=\"Download the Image\",\n",
        "            data=img_BufferedReader,\n",
        "            file_name= label + \"-\" + random +\".png\",\n",
        "            mime=\"image/png\"\n",
        "          )"
      ],
      "metadata": {
        "colab": {
          "base_uri": "https://localhost:8080/"
        },
        "id": "aQZMZA6PeJ6y",
        "outputId": "c49e416c-d6f1-45e7-d9ed-67bde3af10d0"
      },
      "execution_count": 243,
      "outputs": [
        {
          "output_type": "stream",
          "name": "stdout",
          "text": [
            "Overwriting app.py\n"
          ]
        }
      ]
    }
  ]
}