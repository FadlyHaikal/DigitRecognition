{
  "nbformat": 4,
  "nbformat_minor": 0,
  "metadata": {
    "colab": {
      "provenance": [],
      "mount_file_id": "https://gist.github.com/FadlyHaikal/7a902140e91206a87d338605a83e62ab#file-digitrecognition-ipynb",
      "authorship_tag": "ABX9TyPXpxtwh4vNsUasd0+dd2M/",
      "include_colab_link": true
    },
    "kernelspec": {
      "name": "python3",
      "display_name": "Python 3"
    },
    "language_info": {
      "name": "python"
    }
  },
  "cells": [
    {
      "cell_type": "markdown",
      "metadata": {
        "id": "view-in-github",
        "colab_type": "text"
      },
      "source": [
        "<a href=\"https://colab.research.google.com/github/FadlyHaikal/DigitRecognition/blob/main/digitrecognition.ipynb\" target=\"_parent\"><img src=\"https://colab.research.google.com/assets/colab-badge.svg\" alt=\"Open In Colab\"/></a>"
      ]
    },
    {
      "cell_type": "code",
      "source": [
        "pip install pillow"
      ],
      "metadata": {
        "colab": {
          "base_uri": "https://localhost:8080/"
        },
        "id": "oEmdx9HWCpjU",
        "outputId": "f65aeda2-b402-4e36-dd16-a569092bedca"
      },
      "execution_count": 1,
      "outputs": [
        {
          "output_type": "stream",
          "name": "stdout",
          "text": [
            "Looking in indexes: https://pypi.org/simple, https://us-python.pkg.dev/colab-wheels/public/simple/\n",
            "Requirement already satisfied: pillow in /usr/local/lib/python3.8/dist-packages (7.1.2)\n"
          ]
        }
      ]
    },
    {
      "cell_type": "code",
      "source": [
        "!pip install streamlit==1.13.0\n",
        "!npm install -g localtunnel"
      ],
      "metadata": {
        "colab": {
          "base_uri": "https://localhost:8080/"
        },
        "id": "da5JLo9ndTsL",
        "outputId": "aa67ed23-9b1a-44d4-fce6-1a77eb663d7e"
      },
      "execution_count": 2,
      "outputs": [
        {
          "output_type": "stream",
          "name": "stdout",
          "text": [
            "Looking in indexes: https://pypi.org/simple, https://us-python.pkg.dev/colab-wheels/public/simple/\n",
            "Collecting streamlit==1.13.0\n",
            "  Downloading streamlit-1.13.0-py2.py3-none-any.whl (9.2 MB)\n",
            "\u001b[2K     \u001b[90m━━━━━━━━━━━━━━━━━━━━━━━━━━━━━━━━━━━━━━━━\u001b[0m \u001b[32m9.2/9.2 MB\u001b[0m \u001b[31m90.6 MB/s\u001b[0m eta \u001b[36m0:00:00\u001b[0m\n",
            "\u001b[?25hRequirement already satisfied: click>=7.0 in /usr/local/lib/python3.8/dist-packages (from streamlit==1.13.0) (7.1.2)\n",
            "Requirement already satisfied: tornado>=5.0 in /usr/local/lib/python3.8/dist-packages (from streamlit==1.13.0) (6.0.4)\n",
            "Collecting watchdog\n",
            "  Downloading watchdog-2.2.1-py3-none-manylinux2014_x86_64.whl (78 kB)\n",
            "\u001b[2K     \u001b[90m━━━━━━━━━━━━━━━━━━━━━━━━━━━━━━━━━━━━━━━━\u001b[0m \u001b[32m79.0/79.0 KB\u001b[0m \u001b[31m8.8 MB/s\u001b[0m eta \u001b[36m0:00:00\u001b[0m\n",
            "\u001b[?25hCollecting validators>=0.2\n",
            "  Downloading validators-0.20.0.tar.gz (30 kB)\n",
            "  Preparing metadata (setup.py) ... \u001b[?25l\u001b[?25hdone\n",
            "Requirement already satisfied: altair>=3.2.0 in /usr/local/lib/python3.8/dist-packages (from streamlit==1.13.0) (4.2.0)\n",
            "Requirement already satisfied: typing-extensions>=3.10.0.0 in /usr/local/lib/python3.8/dist-packages (from streamlit==1.13.0) (4.4.0)\n",
            "Requirement already satisfied: pyarrow>=4.0 in /usr/local/lib/python3.8/dist-packages (from streamlit==1.13.0) (9.0.0)\n",
            "Requirement already satisfied: requests>=2.4 in /usr/local/lib/python3.8/dist-packages (from streamlit==1.13.0) (2.25.1)\n",
            "Collecting pydeck>=0.1.dev5\n",
            "  Downloading pydeck-0.8.0-py2.py3-none-any.whl (4.7 MB)\n",
            "\u001b[2K     \u001b[90m━━━━━━━━━━━━━━━━━━━━━━━━━━━━━━━━━━━━━━━━\u001b[0m \u001b[32m4.7/4.7 MB\u001b[0m \u001b[31m48.9 MB/s\u001b[0m eta \u001b[36m0:00:00\u001b[0m\n",
            "\u001b[?25hCollecting rich>=10.11.0\n",
            "  Downloading rich-13.0.1-py3-none-any.whl (238 kB)\n",
            "\u001b[2K     \u001b[90m━━━━━━━━━━━━━━━━━━━━━━━━━━━━━━━━━━━━━━\u001b[0m \u001b[32m238.1/238.1 KB\u001b[0m \u001b[31m19.4 MB/s\u001b[0m eta \u001b[36m0:00:00\u001b[0m\n",
            "\u001b[?25hRequirement already satisfied: importlib-metadata>=1.4 in /usr/local/lib/python3.8/dist-packages (from streamlit==1.13.0) (5.2.0)\n",
            "Requirement already satisfied: numpy in /usr/local/lib/python3.8/dist-packages (from streamlit==1.13.0) (1.21.6)\n",
            "Collecting pympler>=0.9\n",
            "  Downloading Pympler-1.0.1-py3-none-any.whl (164 kB)\n",
            "\u001b[2K     \u001b[90m━━━━━━━━━━━━━━━━━━━━━━━━━━━━━━━━━━━━━━\u001b[0m \u001b[32m164.8/164.8 KB\u001b[0m \u001b[31m21.0 MB/s\u001b[0m eta \u001b[36m0:00:00\u001b[0m\n",
            "\u001b[?25hRequirement already satisfied: python-dateutil in /usr/local/lib/python3.8/dist-packages (from streamlit==1.13.0) (2.8.2)\n",
            "Collecting gitpython!=3.1.19\n",
            "  Downloading GitPython-3.1.30-py3-none-any.whl (184 kB)\n",
            "\u001b[2K     \u001b[90m━━━━━━━━━━━━━━━━━━━━━━━━━━━━━━━━━━━━━━\u001b[0m \u001b[32m184.0/184.0 KB\u001b[0m \u001b[31m12.2 MB/s\u001b[0m eta \u001b[36m0:00:00\u001b[0m\n",
            "\u001b[?25hRequirement already satisfied: cachetools>=4.0 in /usr/local/lib/python3.8/dist-packages (from streamlit==1.13.0) (5.2.0)\n",
            "Requirement already satisfied: packaging>=14.1 in /usr/local/lib/python3.8/dist-packages (from streamlit==1.13.0) (21.3)\n",
            "Requirement already satisfied: protobuf!=3.20.2,<4,>=3.12 in /usr/local/lib/python3.8/dist-packages (from streamlit==1.13.0) (3.19.6)\n",
            "Collecting blinker>=1.0.0\n",
            "  Downloading blinker-1.5-py2.py3-none-any.whl (12 kB)\n",
            "Requirement already satisfied: tzlocal>=1.1 in /usr/local/lib/python3.8/dist-packages (from streamlit==1.13.0) (1.5.1)\n",
            "Collecting semver\n",
            "  Downloading semver-2.13.0-py2.py3-none-any.whl (12 kB)\n",
            "Requirement already satisfied: toml in /usr/local/lib/python3.8/dist-packages (from streamlit==1.13.0) (0.10.2)\n",
            "Requirement already satisfied: pandas>=0.21.0 in /usr/local/lib/python3.8/dist-packages (from streamlit==1.13.0) (1.3.5)\n",
            "Requirement already satisfied: pillow>=6.2.0 in /usr/local/lib/python3.8/dist-packages (from streamlit==1.13.0) (7.1.2)\n",
            "Requirement already satisfied: jinja2 in /usr/local/lib/python3.8/dist-packages (from altair>=3.2.0->streamlit==1.13.0) (2.11.3)\n",
            "Requirement already satisfied: entrypoints in /usr/local/lib/python3.8/dist-packages (from altair>=3.2.0->streamlit==1.13.0) (0.4)\n",
            "Requirement already satisfied: toolz in /usr/local/lib/python3.8/dist-packages (from altair>=3.2.0->streamlit==1.13.0) (0.12.0)\n",
            "Requirement already satisfied: jsonschema>=3.0 in /usr/local/lib/python3.8/dist-packages (from altair>=3.2.0->streamlit==1.13.0) (4.3.3)\n",
            "Collecting gitdb<5,>=4.0.1\n",
            "  Downloading gitdb-4.0.10-py3-none-any.whl (62 kB)\n",
            "\u001b[2K     \u001b[90m━━━━━━━━━━━━━━━━━━━━━━━━━━━━━━━━━━━━━━━━\u001b[0m \u001b[32m62.7/62.7 KB\u001b[0m \u001b[31m8.2 MB/s\u001b[0m eta \u001b[36m0:00:00\u001b[0m\n",
            "\u001b[?25hRequirement already satisfied: zipp>=0.5 in /usr/local/lib/python3.8/dist-packages (from importlib-metadata>=1.4->streamlit==1.13.0) (3.11.0)\n",
            "Requirement already satisfied: pyparsing!=3.0.5,>=2.0.2 in /usr/local/lib/python3.8/dist-packages (from packaging>=14.1->streamlit==1.13.0) (3.0.9)\n",
            "Requirement already satisfied: pytz>=2017.3 in /usr/local/lib/python3.8/dist-packages (from pandas>=0.21.0->streamlit==1.13.0) (2022.7)\n",
            "Requirement already satisfied: six>=1.5 in /usr/local/lib/python3.8/dist-packages (from python-dateutil->streamlit==1.13.0) (1.15.0)\n",
            "Requirement already satisfied: certifi>=2017.4.17 in /usr/local/lib/python3.8/dist-packages (from requests>=2.4->streamlit==1.13.0) (2022.12.7)\n",
            "Requirement already satisfied: chardet<5,>=3.0.2 in /usr/local/lib/python3.8/dist-packages (from requests>=2.4->streamlit==1.13.0) (4.0.0)\n",
            "Requirement already satisfied: urllib3<1.27,>=1.21.1 in /usr/local/lib/python3.8/dist-packages (from requests>=2.4->streamlit==1.13.0) (1.24.3)\n",
            "Requirement already satisfied: idna<3,>=2.5 in /usr/local/lib/python3.8/dist-packages (from requests>=2.4->streamlit==1.13.0) (2.10)\n",
            "Collecting commonmark<0.10.0,>=0.9.0\n",
            "  Downloading commonmark-0.9.1-py2.py3-none-any.whl (51 kB)\n",
            "\u001b[2K     \u001b[90m━━━━━━━━━━━━━━━━━━━━━━━━━━━━━━━━━━━━━━━━\u001b[0m \u001b[32m51.1/51.1 KB\u001b[0m \u001b[31m6.4 MB/s\u001b[0m eta \u001b[36m0:00:00\u001b[0m\n",
            "\u001b[?25hRequirement already satisfied: pygments<3.0.0,>=2.6.0 in /usr/local/lib/python3.8/dist-packages (from rich>=10.11.0->streamlit==1.13.0) (2.6.1)\n",
            "Requirement already satisfied: decorator>=3.4.0 in /usr/local/lib/python3.8/dist-packages (from validators>=0.2->streamlit==1.13.0) (4.4.2)\n",
            "Collecting smmap<6,>=3.0.1\n",
            "  Downloading smmap-5.0.0-py3-none-any.whl (24 kB)\n",
            "Requirement already satisfied: MarkupSafe>=0.23 in /usr/local/lib/python3.8/dist-packages (from jinja2->altair>=3.2.0->streamlit==1.13.0) (2.0.1)\n",
            "Requirement already satisfied: pyrsistent!=0.17.0,!=0.17.1,!=0.17.2,>=0.14.0 in /usr/local/lib/python3.8/dist-packages (from jsonschema>=3.0->altair>=3.2.0->streamlit==1.13.0) (0.19.2)\n",
            "Requirement already satisfied: attrs>=17.4.0 in /usr/local/lib/python3.8/dist-packages (from jsonschema>=3.0->altair>=3.2.0->streamlit==1.13.0) (22.2.0)\n",
            "Requirement already satisfied: importlib-resources>=1.4.0 in /usr/local/lib/python3.8/dist-packages (from jsonschema>=3.0->altair>=3.2.0->streamlit==1.13.0) (5.10.1)\n",
            "Building wheels for collected packages: validators\n",
            "  Building wheel for validators (setup.py) ... \u001b[?25l\u001b[?25hdone\n",
            "  Created wheel for validators: filename=validators-0.20.0-py3-none-any.whl size=19581 sha256=56800361c250720acde0e96ffff2ad4486d695f735026c5fe1bad4b17181a926\n",
            "  Stored in directory: /root/.cache/pip/wheels/19/09/72/3eb74d236bb48bd0f3c6c3c83e4e0c5bbfcbcad7c6c3539db8\n",
            "Successfully built validators\n",
            "Installing collected packages: commonmark, watchdog, validators, smmap, semver, rich, pympler, blinker, pydeck, gitdb, gitpython, streamlit\n",
            "Successfully installed blinker-1.5 commonmark-0.9.1 gitdb-4.0.10 gitpython-3.1.30 pydeck-0.8.0 pympler-1.0.1 rich-13.0.1 semver-2.13.0 smmap-5.0.0 streamlit-1.13.0 validators-0.20.0 watchdog-2.2.1\n",
            "\u001b[K\u001b[?25h/tools/node/bin/lt -> /tools/node/lib/node_modules/localtunnel/bin/lt.js\n",
            "+ localtunnel@2.0.2\n",
            "added 22 packages from 22 contributors in 1.776s\n"
          ]
        }
      ]
    },
    {
      "cell_type": "code",
      "source": [
        "!pip install streamlit-drawable-canvas"
      ],
      "metadata": {
        "colab": {
          "base_uri": "https://localhost:8080/"
        },
        "id": "gwWoSAvelpTh",
        "outputId": "63a495d4-ffc0-4563-92ef-53e5fa66b7c5"
      },
      "execution_count": 3,
      "outputs": [
        {
          "output_type": "stream",
          "name": "stdout",
          "text": [
            "Looking in indexes: https://pypi.org/simple, https://us-python.pkg.dev/colab-wheels/public/simple/\n",
            "Collecting streamlit-drawable-canvas\n",
            "  Downloading streamlit_drawable_canvas-0.9.2-py3-none-any.whl (1.2 MB)\n",
            "\u001b[?25l     \u001b[90m━━━━━━━━━━━━━━━━━━━━━━━━━━━━━━━━━━━━━━━━\u001b[0m \u001b[32m0.0/1.2 MB\u001b[0m \u001b[31m?\u001b[0m eta \u001b[36m-:--:--\u001b[0m\r\u001b[2K     \u001b[91m━━━━━━━━━━━━━━━━━━━━━━━━━━━━━━━━━━━━━━━\u001b[0m\u001b[91m╸\u001b[0m \u001b[32m1.2/1.2 MB\u001b[0m \u001b[31m42.5 MB/s\u001b[0m eta \u001b[36m0:00:01\u001b[0m\r\u001b[2K     \u001b[90m━━━━━━━━━━━━━━━━━━━━━━━━━━━━━━━━━━━━━━━━\u001b[0m \u001b[32m1.2/1.2 MB\u001b[0m \u001b[31m30.6 MB/s\u001b[0m eta \u001b[36m0:00:00\u001b[0m\n",
            "\u001b[?25hRequirement already satisfied: streamlit>=0.63 in /usr/local/lib/python3.8/dist-packages (from streamlit-drawable-canvas) (1.13.0)\n",
            "Requirement already satisfied: Pillow in /usr/local/lib/python3.8/dist-packages (from streamlit-drawable-canvas) (7.1.2)\n",
            "Requirement already satisfied: numpy in /usr/local/lib/python3.8/dist-packages (from streamlit-drawable-canvas) (1.21.6)\n",
            "Requirement already satisfied: requests>=2.4 in /usr/local/lib/python3.8/dist-packages (from streamlit>=0.63->streamlit-drawable-canvas) (2.25.1)\n",
            "Requirement already satisfied: semver in /usr/local/lib/python3.8/dist-packages (from streamlit>=0.63->streamlit-drawable-canvas) (2.13.0)\n",
            "Requirement already satisfied: validators>=0.2 in /usr/local/lib/python3.8/dist-packages (from streamlit>=0.63->streamlit-drawable-canvas) (0.20.0)\n",
            "Requirement already satisfied: toml in /usr/local/lib/python3.8/dist-packages (from streamlit>=0.63->streamlit-drawable-canvas) (0.10.2)\n",
            "Requirement already satisfied: packaging>=14.1 in /usr/local/lib/python3.8/dist-packages (from streamlit>=0.63->streamlit-drawable-canvas) (21.3)\n",
            "Requirement already satisfied: python-dateutil in /usr/local/lib/python3.8/dist-packages (from streamlit>=0.63->streamlit-drawable-canvas) (2.8.2)\n",
            "Requirement already satisfied: tzlocal>=1.1 in /usr/local/lib/python3.8/dist-packages (from streamlit>=0.63->streamlit-drawable-canvas) (1.5.1)\n",
            "Requirement already satisfied: pandas>=0.21.0 in /usr/local/lib/python3.8/dist-packages (from streamlit>=0.63->streamlit-drawable-canvas) (1.3.5)\n",
            "Requirement already satisfied: pympler>=0.9 in /usr/local/lib/python3.8/dist-packages (from streamlit>=0.63->streamlit-drawable-canvas) (1.0.1)\n",
            "Requirement already satisfied: pyarrow>=4.0 in /usr/local/lib/python3.8/dist-packages (from streamlit>=0.63->streamlit-drawable-canvas) (9.0.0)\n",
            "Requirement already satisfied: gitpython!=3.1.19 in /usr/local/lib/python3.8/dist-packages (from streamlit>=0.63->streamlit-drawable-canvas) (3.1.30)\n",
            "Requirement already satisfied: blinker>=1.0.0 in /usr/local/lib/python3.8/dist-packages (from streamlit>=0.63->streamlit-drawable-canvas) (1.5)\n",
            "Requirement already satisfied: rich>=10.11.0 in /usr/local/lib/python3.8/dist-packages (from streamlit>=0.63->streamlit-drawable-canvas) (13.0.1)\n",
            "Requirement already satisfied: click>=7.0 in /usr/local/lib/python3.8/dist-packages (from streamlit>=0.63->streamlit-drawable-canvas) (7.1.2)\n",
            "Requirement already satisfied: tornado>=5.0 in /usr/local/lib/python3.8/dist-packages (from streamlit>=0.63->streamlit-drawable-canvas) (6.0.4)\n",
            "Requirement already satisfied: cachetools>=4.0 in /usr/local/lib/python3.8/dist-packages (from streamlit>=0.63->streamlit-drawable-canvas) (5.2.0)\n",
            "Requirement already satisfied: typing-extensions>=3.10.0.0 in /usr/local/lib/python3.8/dist-packages (from streamlit>=0.63->streamlit-drawable-canvas) (4.4.0)\n",
            "Requirement already satisfied: watchdog in /usr/local/lib/python3.8/dist-packages (from streamlit>=0.63->streamlit-drawable-canvas) (2.2.1)\n",
            "Requirement already satisfied: pydeck>=0.1.dev5 in /usr/local/lib/python3.8/dist-packages (from streamlit>=0.63->streamlit-drawable-canvas) (0.8.0)\n",
            "Requirement already satisfied: altair>=3.2.0 in /usr/local/lib/python3.8/dist-packages (from streamlit>=0.63->streamlit-drawable-canvas) (4.2.0)\n",
            "Requirement already satisfied: protobuf!=3.20.2,<4,>=3.12 in /usr/local/lib/python3.8/dist-packages (from streamlit>=0.63->streamlit-drawable-canvas) (3.19.6)\n",
            "Requirement already satisfied: importlib-metadata>=1.4 in /usr/local/lib/python3.8/dist-packages (from streamlit>=0.63->streamlit-drawable-canvas) (5.2.0)\n",
            "Requirement already satisfied: jinja2 in /usr/local/lib/python3.8/dist-packages (from altair>=3.2.0->streamlit>=0.63->streamlit-drawable-canvas) (2.11.3)\n",
            "Requirement already satisfied: entrypoints in /usr/local/lib/python3.8/dist-packages (from altair>=3.2.0->streamlit>=0.63->streamlit-drawable-canvas) (0.4)\n",
            "Requirement already satisfied: toolz in /usr/local/lib/python3.8/dist-packages (from altair>=3.2.0->streamlit>=0.63->streamlit-drawable-canvas) (0.12.0)\n",
            "Requirement already satisfied: jsonschema>=3.0 in /usr/local/lib/python3.8/dist-packages (from altair>=3.2.0->streamlit>=0.63->streamlit-drawable-canvas) (4.3.3)\n",
            "Requirement already satisfied: gitdb<5,>=4.0.1 in /usr/local/lib/python3.8/dist-packages (from gitpython!=3.1.19->streamlit>=0.63->streamlit-drawable-canvas) (4.0.10)\n",
            "Requirement already satisfied: zipp>=0.5 in /usr/local/lib/python3.8/dist-packages (from importlib-metadata>=1.4->streamlit>=0.63->streamlit-drawable-canvas) (3.11.0)\n",
            "Requirement already satisfied: pyparsing!=3.0.5,>=2.0.2 in /usr/local/lib/python3.8/dist-packages (from packaging>=14.1->streamlit>=0.63->streamlit-drawable-canvas) (3.0.9)\n",
            "Requirement already satisfied: pytz>=2017.3 in /usr/local/lib/python3.8/dist-packages (from pandas>=0.21.0->streamlit>=0.63->streamlit-drawable-canvas) (2022.7)\n",
            "Requirement already satisfied: six>=1.5 in /usr/local/lib/python3.8/dist-packages (from python-dateutil->streamlit>=0.63->streamlit-drawable-canvas) (1.15.0)\n",
            "Requirement already satisfied: certifi>=2017.4.17 in /usr/local/lib/python3.8/dist-packages (from requests>=2.4->streamlit>=0.63->streamlit-drawable-canvas) (2022.12.7)\n",
            "Requirement already satisfied: chardet<5,>=3.0.2 in /usr/local/lib/python3.8/dist-packages (from requests>=2.4->streamlit>=0.63->streamlit-drawable-canvas) (4.0.0)\n",
            "Requirement already satisfied: urllib3<1.27,>=1.21.1 in /usr/local/lib/python3.8/dist-packages (from requests>=2.4->streamlit>=0.63->streamlit-drawable-canvas) (1.24.3)\n",
            "Requirement already satisfied: idna<3,>=2.5 in /usr/local/lib/python3.8/dist-packages (from requests>=2.4->streamlit>=0.63->streamlit-drawable-canvas) (2.10)\n",
            "Requirement already satisfied: commonmark<0.10.0,>=0.9.0 in /usr/local/lib/python3.8/dist-packages (from rich>=10.11.0->streamlit>=0.63->streamlit-drawable-canvas) (0.9.1)\n",
            "Requirement already satisfied: pygments<3.0.0,>=2.6.0 in /usr/local/lib/python3.8/dist-packages (from rich>=10.11.0->streamlit>=0.63->streamlit-drawable-canvas) (2.6.1)\n",
            "Requirement already satisfied: decorator>=3.4.0 in /usr/local/lib/python3.8/dist-packages (from validators>=0.2->streamlit>=0.63->streamlit-drawable-canvas) (4.4.2)\n",
            "Requirement already satisfied: smmap<6,>=3.0.1 in /usr/local/lib/python3.8/dist-packages (from gitdb<5,>=4.0.1->gitpython!=3.1.19->streamlit>=0.63->streamlit-drawable-canvas) (5.0.0)\n",
            "Requirement already satisfied: MarkupSafe>=0.23 in /usr/local/lib/python3.8/dist-packages (from jinja2->altair>=3.2.0->streamlit>=0.63->streamlit-drawable-canvas) (2.0.1)\n",
            "Requirement already satisfied: importlib-resources>=1.4.0 in /usr/local/lib/python3.8/dist-packages (from jsonschema>=3.0->altair>=3.2.0->streamlit>=0.63->streamlit-drawable-canvas) (5.10.1)\n",
            "Requirement already satisfied: attrs>=17.4.0 in /usr/local/lib/python3.8/dist-packages (from jsonschema>=3.0->altair>=3.2.0->streamlit>=0.63->streamlit-drawable-canvas) (22.2.0)\n",
            "Requirement already satisfied: pyrsistent!=0.17.0,!=0.17.1,!=0.17.2,>=0.14.0 in /usr/local/lib/python3.8/dist-packages (from jsonschema>=3.0->altair>=3.2.0->streamlit>=0.63->streamlit-drawable-canvas) (0.19.2)\n",
            "Installing collected packages: streamlit-drawable-canvas\n",
            "Successfully installed streamlit-drawable-canvas-0.9.2\n"
          ]
        }
      ]
    },
    {
      "cell_type": "code",
      "execution_count": 4,
      "metadata": {
        "id": "bjUYrVHxdYo0"
      },
      "outputs": [],
      "source": [
        "import numpy as np\n",
        "import cv2\n",
        "import matplotlib.pyplot as plt\n",
        "import os \n",
        "from sklearn.model_selection import train_test_split\n",
        "import zipfile"
      ]
    },
    {
      "cell_type": "code",
      "source": [
        "from google.colab import drive\n",
        "drive.mount('/content/drive')"
      ],
      "metadata": {
        "id": "BKB47B9yKTV9",
        "outputId": "2541159d-79eb-4ab7-c718-eed991bb5013",
        "colab": {
          "base_uri": "https://localhost:8080/"
        }
      },
      "execution_count": 5,
      "outputs": [
        {
          "output_type": "stream",
          "name": "stdout",
          "text": [
            "Mounted at /content/drive\n"
          ]
        }
      ]
    },
    {
      "cell_type": "code",
      "source": [
        "!wget --no-check-certificate \\\n",
        "    \"https://github.com/FadlyHaikal/DigitRecognition/archive/refs/heads/main.zip\" \\\n",
        "    -O \"/tmp/DigitRecognition_Dataset.zip\"\n",
        "\n",
        "zip_ref = zipfile.ZipFile('/tmp/DigitRecognition_Dataset.zip', 'r') #Opens the zip file in read mode\n",
        "zip_ref.extractall('/tmp') #Extracts the files into the /tmp folder\n",
        "zip_ref.close()"
      ],
      "metadata": {
        "colab": {
          "base_uri": "https://localhost:8080/"
        },
        "id": "KxGUIC6ZWYsh",
        "outputId": "400d93cc-b425-4453-e7a3-555ba5a68d50"
      },
      "execution_count": 5,
      "outputs": [
        {
          "output_type": "stream",
          "name": "stdout",
          "text": [
            "--2023-01-10 08:22:53--  https://github.com/FadlyHaikal/DigitRecognition/archive/refs/heads/main.zip\n",
            "Resolving github.com (github.com)... 192.30.255.112\n",
            "Connecting to github.com (github.com)|192.30.255.112|:443... connected.\n",
            "HTTP request sent, awaiting response... 302 Found\n",
            "Location: https://codeload.github.com/FadlyHaikal/DigitRecognition/zip/refs/heads/main [following]\n",
            "--2023-01-10 08:22:53--  https://codeload.github.com/FadlyHaikal/DigitRecognition/zip/refs/heads/main\n",
            "Resolving codeload.github.com (codeload.github.com)... 192.30.255.120\n",
            "Connecting to codeload.github.com (codeload.github.com)|192.30.255.120|:443... connected.\n",
            "HTTP request sent, awaiting response... 200 OK\n",
            "Length: unspecified [application/zip]\n",
            "Saving to: ‘/tmp/DigitRecognition_Dataset.zip’\n",
            "\n",
            "/tmp/DigitRecogniti     [   <=>              ]   2.65M  5.45MB/s    in 0.5s    \n",
            "\n",
            "2023-01-10 08:22:54 (5.45 MB/s) - ‘/tmp/DigitRecognition_Dataset.zip’ saved [2779145]\n",
            "\n"
          ]
        }
      ]
    },
    {
      "cell_type": "markdown",
      "source": [
        "Preprocess"
      ],
      "metadata": {
        "id": "KOI7ErachIQJ"
      }
    },
    {
      "cell_type": "code",
      "source": [
        "def drawSquare(image):\n",
        "\t'''\n",
        "\tDraws a square around the found digits\n",
        "\t'''\t\t\n",
        "\tb = [0,0,0]\n",
        "\theight, width = image.shape[0], image.shape[1]\n",
        "\tif(height == width): ## if square\n",
        "\t\tsquare = image\n",
        "\t\treturn square\n",
        "\telse:\n",
        "\t\td_size = cv2.resize(image, (2*width, 2*height), interpolation=cv2.INTER_CUBIC)\n",
        "\t\theight, width = height * 2, width * 2\n",
        "\t\tif (height > width):\n",
        "\t\t\tpadding = int((height - width)/2)\n",
        "\t\t\td_size_square = cv2.copyMakeBorder(d_size, 0, 0, padding, padding, cv2.BORDER_CONSTANT, None,value=b)\n",
        "\t\telse:\n",
        "\t\t\tpadding = int((width - height)/2)\n",
        "\t\t\td_size_square = cv2.copyMakeBorder(d_size, padding, padding, 0, 0, cv2.BORDER_CONSTANT, None,value=b)\n",
        "\n",
        "\treturn d_size_square"
      ],
      "metadata": {
        "id": "tXp1XDtYgxSA"
      },
      "execution_count": 6,
      "outputs": []
    },
    {
      "cell_type": "code",
      "source": [
        "def resize(image, dim):\n",
        "\t'''\n",
        "\tReturns orignal image resized to shape 'dim'\n",
        "\t'''\t\n",
        "\tb = [0,0,0]\t \t\t\t\n",
        "\tdim = dim - 4\n",
        "\tsquared = image\n",
        "\tr = (float(dim) / squared.shape[1])\n",
        "\td = (dim, int(squared.shape[0] * r))\n",
        "\tresized = cv2.resize(image, d, interpolation = cv2.INTER_AREA)\n",
        "\theight, width = resized.shape[0], resized.shape[1];\n",
        "\tif (height > width):\n",
        "\t\tresized = cv2.copyMakeBorder(resized, 0,0,0,1, cv2.BORDER_CONSTANT, value=b)\n",
        "\tif (height < width):\n",
        "\t\tresized = cv2.copyMakeBorder(resized, 1,0,0,0, cv2.BORDER_CONSTANT, value=b)\n",
        "\n",
        "\tresized = cv2.copyMakeBorder(resized, 2,2,2,2,cv2.BORDER_CONSTANT, value=b)\n",
        "\theight, width = resized.shape[0], resized.shape[1]\t\n",
        "\t\n",
        "\treturn resized\t"
      ],
      "metadata": {
        "id": "LR8bMyHtgxVK"
      },
      "execution_count": 7,
      "outputs": []
    },
    {
      "cell_type": "markdown",
      "source": [
        "KNN"
      ],
      "metadata": {
        "id": "7wL4tPsahLfZ"
      }
    },
    {
      "cell_type": "code",
      "source": [
        "def get_path_list(root_path):\n",
        "    # compute list directories in root path\n",
        "    root = os.listdir(root_path) \n",
        "    # initilize array to store folder path in root directory \n",
        "    folder_path_list = [] \n",
        "\n",
        "    # looping through root directory\n",
        "    for index, folder_path in enumerate(root):\n",
        "        # append folder path\n",
        "        folder_path_list.append(folder_path)\n",
        "\n",
        "    return folder_path_list"
      ],
      "metadata": {
        "id": "P4vH7ghggxXu"
      },
      "execution_count": 8,
      "outputs": []
    },
    {
      "cell_type": "code",
      "source": [
        "def get_class_id(root_path, train_names):\n",
        "    # initilize array to store image and class id\n",
        "    image_list = []\n",
        "    image_class_list = []\n",
        "\n",
        "    # looping through list of folder or train names path\n",
        "    for image_class, folder_path in enumerate(train_names):\n",
        "        full_folder_path = f'{root_path}/{folder_path}'\n",
        "        # compute list image path\n",
        "        folder = os.listdir(full_folder_path)\n",
        "        # looping through list of image in folder\n",
        "        for index, image_path in enumerate(folder):\n",
        "            full_image_path =  f'{full_folder_path}/{image_path}'\n",
        "            # load the image\n",
        "            image = cv2.imread(full_image_path)\n",
        "            image = cv2.cvtColor(image, cv2.COLOR_BGR2GRAY)\n",
        "            image = cv2.GaussianBlur(image, (5,5), 0)\n",
        "            image_vector = cv2.resize(image, (20,20)).flatten()\n",
        "            image_vector = np.array(image_vector).astype(np.float32)\n",
        "            \n",
        "            # append image list with the image\n",
        "            image_list.append(image_vector)\n",
        "            # append image class list with class of the image\n",
        "            image_class_list.append(image_class)\n",
        "    \n",
        "    image_list = np.array(image_list).astype(np.float32)\n",
        "    image_class_list = np.array(image_class_list).astype(np.float32)\n",
        "    \n",
        "    return image_list, image_class_list"
      ],
      "metadata": {
        "id": "G1iVZnSUgxaG"
      },
      "execution_count": 26,
      "outputs": []
    },
    {
      "cell_type": "code",
      "source": [
        "train_root_path = './drive/MyDrive/DigitRecognition_Dataset/Train'\n",
        "train_names = get_path_list(train_root_path)\n",
        "train_image_list, image_classes_list = get_class_id(train_root_path, train_names)\n",
        "\n",
        "(X_train, X_test, y_train, y_test) = train_test_split(train_image_list, image_classes_list, test_size=0.25)\n",
        "\n",
        "# Using K-NN(k- nearest neighbors) as the ML algorithm\n",
        "classifier_knn = cv2.ml.KNearest_create()\n",
        "classifier_knn.train(X_train, cv2.ml.ROW_SAMPLE, y_train)\n",
        "response, result, neighbours, distance = classifier_knn.findNearest(X_test, k=3)\n",
        "\n",
        "# Testing and calculating the accuracy of knn classifier\n",
        "res_flatten = result.flatten()\n",
        "correct = res_flatten == y_test\n",
        "correct = np.count_nonzero(correct)\n",
        "accuracy = correct * (100/res_flatten.size)\n",
        "print (\"Accuracy: \", accuracy)"
      ],
      "metadata": {
        "colab": {
          "base_uri": "https://localhost:8080/"
        },
        "id": "bd5kFuWLgxek",
        "outputId": "5f5756a1-ab84-45f7-a931-c6563f3c62d9"
      },
      "execution_count": 28,
      "outputs": [
        {
          "output_type": "stream",
          "name": "stdout",
          "text": [
            "Accuracy:  21.22905027932961\n"
          ]
        }
      ]
    },
    {
      "cell_type": "code",
      "source": [
        "# Loading the digits data\n",
        "data = cv2.imread('./drive/MyDrive/DigitRecognition_Dataset/digits.png')\n",
        "gray = cv2.cvtColor(data, cv2.COLOR_BGR2GRAY)\n",
        "\n",
        "# Resizing each digit from 20x20 to 10x10\n",
        "resized = cv2.pyrDown(gray)\n",
        "\n",
        "# Splitting image original image into 5000 different arrays of size 20x20\n",
        "# Resulting array: 50 * 100 * 20 * 20\n",
        "arr = [np.hsplit(i, 100) for i in np.vsplit(gray, 50)]\n",
        "arr = np.array(arr)\n",
        "print (\"Resulting Shape\", arr.shape)\n",
        "\n",
        "# Spliting into training and test set\n",
        "# Total: 5000, Train: 3500 images, Test: 1500\n",
        "X_train = arr[:, :70].reshape(-1, 400).astype(np.float32)\n",
        "X_test = arr[:, 70:100].reshape(-1, 400).astype(np.float32)\n",
        "\n",
        "## Targets for each image\n",
        "y = [0,1,2,3,4,5,6,7,8,9]\n",
        "\n",
        "y_train = np.repeat(y, 350)[:, np.newaxis]\n",
        "y_test = np.repeat(y, 150)[:, np.newaxis] \n",
        "\n",
        "# Using K-NN(k- nearest neighbors) as the ML algorithm\n",
        "classifier_knn = cv2.ml.KNearest_create()\n",
        "classifier_knn.train(X_train, cv2.ml.ROW_SAMPLE, y_train)\n",
        "response, result, neighbours, distance = classifier_knn.findNearest(X_test, k=3)\n",
        "\n",
        "# Testing and calculating the accuracy of knn classifier\n",
        "correct = result == y_test\n",
        "correct = np.count_nonzero(correct)\n",
        "accuracy = correct * (100.0/result.size)\n",
        "print (\"Accuracy: \", accuracy)"
      ],
      "metadata": {
        "colab": {
          "base_uri": "https://localhost:8080/"
        },
        "id": "JIqAObaigxg5",
        "outputId": "eaa849c9-6e12-4a14-ea90-764ccfec49a3"
      },
      "execution_count": 29,
      "outputs": [
        {
          "output_type": "stream",
          "name": "stdout",
          "text": [
            "Resulting Shape (50, 100, 20, 20)\n",
            "Accuracy:  93.46666666666667\n"
          ]
        }
      ]
    },
    {
      "cell_type": "code",
      "source": [
        "classifier_knn.save('./drive/MyDrive/Colab Notebooks/DigitRecognition_KNN_Trained_Model.pt')"
      ],
      "metadata": {
        "id": "VJRC4KMQpOVE"
      },
      "execution_count": 30,
      "outputs": []
    },
    {
      "cell_type": "code",
      "source": [
        "classifier_knn_new = cv2.ml.KNearest.load('./drive/MyDrive/Colab Notebooks/DigitRecognition_KNN_Trained_Model.pt')"
      ],
      "metadata": {
        "id": "66JDTggcpZg5"
      },
      "execution_count": 31,
      "outputs": []
    },
    {
      "cell_type": "code",
      "source": [
        "def recognize_digit(image):\n",
        "  gray = cv2.cvtColor(image, cv2.COLOR_BGR2GRAY)\n",
        "  blur = cv2.GaussianBlur(gray, (5,5), 0)\n",
        "\n",
        "  canny = cv2.Canny(blur, 30, 150)\n",
        "\n",
        "  contours, _ = cv2.findContours(canny.copy(), cv2.RETR_EXTERNAL, cv2.CHAIN_APPROX_SIMPLE)\n",
        "  boundingBoxes = [cv2.boundingRect(c) for c in contours]\n",
        "  contours, _ = zip(*sorted(zip(contours, boundingBoxes),key=lambda b:b[1][0], reverse=False))\n",
        "\n",
        "  # Found number in the image\n",
        "  display = []\n",
        "\n",
        "  for contour in contours:\n",
        "    (x, y, w, h) = cv2.boundingRect(contour)\n",
        "      \n",
        "    if w>= 5 and h>=20:\n",
        "      area = blur[y:y+h, x:x+w]\n",
        "      ret, area = cv2.threshold(area, 127, 255, cv2.THRESH_BINARY_INV)\n",
        "          \n",
        "      new_square = drawSquare(area)\n",
        "      number = resize(new_square, 20)\n",
        "      result = number.reshape((1, 400)); \n",
        "      result = result.astype(np.float32);\n",
        "      ret, res, neighbours, distance = classifier_knn_new.findNearest(result, k=1)\n",
        "      n = str(int(float(res[0])))\n",
        "      display.append(n)\n",
        "\n",
        "      # draw rectangle around individual digit\n",
        "      cv2.rectangle(image, (x,y), (x+w, y+h), (255,0,0), 1)\n",
        "      cv2.putText(image, n, (x,y-10), cv2.FONT_ITALIC, 2, (0,255,0), 2)\n",
        "\n",
        "  return image, display"
      ],
      "metadata": {
        "id": "dTK0C2YbgxjL"
      },
      "execution_count": 32,
      "outputs": []
    },
    {
      "cell_type": "code",
      "source": [
        "original = cv2.imread('./drive/MyDrive/DigitRecognition_Dataset/Test/Test1.png')\n",
        "resultImage, resultDigit = recognize_digit(cv2.imread('./drive/MyDrive/DigitRecognition_Dataset/Test/Test1.png'))\n",
        "plt.figure(figsize = (10, 8))\n",
        "plt.subplot(121)\n",
        "plt.imshow(original, cmap = 'gray')\n",
        "plt.title(\"Original Image\")\n",
        "plt.xticks([]), plt.yticks([])\n",
        "\n",
        "plt.subplot(122)\n",
        "plt.imshow(resultImage, \"gray\")\n",
        "plt.title(resultDigit)\n",
        "plt.xticks([]), plt.yticks([])\n",
        "plt.show()"
      ],
      "metadata": {
        "colab": {
          "base_uri": "https://localhost:8080/",
          "height": 141
        },
        "id": "0voR-svWgxle",
        "outputId": "803d6815-21e0-4392-a5c3-eb4c28c02874"
      },
      "execution_count": 34,
      "outputs": [
        {
          "output_type": "display_data",
          "data": {
            "text/plain": [
              "<Figure size 720x576 with 2 Axes>"
            ],
            "image/png": "[encoded data removed]"
          },
          "metadata": {}
        }
      ]
    },
    {
      "cell_type": "markdown",
      "source": [
        "Streamlit App"
      ],
      "metadata": {
        "id": "UqGwb7n1gJNU"
      }
    },
    {
      "cell_type": "code",
      "source": [
        "%%writefile app.py\n",
        "import numpy as np\n",
        "import streamlit as st\n",
        "from streamlit_drawable_canvas import st_canvas\n",
        "import cv2\n",
        "\n",
        "st.title(\"Drawable Digit Recognition using K-Nearest Neighbor\")\n",
        "st.markdown(\"> This app demonstrates Digit Recognition using K-Nearest Neighbor. The app allows users draw digits on to a canvas and an image with prediction digits will be shown as the result.\")\n",
        "st.markdown(\">Disclaimer : The performance of our KNN Model on Drawable Digit Recognition showed a realistic results, with accuracy of 100%\")\n",
        "st.header(\"🎲 How to Use the Application\")\n",
        "st.markdown(\n",
        "    \"\"\"\n",
        "    * Draw Digits freely as you want! \n",
        "    * You can Undo, Redo or Delete your drawing with button in the bottom left of the canvas \n",
        "    * Please Don't forget to Press ⬇️ Send Button in the bottom left of the canvas!\n",
        "    * Press Predict Button if you're done with your drawing and the result will be shown bellow\n",
        "    \"\"\"\n",
        "    )\n",
        "st.write(\" \")\n",
        "st.write(\" \")\n",
        "st.write(\" \")\n",
        "\n",
        "st.markdown(\"Draw Digits [0-9]\")\n",
        "# Create a canvas component\n",
        "canvas_result = st_canvas(\n",
        "    fill_color=\"rgba(255, 165, 0, 0.3)\",  # Fixed fill color with some opacity\n",
        "    stroke_width=4,\n",
        "    stroke_color=\"black\",\n",
        "    background_color=\"#eee\",\n",
        "    background_image=None,\n",
        "    update_streamlit=False,\n",
        "    height=250,\n",
        "    width=700,\n",
        "    drawing_mode=\"freedraw\",\n",
        "    point_display_radius= 0,\n",
        "    display_toolbar=True,\n",
        "    key=\"full_app\",\n",
        ")\n",
        "\n",
        "predict = st.button(\"Predict\")\n",
        "\n",
        "classifier_knn = cv2.ml.KNearest.load('./drive/MyDrive/Colab Notebooks/DigitRecognition_KNN_Trained_Model.pt')\n",
        "\n",
        "def drawSquare(image):\n",
        "    '''\n",
        "    Draws a square around the found digits\n",
        "    '''\t\t\n",
        "    b = [0,0,0]\n",
        "    height, width = image.shape[0], image.shape[1]\n",
        "    if(height == width): ## if square\n",
        "      square = image\n",
        "      return square\n",
        "    else:\n",
        "      d_size = cv2.resize(image, (2*width, 2*height), interpolation=cv2.INTER_CUBIC)\n",
        "      height, width = height * 2, width * 2\n",
        "      if (height > width):\n",
        "        padding = (height - width)/2; padding = int(padding)\n",
        "        d_size_square = cv2.copyMakeBorder(d_size, 0, 0, padding, padding, cv2.BORDER_CONSTANT, None,value=b)\n",
        "      else:\n",
        "        padding = (width - height)/2; padding = int(padding)\n",
        "        d_size_square = cv2.copyMakeBorder(d_size, padding, padding, 0, 0, cv2.BORDER_CONSTANT, None,value=b)\n",
        "\n",
        "    return d_size_square\n",
        "\n",
        "def resize(image, dim):\n",
        "    '''\n",
        "    Returns orignal image resized to shape 'dim'\n",
        "    '''\t\n",
        "    b = [0,0,0]\t \t\t\t\n",
        "    dim = dim - 4\n",
        "    squared = image\n",
        "    r = (float(dim) / squared.shape[1])\n",
        "    d = (dim, int(squared.shape[0] * r))\n",
        "    resized = cv2.resize(image, d, interpolation = cv2.INTER_AREA)\n",
        "    height, width = resized.shape[0], resized.shape[1];\n",
        "    if (height > width):\n",
        "      resized = cv2.copyMakeBorder(resized, 0,0,0,1, cv2.BORDER_CONSTANT, value=b)\n",
        "    if (height < width):\n",
        "      resized = cv2.copyMakeBorder(resized, 1,0,0,0, cv2.BORDER_CONSTANT, value=b)\n",
        "\n",
        "    resized = cv2.copyMakeBorder(resized, 2,2,2,2,cv2.BORDER_CONSTANT, value=b)\n",
        "    height, width = resized.shape[0], resized.shape[1]\t\n",
        "    \n",
        "    return resized\t\n",
        "\n",
        "def recognize_digit(image):\n",
        "    gray = cv2.cvtColor(image, cv2.COLOR_BGR2GRAY)\n",
        "    blur = cv2.GaussianBlur(gray, (5,5), 0)\n",
        "    canny = cv2.Canny(blur, 30, 150)\n",
        "\n",
        "    contours, _ = cv2.findContours(canny.copy(), cv2.RETR_EXTERNAL, cv2.CHAIN_APPROX_SIMPLE)\n",
        "    boundingBoxes = [cv2.boundingRect(c) for c in contours]\n",
        "    contours, _ = zip(*sorted(zip(contours, boundingBoxes),key=lambda b:b[1][0], reverse=False))\n",
        "\n",
        "    # Found number in the image\n",
        "    display = []\n",
        "\n",
        "    for contour in contours:\n",
        "      (x, y, w, h) = cv2.boundingRect(contour)\n",
        "        \n",
        "      if w>= 5 and h>=20:\n",
        "        area = blur[y:y+h, x:x+w]\n",
        "        ret, area = cv2.threshold(area, 127, 255, cv2.THRESH_BINARY_INV)\n",
        "            \n",
        "        new_square = drawSquare(area)\n",
        "        number = resize(new_square, 20)\n",
        "        result = number.reshape((1, 400)); \n",
        "        result = result.astype(np.float32);\n",
        "        ret, res, neighbours, distance = classifier_knn.findNearest(result, k=1)\n",
        "        n = str(int(float(res[0])))\n",
        "        display.append(n)\n",
        "\n",
        "        # draw rectangle around individual digit\n",
        "        cv2.rectangle(image, (x,y), (x+w, y+h), (255,0,0), 2)\n",
        "        cv2.putText(image, n, (x,y-8), cv2.FONT_ITALIC, 0.7, (0,255,0), 2)\n",
        "\n",
        "    return image, display\n",
        "\n",
        "# Do something interesting with the image data and paths\n",
        "if canvas_result.image_data is not None and predict:\n",
        "    resImg, resDigit = recognize_digit(canvas_result.image_data)\n",
        "    st.markdown(\"Prediction Result\")\n",
        "    st.image(resImg)\n",
        "    st.text(\"Digit Prediction : {}\".format(resDigit))"
      ],
      "metadata": {
        "colab": {
          "base_uri": "https://localhost:8080/"
        },
        "id": "GTifd3zZd-SX",
        "outputId": "a49ce263-283b-443f-8bf1-82f15a05c5b7"
      },
      "execution_count": 70,
      "outputs": [
        {
          "output_type": "stream",
          "name": "stdout",
          "text": [
            "Overwriting app.py\n"
          ]
        }
      ]
    },
    {
      "cell_type": "markdown",
      "source": [
        "Local Tunnel"
      ],
      "metadata": {
        "id": "5aC9v5qoD0SD"
      }
    },
    {
      "cell_type": "code",
      "source": [
        "!streamlit run app.py & npx localtunnel --port 8501"
      ],
      "metadata": {
        "colab": {
          "base_uri": "https://localhost:8080/"
        },
        "id": "Sa3BeilsU8F3",
        "outputId": "4b13fe07-b337-4dd3-a4c3-613167e3bc21"
      },
      "execution_count": 71,
      "outputs": [
        {
          "output_type": "stream",
          "name": "stdout",
          "text": [
            "2023-01-10 10:08:03.867 INFO    numexpr.utils: NumExpr defaulting to 2 threads.\n",
            "\u001b[K\u001b[?25hnpx: installed 22 in 2.46s\n",
            "\n",
            "Collecting usage statistics. To deactivate, set browser.gatherUsageStats to False.\n",
            "\u001b[0m\n",
            "\u001b[0m\n",
            "\u001b[34m\u001b[1m  You can now view your Streamlit app in your browser.\u001b[0m\n",
            "\u001b[0m\n",
            "\u001b[34m  Network URL: \u001b[0m\u001b[1mhttp://172.28.0.12:8501\u001b[0m\n",
            "\u001b[34m  External URL: \u001b[0m\u001b[1mhttp://34.82.241.231:8501\u001b[0m\n",
            "\u001b[0m\n",
            "your url is: https://common-needles-bake-34-82-241-231.loca.lt\n",
            "\u001b[34m  Stopping...\u001b[0m\n",
            "^C\n"
          ]
        }
      ]
    },
    {
      "cell_type": "markdown",
      "source": [
        "Ngrok"
      ],
      "metadata": {
        "id": "YNXx-I2gD6pm"
      }
    },
    {
      "cell_type": "code",
      "source": [
        "!pip install pyngrok"
      ],
      "metadata": {
        "id": "YL36PbW4Amk8",
        "outputId": "f1af730f-19b3-4a49-8e80-71f01892c722",
        "colab": {
          "base_uri": "https://localhost:8080/"
        }
      },
      "execution_count": 30,
      "outputs": [
        {
          "output_type": "stream",
          "name": "stdout",
          "text": [
            "Looking in indexes: https://pypi.org/simple, https://us-python.pkg.dev/colab-wheels/public/simple/\n",
            "Collecting pyngrok\n",
            "  Downloading pyngrok-5.2.1.tar.gz (761 kB)\n",
            "\u001b[2K     \u001b[90m━━━━━━━━━━━━━━━━━━━━━━━━━━━━━━━━━━━━━━\u001b[0m \u001b[32m761.3/761.3 KB\u001b[0m \u001b[31m15.9 MB/s\u001b[0m eta \u001b[36m0:00:00\u001b[0m\n",
            "\u001b[?25h  Preparing metadata (setup.py) ... \u001b[?25l\u001b[?25hdone\n",
            "Requirement already satisfied: PyYAML in /usr/local/lib/python3.8/dist-packages (from pyngrok) (6.0)\n",
            "Building wheels for collected packages: pyngrok\n",
            "  Building wheel for pyngrok (setup.py) ... \u001b[?25l\u001b[?25hdone\n",
            "  Created wheel for pyngrok: filename=pyngrok-5.2.1-py3-none-any.whl size=19792 sha256=0d43babcddde4206085a1ef8b9736c573985eb6fc4fda696befe1f7fa9419461\n",
            "  Stored in directory: /root/.cache/pip/wheels/5d/f2/70/526da675d32f17577ec47ac4c663084efe39d47c826b6c3bb1\n",
            "Successfully built pyngrok\n",
            "Installing collected packages: pyngrok\n",
            "Successfully installed pyngrok-5.2.1\n"
          ]
        }
      ]
    },
    {
      "cell_type": "code",
      "source": [
        "!streamlit run app.py &>/dev/null&"
      ],
      "metadata": {
        "id": "wK1RqVl-B_MD"
      },
      "execution_count": 52,
      "outputs": []
    },
    {
      "cell_type": "code",
      "source": [
        "from pyngrok import ngrok\n",
        "!ngrok authtoken 2K5VMsLbfPowtf2cr81cJBK9NSq_5woqSrwvdkEpaCqsU9LdJ"
      ],
      "metadata": {
        "id": "zMamNwcPCE5M",
        "outputId": "35b566a9-7a8a-4bcb-a546-983e75d29390",
        "colab": {
          "base_uri": "https://localhost:8080/"
        }
      },
      "execution_count": 53,
      "outputs": [
        {
          "output_type": "stream",
          "name": "stdout",
          "text": [
            "Authtoken saved to configuration file: /root/.ngrok2/ngrok.yml\n"
          ]
        }
      ]
    },
    {
      "cell_type": "code",
      "source": [
        "public_url = ngrok.connect(port='8501')\n",
        "public_url"
      ],
      "metadata": {
        "id": "rPFnaN3kAu32",
        "outputId": "4cb524d1-cb79-4981-8ee8-95081555f2e5",
        "colab": {
          "base_uri": "https://localhost:8080/"
        }
      },
      "execution_count": 54,
      "outputs": [
        {
          "output_type": "execute_result",
          "data": {
            "text/plain": [
              "<NgrokTunnel: \"http://1aa8-34-82-241-231.ngrok.io\" -> \"http://localhost:80\">"
            ]
          },
          "metadata": {},
          "execution_count": 54
        }
      ]
    },
    {
      "cell_type": "code",
      "source": [
        "# Kill Ngrok After Use\n",
        "ngrok.kill()"
      ],
      "metadata": {
        "id": "Z73ZQJX5DXte"
      },
      "execution_count": 56,
      "outputs": []
    },
    {
      "cell_type": "markdown",
      "source": [
        "Streamlit Create Dataset"
      ],
      "metadata": {
        "id": "gJ6Hezc7PbWy"
      }
    },
    {
      "cell_type": "code",
      "source": [
        "%%writefile app.py\n",
        "import numpy as np\n",
        "import streamlit as st\n",
        "from streamlit_drawable_canvas import st_canvas\n",
        "import cv2\n",
        "import uuid\n",
        "from io import BytesIO, BufferedReader\n",
        "\n",
        "\n",
        "st.title(\"Drawable Canvas for Digit Recognition Dataset\")\n",
        "st.markdown(\">The app lets users draw digit on to a canvas and input label of the drawed digit. Then it will show the inputted data and user can download drawed digit image for Digit Recognition Dataset\")\n",
        "st.header(\"🎲 How to Use the Application\")\n",
        "st.markdown(\n",
        "     \"\"\"\n",
        "    * Draw Digit as your desire \n",
        "    * You can Undo, Redo or Delete your drawing with button in the bottom left of the canvas \n",
        "    * Please Don't forget to Press ⬇️ Send Button in the bottom left of the canvas!\n",
        "    * Input the Drawed Digit label in the Label Section!\n",
        "    * Press Input Button if you're done with your drawing and the inputted data will be shown bellow\n",
        "    * Now download Button will be appear!  \n",
        "    * Press download Button and the drawed digit image will be downloaded for your dataset!\n",
        "    \"\"\"\n",
        "    )\n",
        "st.write(\" \")\n",
        "st.write(\" \")\n",
        "st.write(\" \")\n",
        "\n",
        "st.markdown(\"Draw Digit [0-9]\")\n",
        "# Create a canvas component\n",
        "canvas_result = st_canvas(\n",
        "    fill_color=\"rgba(255, 165, 0, 0.3)\",  # Fixed fill color with some opacity\n",
        "    stroke_width=4,\n",
        "    stroke_color=\"black\",\n",
        "    background_color=\"#eee\",\n",
        "    background_image=None,\n",
        "    update_streamlit=False,\n",
        "    height=200,\n",
        "    width=200,\n",
        "    drawing_mode=\"freedraw\",\n",
        "    point_display_radius= 0,\n",
        "    display_toolbar=True,\n",
        "    key=\"full_app\",\n",
        ")\n",
        "\n",
        "label = st.text_input('Label', '')\n",
        "\n",
        "input = st.button(\"Input\")\n",
        "\n",
        "# Do something interesting with the image data and paths\n",
        "if canvas_result.image_data is not None and input:\n",
        "    st.markdown(\"Inputted Data\")\n",
        "    st.image(canvas_result.image_data)\n",
        "    st.text(\"Label : {}\".format(label))\n",
        "\n",
        "    random = uuid.uuid4().hex\n",
        "    ret, img_enco = cv2.imencode(\".png\", canvas_result.image_data) \n",
        "    srt_enco = img_enco.tostring() \n",
        "    img_BytesIO = BytesIO(srt_enco)\n",
        "    img_BufferedReader = BufferedReader(img_BytesIO)\n",
        "\n",
        "    btn = st.download_button(\n",
        "            label=\"Download the Image\",\n",
        "            data=img_BufferedReader,\n",
        "            file_name= label + \"-\" + random +\".png\",\n",
        "            mime=\"image/png\"\n",
        "          )"
      ],
      "metadata": {
        "colab": {
          "base_uri": "https://localhost:8080/"
        },
        "id": "aQZMZA6PeJ6y",
        "outputId": "dcf9532d-a77b-42c0-c9be-db76df720dba"
      },
      "execution_count": 61,
      "outputs": [
        {
          "output_type": "stream",
          "name": "stdout",
          "text": [
            "Overwriting app.py\n"
          ]
        }
      ]
    }
  ]
}